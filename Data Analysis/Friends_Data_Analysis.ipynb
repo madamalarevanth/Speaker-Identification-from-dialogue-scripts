{
  "cells": [
    {
      "cell_type": "markdown",
      "metadata": {
        "id": "LPMU5F6WDSb1"
      },
      "source": [
        "# Import Packages"
      ]
    },
    {
      "cell_type": "code",
      "execution_count": 2,
      "metadata": {
        "id": "CA2MVXKgDSb4"
      },
      "outputs": [],
      "source": [
        "import pandas as pd\n",
        "import numpy as np\n",
        "from collections import defaultdict\n",
        "import re\n",
        "import json\n",
        "import seaborn as sns\n",
        "import matplotlib.pyplot as plt\n",
        "import warnings\n"
      ]
    },
    {
      "cell_type": "markdown",
      "metadata": {
        "id": "n3vw4nGQDSb6"
      },
      "source": [
        "# Import Data after Webscraping"
      ]
    },
    {
      "cell_type": "code",
      "execution_count": 3,
      "metadata": {
        "id": "ELUSj_z5DSb7"
      },
      "outputs": [],
      "source": [
        "data = pd.read_csv('Friends_transcripts.csv')"
      ]
    },
    {
      "cell_type": "markdown",
      "metadata": {
        "id": "x2UFAKZRDSb7"
      },
      "source": [
        "# Data Inspection"
      ]
    },
    {
      "cell_type": "code",
      "execution_count": 4,
      "metadata": {
        "colab": {
          "base_uri": "https://localhost:8080/",
          "height": 0
        },
        "id": "KpCIpTITDSb7",
        "outputId": "a86d37cb-a3ab-4eda-baca-29d47e386211"
      },
      "outputs": [
        {
          "output_type": "stream",
          "name": "stdout",
          "text": [
            "<class 'pandas.core.frame.DataFrame'>\n",
            "RangeIndex: 51766 entries, 0 to 51765\n",
            "Data columns (total 4 columns):\n",
            " #   Column         Non-Null Count  Dtype \n",
            "---  ------         --------------  ----- \n",
            " 0   Episodes       51766 non-null  object\n",
            " 1   Episode_Names  51766 non-null  object\n",
            " 2   Characters     51766 non-null  object\n",
            " 3   Lines          51766 non-null  object\n",
            "dtypes: object(4)\n",
            "memory usage: 1.6+ MB\n"
          ]
        }
      ],
      "source": [
        "pd.set_option('display.max_colwidth', None)\n",
        "data.info()"
      ]
    },
    {
      "cell_type": "code",
      "execution_count": 5,
      "metadata": {
        "colab": {
          "base_uri": "https://localhost:8080/",
          "height": 206
        },
        "id": "86xnKvkmDSb8",
        "outputId": "789ecbfd-cfcd-4def-8964-26f040bfc898"
      },
      "outputs": [
        {
          "output_type": "execute_result",
          "data": {
            "text/plain": [
              "  Episodes           Episode_Names Characters  \\\n",
              "0      101  Monica Gets A Roommate     MONICA   \n",
              "1      101  Monica Gets A Roommate       JOEY   \n",
              "2      101  Monica Gets A Roommate   CHANDLER   \n",
              "3      101  Monica Gets A Roommate     PHOEBE   \n",
              "4      101  Monica Gets A Roommate     PHOEBE   \n",
              "\n",
              "                                                                              Lines  \n",
              "0                          There's nothing to tell! He's just some guy I work with!  \n",
              "1  C'mon, you're going out with the guy! There's gotta be something wrong with him!  \n",
              "2          All right Joey, be nice. So does he have a hump? A hump and a hairpiece?  \n",
              "3                                                          Wait, does he eat chalk?  \n",
              "4   Just, 'cause, I don't want her to go through what I went through with Carl- oh!  "
            ],
            "text/html": [
              "\n",
              "  <div id=\"df-a5e839b6-2f67-435c-8b92-e4403d153480\">\n",
              "    <div class=\"colab-df-container\">\n",
              "      <div>\n",
              "<style scoped>\n",
              "    .dataframe tbody tr th:only-of-type {\n",
              "        vertical-align: middle;\n",
              "    }\n",
              "\n",
              "    .dataframe tbody tr th {\n",
              "        vertical-align: top;\n",
              "    }\n",
              "\n",
              "    .dataframe thead th {\n",
              "        text-align: right;\n",
              "    }\n",
              "</style>\n",
              "<table border=\"1\" class=\"dataframe\">\n",
              "  <thead>\n",
              "    <tr style=\"text-align: right;\">\n",
              "      <th></th>\n",
              "      <th>Episodes</th>\n",
              "      <th>Episode_Names</th>\n",
              "      <th>Characters</th>\n",
              "      <th>Lines</th>\n",
              "    </tr>\n",
              "  </thead>\n",
              "  <tbody>\n",
              "    <tr>\n",
              "      <th>0</th>\n",
              "      <td>101</td>\n",
              "      <td>Monica Gets A Roommate</td>\n",
              "      <td>MONICA</td>\n",
              "      <td>There's nothing to tell! He's just some guy I work with!</td>\n",
              "    </tr>\n",
              "    <tr>\n",
              "      <th>1</th>\n",
              "      <td>101</td>\n",
              "      <td>Monica Gets A Roommate</td>\n",
              "      <td>JOEY</td>\n",
              "      <td>C'mon, you're going out with the guy! There's gotta be something wrong with him!</td>\n",
              "    </tr>\n",
              "    <tr>\n",
              "      <th>2</th>\n",
              "      <td>101</td>\n",
              "      <td>Monica Gets A Roommate</td>\n",
              "      <td>CHANDLER</td>\n",
              "      <td>All right Joey, be nice. So does he have a hump? A hump and a hairpiece?</td>\n",
              "    </tr>\n",
              "    <tr>\n",
              "      <th>3</th>\n",
              "      <td>101</td>\n",
              "      <td>Monica Gets A Roommate</td>\n",
              "      <td>PHOEBE</td>\n",
              "      <td>Wait, does he eat chalk?</td>\n",
              "    </tr>\n",
              "    <tr>\n",
              "      <th>4</th>\n",
              "      <td>101</td>\n",
              "      <td>Monica Gets A Roommate</td>\n",
              "      <td>PHOEBE</td>\n",
              "      <td>Just, 'cause, I don't want her to go through what I went through with Carl- oh!</td>\n",
              "    </tr>\n",
              "  </tbody>\n",
              "</table>\n",
              "</div>\n",
              "      <button class=\"colab-df-convert\" onclick=\"convertToInteractive('df-a5e839b6-2f67-435c-8b92-e4403d153480')\"\n",
              "              title=\"Convert this dataframe to an interactive table.\"\n",
              "              style=\"display:none;\">\n",
              "        \n",
              "  <svg xmlns=\"http://www.w3.org/2000/svg\" height=\"24px\"viewBox=\"0 0 24 24\"\n",
              "       width=\"24px\">\n",
              "    <path d=\"M0 0h24v24H0V0z\" fill=\"none\"/>\n",
              "    <path d=\"M18.56 5.44l.94 2.06.94-2.06 2.06-.94-2.06-.94-.94-2.06-.94 2.06-2.06.94zm-11 1L8.5 8.5l.94-2.06 2.06-.94-2.06-.94L8.5 2.5l-.94 2.06-2.06.94zm10 10l.94 2.06.94-2.06 2.06-.94-2.06-.94-.94-2.06-.94 2.06-2.06.94z\"/><path d=\"M17.41 7.96l-1.37-1.37c-.4-.4-.92-.59-1.43-.59-.52 0-1.04.2-1.43.59L10.3 9.45l-7.72 7.72c-.78.78-.78 2.05 0 2.83L4 21.41c.39.39.9.59 1.41.59.51 0 1.02-.2 1.41-.59l7.78-7.78 2.81-2.81c.8-.78.8-2.07 0-2.86zM5.41 20L4 18.59l7.72-7.72 1.47 1.35L5.41 20z\"/>\n",
              "  </svg>\n",
              "      </button>\n",
              "      \n",
              "  <style>\n",
              "    .colab-df-container {\n",
              "      display:flex;\n",
              "      flex-wrap:wrap;\n",
              "      gap: 12px;\n",
              "    }\n",
              "\n",
              "    .colab-df-convert {\n",
              "      background-color: #E8F0FE;\n",
              "      border: none;\n",
              "      border-radius: 50%;\n",
              "      cursor: pointer;\n",
              "      display: none;\n",
              "      fill: #1967D2;\n",
              "      height: 32px;\n",
              "      padding: 0 0 0 0;\n",
              "      width: 32px;\n",
              "    }\n",
              "\n",
              "    .colab-df-convert:hover {\n",
              "      background-color: #E2EBFA;\n",
              "      box-shadow: 0px 1px 2px rgba(60, 64, 67, 0.3), 0px 1px 3px 1px rgba(60, 64, 67, 0.15);\n",
              "      fill: #174EA6;\n",
              "    }\n",
              "\n",
              "    [theme=dark] .colab-df-convert {\n",
              "      background-color: #3B4455;\n",
              "      fill: #D2E3FC;\n",
              "    }\n",
              "\n",
              "    [theme=dark] .colab-df-convert:hover {\n",
              "      background-color: #434B5C;\n",
              "      box-shadow: 0px 1px 3px 1px rgba(0, 0, 0, 0.15);\n",
              "      filter: drop-shadow(0px 1px 2px rgba(0, 0, 0, 0.3));\n",
              "      fill: #FFFFFF;\n",
              "    }\n",
              "  </style>\n",
              "\n",
              "      <script>\n",
              "        const buttonEl =\n",
              "          document.querySelector('#df-a5e839b6-2f67-435c-8b92-e4403d153480 button.colab-df-convert');\n",
              "        buttonEl.style.display =\n",
              "          google.colab.kernel.accessAllowed ? 'block' : 'none';\n",
              "\n",
              "        async function convertToInteractive(key) {\n",
              "          const element = document.querySelector('#df-a5e839b6-2f67-435c-8b92-e4403d153480');\n",
              "          const dataTable =\n",
              "            await google.colab.kernel.invokeFunction('convertToInteractive',\n",
              "                                                     [key], {});\n",
              "          if (!dataTable) return;\n",
              "\n",
              "          const docLinkHtml = 'Like what you see? Visit the ' +\n",
              "            '<a target=\"_blank\" href=https://colab.research.google.com/notebooks/data_table.ipynb>data table notebook</a>'\n",
              "            + ' to learn more about interactive tables.';\n",
              "          element.innerHTML = '';\n",
              "          dataTable['output_type'] = 'display_data';\n",
              "          await google.colab.output.renderOutput(dataTable, element);\n",
              "          const docLink = document.createElement('div');\n",
              "          docLink.innerHTML = docLinkHtml;\n",
              "          element.appendChild(docLink);\n",
              "        }\n",
              "      </script>\n",
              "    </div>\n",
              "  </div>\n",
              "  "
            ]
          },
          "metadata": {},
          "execution_count": 5
        }
      ],
      "source": [
        "data.head()"
      ]
    },
    {
      "cell_type": "markdown",
      "metadata": {
        "id": "mtEwDlarDSb8"
      },
      "source": [
        "> It seems that character names are sometimes written in captial cases. and sometimes in lower case."
      ]
    },
    {
      "cell_type": "code",
      "execution_count": 6,
      "metadata": {
        "colab": {
          "base_uri": "https://localhost:8080/",
          "height": 0
        },
        "id": "mIO0s5Y8DSb9",
        "outputId": "482de5d7-c94c-4994-db8b-6966f9e4bd19"
      },
      "outputs": [
        {
          "output_type": "execute_result",
          "data": {
            "text/plain": [
              "['Episodes', 'Episode_Names', 'Characters', 'Lines', 'Season']"
            ]
          },
          "metadata": {},
          "execution_count": 6
        }
      ],
      "source": [
        "# Lets make the character names consistent and add a new column 'Season'\n",
        "data.Characters = data.Characters.apply (lambda x:  str.upper(x))\n",
        "data['Season']= data.Episodes.apply(lambda x: int(x[0]) if len(x) in [3,7] else int(x[:2]))\n",
        "data_columns = list(data.columns)\n",
        "data_columns"
      ]
    },
    {
      "cell_type": "code",
      "execution_count": 7,
      "metadata": {
        "scrolled": false,
        "colab": {
          "base_uri": "https://localhost:8080/",
          "height": 507
        },
        "id": "AUuks5gWDSb9",
        "outputId": "61f3376d-53fa-46b4-b3c9-ed55a4278e32"
      },
      "outputs": [
        {
          "output_type": "execute_result",
          "data": {
            "text/plain": [
              "Text(0.5, 1.0, 'Total Number of Lines for Top 15 Characters in the Show ')"
            ]
          },
          "metadata": {},
          "execution_count": 7
        },
        {
          "output_type": "display_data",
          "data": {
            "text/plain": [
              "<Figure size 864x432 with 1 Axes>"
            ],
            "image/png": "[encoded data removed]"
          },
          "metadata": {
            "needs_background": "light"
          }
        }
      ],
      "source": [
        "Characters_per_rank = (data.Characters.value_counts()).index \n",
        "data_for_count_plot = data[data.Characters.isin (Characters_per_rank[0:15])]\n",
        "plt.figure(figsize = (12, 6))\n",
        "sns.countplot(x= 'Characters', order = Characters_per_rank[0:15], palette = 'muted', data = data_for_count_plot)\n",
        "plt.xlabel(\"Characters\", fontsize=16)\n",
        "plt.ylabel(\"Numer of Lines\", fontsize=16)\n",
        "plt.xticks(rotation = 90,  fontsize=16)\n",
        "plt.yticks(  fontsize= 16)\n",
        "plt.title(\"Total Number of Lines for Top 15 Characters in the Show \",fontsize=16)"
      ]
    },
    {
      "cell_type": "code",
      "execution_count": 8,
      "metadata": {
        "scrolled": true,
        "id": "aVGz3s1rDSb9"
      },
      "outputs": [],
      "source": [
        "data_lines_per_season = pd.pivot_table(data_for_count_plot,index=[\"Characters\",\"Season\"],values=[\"Lines\"],aggfunc='count')\n",
        "data_lines_per_season = data_lines_per_season.reset_index()\n",
        "data_lines_per_season_pivot = data_lines_per_season.pivot(index='Season', columns='Characters', values='Lines')"
      ]
    },
    {
      "cell_type": "code",
      "execution_count": 9,
      "metadata": {
        "colab": {
          "base_uri": "https://localhost:8080/",
          "height": 394
        },
        "id": "SHRP49kJDSb-",
        "outputId": "ac67d840-c822-4ca5-9a0f-851b6ac926b3"
      },
      "outputs": [
        {
          "output_type": "execute_result",
          "data": {
            "text/plain": [
              "Characters   ALL  CAROL  CHANDLER  CHARLIE  EMILY  FRANK  JANICE   JOEY  \\\n",
              "Season                                                                    \n",
              "1           90.0   73.0     764.0      NaN    NaN    NaN    38.0  612.0   \n",
              "2            8.0   29.0     227.0      NaN    NaN    NaN     7.0  172.0   \n",
              "3           53.0   27.0     783.0      NaN    NaN   79.0    62.0  738.0   \n",
              "4           38.0   11.0     842.0      NaN  131.0   28.0    27.0  748.0   \n",
              "5           44.0    7.0     936.0      NaN   29.0   25.0    14.0  921.0   \n",
              "6           23.0   13.0    1001.0      NaN    NaN    NaN     1.0  871.0   \n",
              "7           15.0   10.0     847.0      NaN    NaN    NaN    18.0  930.0   \n",
              "8            3.0    NaN     576.0      NaN    NaN    NaN    24.0  800.0   \n",
              "9            3.0    NaN     822.0    133.0    NaN    NaN    10.0  755.0   \n",
              "10          11.0    NaN     685.0     57.0    NaN    NaN    12.0  728.0   \n",
              "\n",
              "Characters   MIKE  MONICA   PAUL  PHOEBE  RACHEL   ROSS    TAG  \n",
              "Season                                                          \n",
              "1             NaN   854.0   17.0   592.0   822.0  915.0    NaN  \n",
              "2             NaN   243.0    NaN   193.0   259.0  278.0    NaN  \n",
              "3             3.0   814.0    NaN   764.0   880.0  998.0    NaN  \n",
              "4             4.0   712.0    NaN   652.0   859.0  760.0    NaN  \n",
              "5             NaN   891.0    NaN   805.0   902.0  866.0    NaN  \n",
              "6             NaN   870.0  116.0   760.0   950.0  876.0    NaN  \n",
              "7             NaN   899.0    NaN   798.0  1092.0  821.0  131.0  \n",
              "8             NaN   725.0    NaN   698.0  1004.0  873.0   15.0  \n",
              "9           227.0   781.0    NaN   703.0   802.0  787.0    NaN  \n",
              "10          115.0   680.0    NaN   685.0   763.0  861.0    NaN  "
            ],
            "text/html": [
              "\n",
              "  <div id=\"df-33354f2e-fa3b-4b8b-b81f-d762bad3127e\">\n",
              "    <div class=\"colab-df-container\">\n",
              "      <div>\n",
              "<style scoped>\n",
              "    .dataframe tbody tr th:only-of-type {\n",
              "        vertical-align: middle;\n",
              "    }\n",
              "\n",
              "    .dataframe tbody tr th {\n",
              "        vertical-align: top;\n",
              "    }\n",
              "\n",
              "    .dataframe thead th {\n",
              "        text-align: right;\n",
              "    }\n",
              "</style>\n",
              "<table border=\"1\" class=\"dataframe\">\n",
              "  <thead>\n",
              "    <tr style=\"text-align: right;\">\n",
              "      <th>Characters</th>\n",
              "      <th>ALL</th>\n",
              "      <th>CAROL</th>\n",
              "      <th>CHANDLER</th>\n",
              "      <th>CHARLIE</th>\n",
              "      <th>EMILY</th>\n",
              "      <th>FRANK</th>\n",
              "      <th>JANICE</th>\n",
              "      <th>JOEY</th>\n",
              "      <th>MIKE</th>\n",
              "      <th>MONICA</th>\n",
              "      <th>PAUL</th>\n",
              "      <th>PHOEBE</th>\n",
              "      <th>RACHEL</th>\n",
              "      <th>ROSS</th>\n",
              "      <th>TAG</th>\n",
              "    </tr>\n",
              "    <tr>\n",
              "      <th>Season</th>\n",
              "      <th></th>\n",
              "      <th></th>\n",
              "      <th></th>\n",
              "      <th></th>\n",
              "      <th></th>\n",
              "      <th></th>\n",
              "      <th></th>\n",
              "      <th></th>\n",
              "      <th></th>\n",
              "      <th></th>\n",
              "      <th></th>\n",
              "      <th></th>\n",
              "      <th></th>\n",
              "      <th></th>\n",
              "      <th></th>\n",
              "    </tr>\n",
              "  </thead>\n",
              "  <tbody>\n",
              "    <tr>\n",
              "      <th>1</th>\n",
              "      <td>90.0</td>\n",
              "      <td>73.0</td>\n",
              "      <td>764.0</td>\n",
              "      <td>NaN</td>\n",
              "      <td>NaN</td>\n",
              "      <td>NaN</td>\n",
              "      <td>38.0</td>\n",
              "      <td>612.0</td>\n",
              "      <td>NaN</td>\n",
              "      <td>854.0</td>\n",
              "      <td>17.0</td>\n",
              "      <td>592.0</td>\n",
              "      <td>822.0</td>\n",
              "      <td>915.0</td>\n",
              "      <td>NaN</td>\n",
              "    </tr>\n",
              "    <tr>\n",
              "      <th>2</th>\n",
              "      <td>8.0</td>\n",
              "      <td>29.0</td>\n",
              "      <td>227.0</td>\n",
              "      <td>NaN</td>\n",
              "      <td>NaN</td>\n",
              "      <td>NaN</td>\n",
              "      <td>7.0</td>\n",
              "      <td>172.0</td>\n",
              "      <td>NaN</td>\n",
              "      <td>243.0</td>\n",
              "      <td>NaN</td>\n",
              "      <td>193.0</td>\n",
              "      <td>259.0</td>\n",
              "      <td>278.0</td>\n",
              "      <td>NaN</td>\n",
              "    </tr>\n",
              "    <tr>\n",
              "      <th>3</th>\n",
              "      <td>53.0</td>\n",
              "      <td>27.0</td>\n",
              "      <td>783.0</td>\n",
              "      <td>NaN</td>\n",
              "      <td>NaN</td>\n",
              "      <td>79.0</td>\n",
              "      <td>62.0</td>\n",
              "      <td>738.0</td>\n",
              "      <td>3.0</td>\n",
              "      <td>814.0</td>\n",
              "      <td>NaN</td>\n",
              "      <td>764.0</td>\n",
              "      <td>880.0</td>\n",
              "      <td>998.0</td>\n",
              "      <td>NaN</td>\n",
              "    </tr>\n",
              "    <tr>\n",
              "      <th>4</th>\n",
              "      <td>38.0</td>\n",
              "      <td>11.0</td>\n",
              "      <td>842.0</td>\n",
              "      <td>NaN</td>\n",
              "      <td>131.0</td>\n",
              "      <td>28.0</td>\n",
              "      <td>27.0</td>\n",
              "      <td>748.0</td>\n",
              "      <td>4.0</td>\n",
              "      <td>712.0</td>\n",
              "      <td>NaN</td>\n",
              "      <td>652.0</td>\n",
              "      <td>859.0</td>\n",
              "      <td>760.0</td>\n",
              "      <td>NaN</td>\n",
              "    </tr>\n",
              "    <tr>\n",
              "      <th>5</th>\n",
              "      <td>44.0</td>\n",
              "      <td>7.0</td>\n",
              "      <td>936.0</td>\n",
              "      <td>NaN</td>\n",
              "      <td>29.0</td>\n",
              "      <td>25.0</td>\n",
              "      <td>14.0</td>\n",
              "      <td>921.0</td>\n",
              "      <td>NaN</td>\n",
              "      <td>891.0</td>\n",
              "      <td>NaN</td>\n",
              "      <td>805.0</td>\n",
              "      <td>902.0</td>\n",
              "      <td>866.0</td>\n",
              "      <td>NaN</td>\n",
              "    </tr>\n",
              "    <tr>\n",
              "      <th>6</th>\n",
              "      <td>23.0</td>\n",
              "      <td>13.0</td>\n",
              "      <td>1001.0</td>\n",
              "      <td>NaN</td>\n",
              "      <td>NaN</td>\n",
              "      <td>NaN</td>\n",
              "      <td>1.0</td>\n",
              "      <td>871.0</td>\n",
              "      <td>NaN</td>\n",
              "      <td>870.0</td>\n",
              "      <td>116.0</td>\n",
              "      <td>760.0</td>\n",
              "      <td>950.0</td>\n",
              "      <td>876.0</td>\n",
              "      <td>NaN</td>\n",
              "    </tr>\n",
              "    <tr>\n",
              "      <th>7</th>\n",
              "      <td>15.0</td>\n",
              "      <td>10.0</td>\n",
              "      <td>847.0</td>\n",
              "      <td>NaN</td>\n",
              "      <td>NaN</td>\n",
              "      <td>NaN</td>\n",
              "      <td>18.0</td>\n",
              "      <td>930.0</td>\n",
              "      <td>NaN</td>\n",
              "      <td>899.0</td>\n",
              "      <td>NaN</td>\n",
              "      <td>798.0</td>\n",
              "      <td>1092.0</td>\n",
              "      <td>821.0</td>\n",
              "      <td>131.0</td>\n",
              "    </tr>\n",
              "    <tr>\n",
              "      <th>8</th>\n",
              "      <td>3.0</td>\n",
              "      <td>NaN</td>\n",
              "      <td>576.0</td>\n",
              "      <td>NaN</td>\n",
              "      <td>NaN</td>\n",
              "      <td>NaN</td>\n",
              "      <td>24.0</td>\n",
              "      <td>800.0</td>\n",
              "      <td>NaN</td>\n",
              "      <td>725.0</td>\n",
              "      <td>NaN</td>\n",
              "      <td>698.0</td>\n",
              "      <td>1004.0</td>\n",
              "      <td>873.0</td>\n",
              "      <td>15.0</td>\n",
              "    </tr>\n",
              "    <tr>\n",
              "      <th>9</th>\n",
              "      <td>3.0</td>\n",
              "      <td>NaN</td>\n",
              "      <td>822.0</td>\n",
              "      <td>133.0</td>\n",
              "      <td>NaN</td>\n",
              "      <td>NaN</td>\n",
              "      <td>10.0</td>\n",
              "      <td>755.0</td>\n",
              "      <td>227.0</td>\n",
              "      <td>781.0</td>\n",
              "      <td>NaN</td>\n",
              "      <td>703.0</td>\n",
              "      <td>802.0</td>\n",
              "      <td>787.0</td>\n",
              "      <td>NaN</td>\n",
              "    </tr>\n",
              "    <tr>\n",
              "      <th>10</th>\n",
              "      <td>11.0</td>\n",
              "      <td>NaN</td>\n",
              "      <td>685.0</td>\n",
              "      <td>57.0</td>\n",
              "      <td>NaN</td>\n",
              "      <td>NaN</td>\n",
              "      <td>12.0</td>\n",
              "      <td>728.0</td>\n",
              "      <td>115.0</td>\n",
              "      <td>680.0</td>\n",
              "      <td>NaN</td>\n",
              "      <td>685.0</td>\n",
              "      <td>763.0</td>\n",
              "      <td>861.0</td>\n",
              "      <td>NaN</td>\n",
              "    </tr>\n",
              "  </tbody>\n",
              "</table>\n",
              "</div>\n",
              "      <button class=\"colab-df-convert\" onclick=\"convertToInteractive('df-33354f2e-fa3b-4b8b-b81f-d762bad3127e')\"\n",
              "              title=\"Convert this dataframe to an interactive table.\"\n",
              "              style=\"display:none;\">\n",
              "        \n",
              "  <svg xmlns=\"http://www.w3.org/2000/svg\" height=\"24px\"viewBox=\"0 0 24 24\"\n",
              "       width=\"24px\">\n",
              "    <path d=\"M0 0h24v24H0V0z\" fill=\"none\"/>\n",
              "    <path d=\"M18.56 5.44l.94 2.06.94-2.06 2.06-.94-2.06-.94-.94-2.06-.94 2.06-2.06.94zm-11 1L8.5 8.5l.94-2.06 2.06-.94-2.06-.94L8.5 2.5l-.94 2.06-2.06.94zm10 10l.94 2.06.94-2.06 2.06-.94-2.06-.94-.94-2.06-.94 2.06-2.06.94z\"/><path d=\"M17.41 7.96l-1.37-1.37c-.4-.4-.92-.59-1.43-.59-.52 0-1.04.2-1.43.59L10.3 9.45l-7.72 7.72c-.78.78-.78 2.05 0 2.83L4 21.41c.39.39.9.59 1.41.59.51 0 1.02-.2 1.41-.59l7.78-7.78 2.81-2.81c.8-.78.8-2.07 0-2.86zM5.41 20L4 18.59l7.72-7.72 1.47 1.35L5.41 20z\"/>\n",
              "  </svg>\n",
              "      </button>\n",
              "      \n",
              "  <style>\n",
              "    .colab-df-container {\n",
              "      display:flex;\n",
              "      flex-wrap:wrap;\n",
              "      gap: 12px;\n",
              "    }\n",
              "\n",
              "    .colab-df-convert {\n",
              "      background-color: #E8F0FE;\n",
              "      border: none;\n",
              "      border-radius: 50%;\n",
              "      cursor: pointer;\n",
              "      display: none;\n",
              "      fill: #1967D2;\n",
              "      height: 32px;\n",
              "      padding: 0 0 0 0;\n",
              "      width: 32px;\n",
              "    }\n",
              "\n",
              "    .colab-df-convert:hover {\n",
              "      background-color: #E2EBFA;\n",
              "      box-shadow: 0px 1px 2px rgba(60, 64, 67, 0.3), 0px 1px 3px 1px rgba(60, 64, 67, 0.15);\n",
              "      fill: #174EA6;\n",
              "    }\n",
              "\n",
              "    [theme=dark] .colab-df-convert {\n",
              "      background-color: #3B4455;\n",
              "      fill: #D2E3FC;\n",
              "    }\n",
              "\n",
              "    [theme=dark] .colab-df-convert:hover {\n",
              "      background-color: #434B5C;\n",
              "      box-shadow: 0px 1px 3px 1px rgba(0, 0, 0, 0.15);\n",
              "      filter: drop-shadow(0px 1px 2px rgba(0, 0, 0, 0.3));\n",
              "      fill: #FFFFFF;\n",
              "    }\n",
              "  </style>\n",
              "\n",
              "      <script>\n",
              "        const buttonEl =\n",
              "          document.querySelector('#df-33354f2e-fa3b-4b8b-b81f-d762bad3127e button.colab-df-convert');\n",
              "        buttonEl.style.display =\n",
              "          google.colab.kernel.accessAllowed ? 'block' : 'none';\n",
              "\n",
              "        async function convertToInteractive(key) {\n",
              "          const element = document.querySelector('#df-33354f2e-fa3b-4b8b-b81f-d762bad3127e');\n",
              "          const dataTable =\n",
              "            await google.colab.kernel.invokeFunction('convertToInteractive',\n",
              "                                                     [key], {});\n",
              "          if (!dataTable) return;\n",
              "\n",
              "          const docLinkHtml = 'Like what you see? Visit the ' +\n",
              "            '<a target=\"_blank\" href=https://colab.research.google.com/notebooks/data_table.ipynb>data table notebook</a>'\n",
              "            + ' to learn more about interactive tables.';\n",
              "          element.innerHTML = '';\n",
              "          dataTable['output_type'] = 'display_data';\n",
              "          await google.colab.output.renderOutput(dataTable, element);\n",
              "          const docLink = document.createElement('div');\n",
              "          docLink.innerHTML = docLinkHtml;\n",
              "          element.appendChild(docLink);\n",
              "        }\n",
              "      </script>\n",
              "    </div>\n",
              "  </div>\n",
              "  "
            ]
          },
          "metadata": {},
          "execution_count": 9
        }
      ],
      "source": [
        "data_lines_per_season_pivot"
      ]
    },
    {
      "cell_type": "code",
      "execution_count": 10,
      "metadata": {
        "scrolled": false,
        "colab": {
          "base_uri": "https://localhost:8080/",
          "height": 348
        },
        "id": "zbUDilKxDSb-",
        "outputId": "203449c7-2a3f-4cd1-9d72-78bc1a24ec17"
      },
      "outputs": [
        {
          "output_type": "execute_result",
          "data": {
            "text/plain": [
              "<matplotlib.legend.Legend at 0x7f27a4ded4d0>"
            ]
          },
          "metadata": {},
          "execution_count": 10
        },
        {
          "output_type": "display_data",
          "data": {
            "text/plain": [
              "<Figure size 864x432 with 0 Axes>"
            ]
          },
          "metadata": {}
        },
        {
          "output_type": "display_data",
          "data": {
            "text/plain": [
              "<Figure size 432x288 with 1 Axes>"
            ],
            "image/png": "[encoded data removed]"
          },
          "metadata": {
            "needs_background": "light"
          }
        }
      ],
      "source": [
        "data_lines_per_season_pivot = data_lines_per_season.pivot(index='Season', columns='Characters', values='Lines')\n",
        "data_lines_per_season_pivot.fillna(0)\n",
        "\n",
        "#sns.set()\n",
        "plt.figure(figsize=(12,6))\n",
        "data_lines_per_season_pivot.loc[:,Characters_per_rank[:14]].plot.bar(stacked=True)\n",
        "\n",
        "plt.xlabel( \"Season\",fontsize=16)\n",
        "plt.ylabel(\"Number of Lines\", fontsize=16)\n",
        "plt.xticks(  fontsize= 16,rotation = 90)\n",
        "plt.yticks(  fontsize= 16)\n",
        "plt.title(\"Lines per Season for Top 15 Characters in the Show\",fontsize=16)\n",
        "plt.legend(loc='upper right', bbox_to_anchor=(1.3, 1),prop={'size':10})"
      ]
    },
    {
      "cell_type": "markdown",
      "metadata": {
        "id": "iuDgSJgXDSb-"
      },
      "source": [
        "# Data Cleaning"
      ]
    },
    {
      "cell_type": "code",
      "execution_count": 11,
      "metadata": {
        "colab": {
          "base_uri": "https://localhost:8080/",
          "height": 0
        },
        "id": "UUo_59AFDSb_",
        "outputId": "f7b60b87-03ae-43e4-a431-4f94c2ebfaaa"
      },
      "outputs": [
        {
          "output_type": "stream",
          "name": "stderr",
          "text": [
            "[nltk_data] Downloading package averaged_perceptron_tagger to\n",
            "[nltk_data]     /root/nltk_data...\n",
            "[nltk_data]   Unzipping taggers/averaged_perceptron_tagger.zip.\n",
            "[nltk_data] Downloading package wordnet to /root/nltk_data...\n"
          ]
        }
      ],
      "source": [
        "# Define a function to return the wordnet object value corresponding to the POS tag\n",
        "\n",
        "import nltk\n",
        "from nltk.corpus import wordnet\n",
        "from nltk import pos_tag\n",
        "nltk.download('averaged_perceptron_tagger')\n",
        "nltk.download('wordnet')\n",
        "\n",
        "def get_wordnet_pos(pos_tag):\n",
        "\n",
        "    if pos_tag.startswith('J'):\n",
        "        \n",
        "        return wordnet.ADJ\n",
        "\n",
        "    elif pos_tag.startswith('V'):\n",
        "\n",
        "        return wordnet.VERB\n",
        "\n",
        "    elif pos_tag.startswith('N'):\n",
        "\n",
        "        return wordnet.NOUN\n",
        "\n",
        "    elif pos_tag.startswith('R'):\n",
        "\n",
        "        return wordnet.ADV\n",
        "\n",
        "    else:\n",
        "\n",
        "        return wordnet.NOUN"
      ]
    },
    {
      "cell_type": "code",
      "source": [
        "data"
      ],
      "metadata": {
        "id": "n7UW7r0HEZ6X"
      },
      "execution_count": null,
      "outputs": []
    },
    {
      "cell_type": "code",
      "execution_count": 12,
      "metadata": {
        "scrolled": true,
        "colab": {
          "base_uri": "https://localhost:8080/",
          "height": 0
        },
        "id": "qxHqr7r7DSb_",
        "outputId": "d14fdd5b-b4cd-4fdb-c523-cc8fd37f6ef5"
      },
      "outputs": [
        {
          "output_type": "stream",
          "name": "stderr",
          "text": [
            "[nltk_data] Downloading package stopwords to /root/nltk_data...\n",
            "[nltk_data]   Unzipping corpora/stopwords.zip.\n",
            "[nltk_data] Downloading package omw-1.4 to /root/nltk_data...\n"
          ]
        }
      ],
      "source": [
        "# write a function to clean text    \n",
        "import string\n",
        "from nltk import pos_tag\n",
        "from nltk.corpus import stopwords\n",
        "from nltk.tokenize import WhitespaceTokenizer\n",
        "from nltk.stem import WordNetLemmatizer\n",
        "import nltk\n",
        "nltk.download('stopwords')\n",
        "nltk.download('omw-1.4')\n",
        "\n",
        "def clean_text(text):\n",
        "    #print(text)\n",
        "    # lower text\n",
        "    text = text.lower()\n",
        "\n",
        "    # tokenize text for space and \\n\n",
        "    text = re.split('\\s+|\\n',text)\n",
        "    \n",
        "    # remove puncutation\n",
        "    text = [word.strip(string.punctuation) for word in text]\n",
        "\n",
        "    # remove words that contain numbers\n",
        "    text = [word for word in text if not any(c.isdigit() for c in word)]\n",
        "\n",
        "    # remove stop words\n",
        "    stop = set(stopwords.words('english'))\n",
        "    text = [x for x in text if x not in stop]\n",
        "\n",
        "    # remove empty tokens\n",
        "    text = [t for t in text if len(t) > 0]\n",
        "\n",
        "    # pos tag text\n",
        "    pos_tags = pos_tag(text)\n",
        "\n",
        "    # create a (word, pos_tag) tuple for each word in text and then lemmatize text\n",
        "    text = [WordNetLemmatizer().lemmatize(t[0], get_wordnet_pos(t[1])) for t in pos_tags]\n",
        "\n",
        "    # remove words with only one letter\n",
        "    text = [t for t in text if len(t) > 1]\n",
        "\n",
        "    # join all\n",
        "    text = \" \".join(text)\n",
        "\n",
        "    return(text)\n",
        "\n",
        "# call the function to clean text data\n",
        "data[\"Lines\"] = data[\"Lines\"].apply(lambda x: clean_text(x))\n",
        "data[\"Lines\"].head()\n",
        "\n",
        "# Eliminate any row with no entry fordata['Lines'] after cleaning \n",
        "data['Lines'].replace('', np.NaN, inplace=True)\n",
        "data.dropna(inplace=True)"
      ]
    },
    {
      "cell_type": "code",
      "execution_count": null,
      "metadata": {
        "id": "Ti2B86OZDSb_",
        "outputId": "0d2155e7-74ed-4afc-e4ca-262af00262c3"
      },
      "outputs": [
        {
          "data": {
            "text/html": [
              "<div>\n",
              "<style scoped>\n",
              "    .dataframe tbody tr th:only-of-type {\n",
              "        vertical-align: middle;\n",
              "    }\n",
              "\n",
              "    .dataframe tbody tr th {\n",
              "        vertical-align: top;\n",
              "    }\n",
              "\n",
              "    .dataframe thead th {\n",
              "        text-align: right;\n",
              "    }\n",
              "</style>\n",
              "<table border=\"1\" class=\"dataframe\">\n",
              "  <thead>\n",
              "    <tr style=\"text-align: right;\">\n",
              "      <th></th>\n",
              "      <th>Episodes</th>\n",
              "      <th>Episode_Names</th>\n",
              "      <th>Characters</th>\n",
              "      <th>Lines</th>\n",
              "      <th>Season</th>\n",
              "    </tr>\n",
              "  </thead>\n",
              "  <tbody>\n",
              "    <tr>\n",
              "      <th>0</th>\n",
              "      <td>101</td>\n",
              "      <td>Monica Gets A Roommate</td>\n",
              "      <td>MONICA</td>\n",
              "      <td>there's nothing tell he's guy work</td>\n",
              "      <td>1</td>\n",
              "    </tr>\n",
              "    <tr>\n",
              "      <th>1</th>\n",
              "      <td>101</td>\n",
              "      <td>Monica Gets A Roommate</td>\n",
              "      <td>JOEY</td>\n",
              "      <td>c'mon go guy there's gotta something wrong</td>\n",
              "      <td>1</td>\n",
              "    </tr>\n",
              "    <tr>\n",
              "      <th>2</th>\n",
              "      <td>101</td>\n",
              "      <td>Monica Gets A Roommate</td>\n",
              "      <td>CHANDLER</td>\n",
              "      <td>right joey nice hump hump hairpiece</td>\n",
              "      <td>1</td>\n",
              "    </tr>\n",
              "    <tr>\n",
              "      <th>3</th>\n",
              "      <td>101</td>\n",
              "      <td>Monica Gets A Roommate</td>\n",
              "      <td>PHOEBE</td>\n",
              "      <td>wait eat chalk</td>\n",
              "      <td>1</td>\n",
              "    </tr>\n",
              "    <tr>\n",
              "      <th>4</th>\n",
              "      <td>101</td>\n",
              "      <td>Monica Gets A Roommate</td>\n",
              "      <td>PHOEBE</td>\n",
              "      <td>cause want go go carl oh</td>\n",
              "      <td>1</td>\n",
              "    </tr>\n",
              "  </tbody>\n",
              "</table>\n",
              "</div>"
            ],
            "text/plain": [
              "  Episodes           Episode_Names Characters  \\\n",
              "0      101  Monica Gets A Roommate     MONICA   \n",
              "1      101  Monica Gets A Roommate       JOEY   \n",
              "2      101  Monica Gets A Roommate   CHANDLER   \n",
              "3      101  Monica Gets A Roommate     PHOEBE   \n",
              "4      101  Monica Gets A Roommate     PHOEBE   \n",
              "\n",
              "                                        Lines  Season  \n",
              "0          there's nothing tell he's guy work       1  \n",
              "1  c'mon go guy there's gotta something wrong       1  \n",
              "2         right joey nice hump hump hairpiece       1  \n",
              "3                              wait eat chalk       1  \n",
              "4                    cause want go go carl oh       1  "
            ]
          },
          "execution_count": 12,
          "metadata": {},
          "output_type": "execute_result"
        }
      ],
      "source": [
        "data.head()"
      ]
    },
    {
      "cell_type": "code",
      "execution_count": 13,
      "metadata": {
        "id": "4t2al9yqDScA"
      },
      "outputs": [],
      "source": [
        "# keep a list of all words and a set for all characters for future use in the code\n",
        "import itertools\n",
        "line_tokenized = [ re.split(' ',text) for text in data['Lines'].dropna()]\n",
        "all_words = list(itertools.chain.from_iterable(line_tokenized))\n",
        "all_characters = set(data.Characters)"
      ]
    },
    {
      "cell_type": "markdown",
      "metadata": {
        "id": "wD-5tXPwDScA"
      },
      "source": [
        "# Interactive EDA: Visualize Word/Letter Density for Different Actors"
      ]
    },
    {
      "cell_type": "code",
      "execution_count": 56,
      "metadata": {
        "scrolled": false,
        "colab": {
          "referenced_widgets": [
            "b659fd8a92c94338a6566e8093fa8fca",
            "8068ebe95a014057b11acece89467e12",
            "b1d72d3168a24293a055b7367d314798",
            "7b00a268b8954367ae50eaa968222997",
            "3959583f6dc9442c96dcc904c9a73386",
            "0484fb5fc4784b38b74e96b82a531b0e",
            "90be8540a07a47179987de1ef5661b88"
          ],
          "base_uri": "https://localhost:8080/",
          "height": 411
        },
        "id": "xSw-LnUzDScA",
        "outputId": "9426aa07-c0f8-425c-b2b9-2109e61935de"
      },
      "outputs": [
        {
          "output_type": "display_data",
          "data": {
            "text/plain": [
              "interactive(children=(Dropdown(description='Character_Name', options=('RACHEL', 'ROSS', 'CHANDLER', 'MONICA', …"
            ],
            "application/vnd.jupyter.widget-view+json": {
              "version_major": 2,
              "version_minor": 0,
              "model_id": "b659fd8a92c94338a6566e8093fa8fca"
            }
          },
          "metadata": {}
        },
        {
          "output_type": "execute_result",
          "data": {
            "text/plain": [
              "<function __main__.word_letter_density_distribution(Character_Name)>"
            ]
          },
          "metadata": {},
          "execution_count": 56
        }
      ],
      "source": [
        "# create figure\n",
        "import ipywidgets as widgets\n",
        "from ipywidgets import interact\n",
        "\n",
        "def word_letter_density_distribution(Character_Name):\n",
        "    f, ax1 = plt.subplots(figsize=(12,5))\n",
        "\n",
        "    if Character_Name in all_characters:\n",
        "        letter_count  = data[\"Lines\"][data.Characters == Character_Name].str.len()\n",
        "        word_count    =  data[\"Lines\"][data.Characters == Character_Name].str.split(' ').str.len()\n",
        "    else:\n",
        "        letter_count  = data[\"Lines\"].str.len()\n",
        "        word_count    =  data[\"Lines\"].str.split(' ').str.len()\n",
        "    plt1 = sns.distplot(letter_count[letter_count<1000], ax=ax1, label='letters')\n",
        "    plt2 = sns.distplot(word_count[word_count<1000], ax=ax1, color='orange', label='words')\n",
        "\n",
        "    # add legend, title, and labels\n",
        "    legend = plt.legend( prop={'size': 16})\n",
        "    title = plt.title('Density of word and letter counts in lines of the transcripts')\n",
        "    labels = ax1.set(xlabel='Number of Letters or Words', ylabel='Density')\n",
        "\n",
        "    ax1.set_xlim(0, 200)\n",
        "    ax1.set_ylim(0, 0.25)\n",
        "\n",
        "    for item in ([ax1.title, ax1.xaxis.label, ax1.yaxis.label] +\n",
        "             ax1.get_xticklabels() + ax1.get_yticklabels()):\n",
        "        item.set_fontsize(16)\n",
        "      \n",
        "# features to visualize\n",
        "Selection_Options = list(Characters_per_rank[:20])\n",
        "Selection_Options.append('All Characters')\n",
        "style = {'description_width': 'initial'}\n",
        "warnings.filterwarnings('ignore')\n",
        "interact(word_letter_density_distribution, Character_Name = Selection_Options,style = style)\n"
      ]
    },
    {
      "cell_type": "markdown",
      "metadata": {
        "id": "UNBup9F8DScA"
      },
      "source": [
        "# Cumulative Distribution of Word Density for Lines in the Transcript"
      ]
    },
    {
      "cell_type": "code",
      "execution_count": 57,
      "metadata": {
        "scrolled": true,
        "id": "QuKqyE7iDScB",
        "outputId": "8c85eea5-fb6f-4ed6-bbf0-f9f6ad4c31b0",
        "colab": {
          "base_uri": "https://localhost:8080/",
          "height": 362
        }
      },
      "outputs": [
        {
          "output_type": "display_data",
          "data": {
            "text/plain": [
              "<Figure size 864x360 with 1 Axes>"
            ],
            "image/png": "[encoded data removed]"
          },
          "metadata": {
            "needs_background": "light"
          }
        }
      ],
      "source": [
        "def ECDF(Character_Name1):\n",
        "    if Character_Name1 in all_characters:\n",
        "        word_count1    =  data[\"Lines\"][data.Characters == Character_Name1].str.split(' ').str.len() \n",
        "    else: \n",
        "        word_count1    =  data[\"Lines\"].str.split(' ').str.len()\n",
        "    \n",
        "           \n",
        "    x1 = np.sort(word_count1)\n",
        "    n1 = len(word_count1)\n",
        "    y1 = np.arange(1, n1+1) / n1\n",
        "    return x1,y1\n",
        "    \n",
        "\n",
        "x1,y1 = ECDF('ROSS')\n",
        "x2,y2 = ECDF('PHOEBE')\n",
        "x3,y3 = ECDF ('JANICE')\n",
        "x4,y4 = ECDF ('MIKE')\n",
        "x5,y5 = ECDF('ALL')\n",
        "\n",
        "plt.figure(figsize = (12,5))\n",
        "\n",
        "plt.plot(x1 , y1,marker = '.' , linestyle = 'none', label = 'ROSS')\n",
        "plt.plot(x2 , y2 ,marker = '.' , linestyle = 'none', label = 'PHOEBE')\n",
        "plt.plot(x3 , y3 ,marker = '.' , linestyle = 'none', label = 'JANICE')\n",
        "plt.plot(x4 , y4,marker = '.' , linestyle = 'none', label = 'MIKE')\n",
        "plt.plot(x5 , y5 ,marker = '.' , linestyle = 'none', label = 'All Characters')\n",
        "\n",
        "# Label the axes\n",
        "plt.xlabel('Word Count', fontsize= 16)\n",
        "plt.ylabel('ECDF',fontsize= 16)\n",
        "plt.xticks(  fontsize= 16)\n",
        "plt.yticks(  fontsize= 16)\n",
        "plt.title(\"CDF for Word Count per Line\",fontsize=16)\n",
        "#plt.legend(loc='lower right', bbox_to_anchor=(1.3, 1),prop={'size':10})\n",
        "plt.legend(loc='lower right')\n",
        "plt.xlim([0,60])\n",
        "plt.show()\n"
      ]
    },
    {
      "cell_type": "markdown",
      "metadata": {
        "id": "sMSMolvnDScB"
      },
      "source": [
        "# Interactive EDA: WordCloud for Leading Actors"
      ]
    },
    {
      "cell_type": "code",
      "execution_count": 59,
      "metadata": {
        "id": "sg-9l3yYDScB"
      },
      "outputs": [],
      "source": [
        "from wordcloud import WordCloud\n",
        "import matplotlib.pyplot as plt\n",
        "from PIL import Image\n",
        "#from resizeimage import resizeimage\n",
        "from collections import Counter\n",
        "\n",
        "#define a function to plot word cloud\n",
        "\n",
        "def show_wordcloud(data,Filter_Common_Words, Desired_Character = 'All Friends'):\n",
        "    \n",
        "    \n",
        "    #define the image mask for word_cloud plot\n",
        "  \n",
        "    image = Image.open('{0}.png'.format( Desired_Character))\n",
        "        \n",
        "    mask = np.array(image)\n",
        "    def transform_format(val):\n",
        "        if val == 0:\n",
        "            return 255\n",
        "        else:\n",
        "            return val\n",
        "    \n",
        "    transformed_mask = np.ndarray((mask.shape[0],mask.shape[1]), np.int32)\n",
        "\n",
        "    for i in range(len(mask)):\n",
        "        transformed_mask[i] = list(map(transform_format, mask[i]))\n",
        "    \n",
        "    # Select a list of most common words to filter from the word cloud\n",
        "    \n",
        "    if Filter_Common_Words>0:\n",
        "        \n",
        "        #sort all word per their frequency and make a list to filter\n",
        "        list1=all_words\n",
        "        counts = Counter(list1)\n",
        "        most_common = sorted(counts, key=counts.get, reverse=True)[0:Filter_Common_Words]\n",
        "        \n",
        "        #make sure that names of the characters are not in the filter\n",
        "        most_common = [word  for word in most_common if not word.upper() in all_characters]\n",
        "        most_common.append('NaN')\n",
        "\n",
        "        wordcloud = WordCloud (stopwords=most_common,\n",
        "                                width=800, height=400,\n",
        "                                background_color = 'white',\n",
        "                                scale =3,\n",
        "                                max_words = 200, \n",
        "                                mask = transformed_mask,\n",
        "                                random_state = 42, \n",
        "                                contour_width=3, contour_color='steelblue'\n",
        "                             ).generate(str(data))\n",
        "    else:\n",
        "         wordcloud = WordCloud (width=800, height=400,\n",
        "                                background_color = 'white',\n",
        "                                scale =3,\n",
        "                                max_words = 250, \n",
        "                                mask = transformed_mask,\n",
        "                                random_state = 42, \n",
        "                                contour_width=3, contour_color='steelblue',\n",
        "                                collocations = False,\n",
        "                             ).generate(str(data))\n",
        "        \n",
        "    # plot wordcloud\n",
        "    fig = plt.figure(1, figsize = (10, 10))\n",
        "    plt.title('WordCloud: {0}'.format(Desired_Character), fontsize = 32, loc= 'center')\n",
        "    plt.axis('off')\n",
        "    \n",
        "    fig.subplots_adjust(top = 2.3)\n",
        "    \n",
        "    plt.tight_layout()\n",
        "    # show plot\n",
        "    plt.imshow(wordcloud,interpolation='bilinear')"
      ]
    },
    {
      "cell_type": "markdown",
      "metadata": {
        "id": "is1MlPwWDScB"
      },
      "source": [
        "# Make a list of most common words"
      ]
    },
    {
      "cell_type": "code",
      "execution_count": 60,
      "metadata": {
        "scrolled": false,
        "colab": {
          "referenced_widgets": [
            "488cba4585a34fb1b8629802896a1d38",
            "e44db0a94283455ea0ea3dc71c4bb6a6",
            "45a63837f56c4ac2b84a0dda60bf31c4",
            "d2441869998a49feaaafb0b152be565c",
            "1c9f74b8e92c412d9fc57cfee0f8b94a",
            "81023066a1c54704ba5a7870e85c89ab",
            "152912d0ee7f4c9b9e028f8a41e3e05c",
            "01629857d7a2444ca1d49dc9a0c45241",
            "20ce3b537ec94e0db475839a2b41f8de",
            "12931118789247c685de8dbe1e7c3fdc"
          ],
          "base_uri": "https://localhost:8080/",
          "height": 705
        },
        "id": "lD582Tz5DScC",
        "outputId": "31ac5342-aef0-460a-a320-21c097194399"
      },
      "outputs": [
        {
          "output_type": "display_data",
          "data": {
            "text/plain": [
              "interactive(children=(Dropdown(description='Desired_Character', options=('ROSS', 'MONICA', 'RACHEL', 'PHOEBE',…"
            ],
            "application/vnd.jupyter.widget-view+json": {
              "version_major": 2,
              "version_minor": 0,
              "model_id": "488cba4585a34fb1b8629802896a1d38"
            }
          },
          "metadata": {}
        },
        {
          "output_type": "execute_result",
          "data": {
            "text/plain": [
              "<function __main__.wordcloud_generator(Desired_Character, Filter_Common_Words)>"
            ]
          },
          "metadata": {},
          "execution_count": 60
        }
      ],
      "source": [
        "import ipywidgets as widgets\n",
        "\n",
        "from ipywidgets import interact\n",
        "\n",
        "def wordcloud_generator(Desired_Character, Filter_Common_Words):\n",
        "    if Desired_Character in all_characters:\n",
        "        show_wordcloud(data[\"Lines\"][data.Characters == Desired_Character], Filter_Common_Words, Desired_Character)\n",
        "    else:\n",
        "         show_wordcloud(data[\"Lines\"], Filter_Common_Words)\n",
        "     \n",
        "# features to visualize\n",
        "\n",
        "\n",
        "style = {'description_width': 'initial'}\n",
        "slider_range = widgets.IntSlider(value=1000, min=0, max=15149,style=style)\n",
        "slider_range.style.handle_color = 'lightblue'\n",
        "\n",
        "origin = widgets.Dropdown(\n",
        "    options=list( ['ROSS','MONICA','RACHEL','PHOEBE','JOEY','CHANDLER', 'All Friends']),\n",
        "    description='Desired_Character',style = style)\n",
        "    \n",
        "interact(wordcloud_generator, Desired_Character = origin, Filter_Common_Words = slider_range,style = style)\n"
      ]
    },
    {
      "cell_type": "markdown",
      "metadata": {
        "id": "OgueptHZDScC"
      },
      "source": [
        "# Export DataFrame for Further Analysis"
      ]
    },
    {
      "cell_type": "code",
      "execution_count": null,
      "metadata": {
        "id": "bb1E3KFRDScC"
      },
      "outputs": [],
      "source": [
        "#There are 305 chacracters, lets limit the analysis for top 15 to simplify the project\n",
        "# import data\n",
        "data.to_csv('data_clean.csv', encoding = 'utf-8')\n"
      ]
    },
    {
      "cell_type": "code",
      "execution_count": 61,
      "metadata": {
        "id": "Vh8t0AFzDScC"
      },
      "outputs": [],
      "source": [
        "threshold = 15\n",
        "data = data[data.Characters.isin(Characters_per_rank[0:threshold])]\n",
        "tokenized_data = data[\"Lines\"].apply(lambda text: re.split(' ',text))\n",
        "my_tags = Characters_per_rank[0:threshold]\n",
        "# Label Character\n",
        "from sklearn import preprocessing\n",
        "label = preprocessing.LabelEncoder()\n",
        "target = label.fit_transform(data['Characters'].astype(str))"
      ]
    },
    {
      "cell_type": "markdown",
      "source": [
        "# Latent Semantic and Sentiment Analysis"
      ],
      "metadata": {
        "id": "2pzg8Spcub56"
      }
    },
    {
      "cell_type": "code",
      "source": [
        "is_char = data.Characters.isin(['PHOEBE','ROSS','CHANDLER','JOEY','MONICA','RACHEL'])\n",
        "friends_char_df = data[is_char]\n",
        "friends_char_df"
      ],
      "metadata": {
        "id": "kzzA1cijufXn"
      },
      "execution_count": null,
      "outputs": []
    },
    {
      "cell_type": "code",
      "source": [
        "phoebe_text = list(friends_char_df[friends_char_df.Characters == 'PHOEBE'].Lines)\n",
        "ross_text = list(friends_char_df[friends_char_df.Characters == 'ROSS'].Lines)\n",
        "chandler_text = list(friends_char_df[friends_char_df.Characters == 'CHANDLER'].Lines)\n",
        "joey_text = list(friends_char_df[friends_char_df.Characters == 'JOEY'].Lines)\n",
        "monica_text = list(friends_char_df[friends_char_df.Characters == 'MONICA'].Lines)\n",
        "rachel_text = list(friends_char_df[friends_char_df.Characters == 'RACHEL'].Lines)"
      ],
      "metadata": {
        "id": "f8lDEcmWumHG"
      },
      "execution_count": 15,
      "outputs": []
    },
    {
      "cell_type": "code",
      "source": [
        "from nltk.tokenize import RegexpTokenizer\n",
        "from nltk.corpus import stopwords\n",
        "from nltk.stem.porter import PorterStemmer\n",
        "from nltk.stem import WordNetLemmatizer\n",
        "\n",
        "def preprocess_data(doc_set):\n",
        "    \"\"\"\n",
        "    Input  : docuemnt list\n",
        "    Purpose: preprocess text (tokenize, removing stopwords, and stemming)\n",
        "    Output : preprocessed text\n",
        "    \"\"\"\n",
        "    # initialize regex tokenizer\n",
        "    tokenizer = RegexpTokenizer(r'\\w+')\n",
        "    # create English stop words list\n",
        "    en_stop = set(stopwords.words('english'))\n",
        "    # Create p_stemmer of class PorterStemmer\n",
        "    p_stemmer = PorterStemmer()\n",
        "    # list for tokenized documents in loop\n",
        "    texts = []\n",
        "    # loop through document list\n",
        "    for i in doc_set:\n",
        "        # clean and tokenize document string\n",
        "        raw = i.lower()\n",
        "        tokens = tokenizer.tokenize(raw)\n",
        "        stopped_tokens = [i for i in tokens if not i in en_stop]\n",
        "        # stem tokens\n",
        "        stemmed_tokens = [p_stemmer.stem(i) for i in stopped_tokens]\n",
        "        # stem tokens\n",
        "        \n",
        "        # add tokens to list\n",
        "        texts.append(stemmed_tokens)\n",
        "    return texts"
      ],
      "metadata": {
        "id": "6pZMtv18unWY"
      },
      "execution_count": 16,
      "outputs": []
    },
    {
      "cell_type": "code",
      "source": [
        "from gensim import corpora\n",
        "def prepare_corpus(doc_clean):\n",
        "    \"\"\"\n",
        "    Input  : clean document\n",
        "    Purpose: create term dictionary of our courpus and Converting list of documents (corpus) into Document Term Matrix\n",
        "    Output : term dictionary and Document Term Matrix\n",
        "    \"\"\"\n",
        "    # Creating the term dictionary of our courpus, where every unique term is assigned an index. dictionary = corpora.Dictionary(doc_clean)\n",
        "    dictionary = corpora.Dictionary(doc_clean)\n",
        "    # Converting list of documents (corpus) into Document Term Matrix using dictionary prepared above.\n",
        "    doc_term_matrix = [dictionary.doc2bow(doc) for doc in doc_clean]\n",
        "    # generate LDA model\n",
        "    return dictionary,doc_term_matrix"
      ],
      "metadata": {
        "id": "ZO3H6t9zupmc"
      },
      "execution_count": 17,
      "outputs": []
    },
    {
      "cell_type": "code",
      "source": [
        "def create_gensim_lsa_model(doc_clean,number_of_topics,words):\n",
        "    \"\"\"\n",
        "    Input  : clean document, number of topics and number of words associated with each topic\n",
        "    Purpose: create LSA model using gensim\n",
        "    Output : return LSA model\n",
        "    \"\"\"\n",
        "\n",
        "    d,dtm=prepare_corpus(doc_clean)\n",
        "    lsa = LsiModel(dtm, num_topics=number_of_topics, id2word = d)\n",
        "    return lsa "
      ],
      "metadata": {
        "id": "4DpIqYDFusvh"
      },
      "execution_count": 18,
      "outputs": []
    },
    {
      "cell_type": "code",
      "source": [
        "from gensim.models import LsiModel\n",
        "from gensim.models.coherencemodel import CoherenceModel\n",
        "def compute_coherence_values(term_dictionary, doc_term_matrix, cleaned_documents_list, start, stop, step):\n",
        "    \"\"\"\n",
        "    Input: term_dictionary, doc_term_matrix, cleaned_documents_list, \n",
        "           start(Min. number of topics),\n",
        "           stop(Max. num of topics)\n",
        "           step(Step size when increasing the number of topics) \n",
        "    Output  : coherence_values : Coherence values corresponding to the LDA model with respective number of topics\n",
        "    \"\"\"\n",
        "    # YOUR CODE HERE\n",
        "    \n",
        "    mlist = []\n",
        "    cval = []\n",
        "    for n in range(start, stop, step):\n",
        "        m = LsiModel(doc_term_matrix, num_topics=n, id2word = term_dictionary)  \n",
        "        mlist.append(m)\n",
        "        cval.append(CoherenceModel(model=m, texts=cleaned_documents_list, dictionary=term_dictionary, coherence='c_v').get_coherence())\n",
        "    return cval"
      ],
      "metadata": {
        "id": "Idx9K6XpuuRA"
      },
      "execution_count": 19,
      "outputs": []
    },
    {
      "cell_type": "code",
      "source": [
        "def plot_graph(coherence_values,start, stop, step):\n",
        "    '''\n",
        "    Input: Coherence Values, Start, Stop, Step\n",
        "    Output: N/A(Should not return anything, but should plot the graph between the number of topics and coherence values.)\n",
        "    '''\n",
        "    # YOUR CODE HERE\n",
        "    plt.plot(range(start, stop, step), coherence_values)\n",
        "    plt.xlabel(\"Number of Topics\")\n",
        "    plt.ylabel(\"Coherence score\")\n",
        "    plt.show()\n",
        "    return"
      ],
      "metadata": {
        "id": "K3stBgwjuwJ-"
      },
      "execution_count": 20,
      "outputs": []
    },
    {
      "cell_type": "code",
      "source": [
        "start,stop,step=2,16,1\n",
        "clean_documents_list=preprocess_data(phoebe_text)\n",
        "term_dictionary, doc_term_matrix = prepare_corpus(clean_documents_list)\n",
        "coherence_values = compute_coherence_values(term_dictionary, doc_term_matrix,clean_documents_list, start, stop, step)\n",
        "plot_graph(coherence_values,start,stop,step)"
      ],
      "metadata": {
        "colab": {
          "base_uri": "https://localhost:8080/",
          "height": 282
        },
        "id": "-8UtYwmVuxsy",
        "outputId": "385874b3-07b7-4be8-b832-36e1232fb2ab"
      },
      "execution_count": 31,
      "outputs": [
        {
          "output_type": "display_data",
          "data": {
            "text/plain": [
              "<Figure size 432x288 with 1 Axes>"
            ],
            "image/png": "[encoded data removed]"
          },
          "metadata": {
            "needs_background": "light"
          }
        }
      ]
    },
    {
      "cell_type": "code",
      "source": [
        "start,stop,step=2,16,1\n",
        "clean_documents_list=preprocess_data(ross_text)\n",
        "term_dictionary, doc_term_matrix = prepare_corpus(clean_documents_list)\n",
        "coherence_values = compute_coherence_values(term_dictionary, doc_term_matrix,clean_documents_list, start, stop, step)\n",
        "plot_graph(coherence_values,start,stop,step)"
      ],
      "metadata": {
        "colab": {
          "base_uri": "https://localhost:8080/",
          "height": 279
        },
        "id": "97tChIa6uzNw",
        "outputId": "87baabb3-62f8-4b78-fd7c-372245df56d5"
      },
      "execution_count": 30,
      "outputs": [
        {
          "output_type": "display_data",
          "data": {
            "text/plain": [
              "<Figure size 432x288 with 1 Axes>"
            ],
            "image/png": "[encoded data removed]"
          },
          "metadata": {
            "needs_background": "light"
          }
        }
      ]
    },
    {
      "cell_type": "code",
      "source": [
        "start,stop,step=2,16,1\n",
        "clean_documents_list=preprocess_data(monica_text)\n",
        "term_dictionary, doc_term_matrix = prepare_corpus(clean_documents_list)\n",
        "coherence_values = compute_coherence_values(term_dictionary, doc_term_matrix,clean_documents_list, start, stop, step)\n",
        "plot_graph(coherence_values,start,stop,step)"
      ],
      "metadata": {
        "colab": {
          "base_uri": "https://localhost:8080/",
          "height": 279
        },
        "id": "tkj2EFHruz9h",
        "outputId": "b86c5b95-6cca-4507-e945-3f1dadcdce32"
      },
      "execution_count": 24,
      "outputs": [
        {
          "output_type": "display_data",
          "data": {
            "text/plain": [
              "<Figure size 432x288 with 1 Axes>"
            ],
            "image/png": "[encoded data removed]"
          },
          "metadata": {
            "needs_background": "light"
          }
        }
      ]
    },
    {
      "cell_type": "code",
      "source": [
        "start,stop,step=2,16,1\n",
        "clean_documents_list=preprocess_data(chandler_text)\n",
        "term_dictionary, doc_term_matrix = prepare_corpus(clean_documents_list)\n",
        "coherence_values = compute_coherence_values(term_dictionary, doc_term_matrix,clean_documents_list, start, stop, step)\n",
        "plot_graph(coherence_values,start,stop,step)"
      ],
      "metadata": {
        "colab": {
          "base_uri": "https://localhost:8080/",
          "height": 279
        },
        "id": "tBDlUnhTu1kK",
        "outputId": "dc1b2a6b-2133-46aa-8fab-36afa1e7d05c"
      },
      "execution_count": 25,
      "outputs": [
        {
          "output_type": "display_data",
          "data": {
            "text/plain": [
              "<Figure size 432x288 with 1 Axes>"
            ],
            "image/png": "[encoded data removed]"
          },
          "metadata": {
            "needs_background": "light"
          }
        }
      ]
    },
    {
      "cell_type": "code",
      "source": [
        "start,stop,step=2,16,1\n",
        "clean_documents_list=preprocess_data(joey_text)\n",
        "term_dictionary, doc_term_matrix = prepare_corpus(clean_documents_list)\n",
        "coherence_values = compute_coherence_values(term_dictionary, doc_term_matrix,clean_documents_list, start, stop, step)\n",
        "plot_graph(coherence_values,start,stop,step)"
      ],
      "metadata": {
        "colab": {
          "base_uri": "https://localhost:8080/",
          "height": 279
        },
        "id": "giI2rnXxu5CH",
        "outputId": "44f5bfd7-4e67-41d1-a5f2-1e5530562238"
      },
      "execution_count": 26,
      "outputs": [
        {
          "output_type": "display_data",
          "data": {
            "text/plain": [
              "<Figure size 432x288 with 1 Axes>"
            ],
            "image/png": "[encoded data removed]"
          },
          "metadata": {
            "needs_background": "light"
          }
        }
      ]
    },
    {
      "cell_type": "code",
      "source": [
        "start,stop,step=2,16,1\n",
        "clean_documents_list=preprocess_data(rachel_text)\n",
        "term_dictionary, doc_term_matrix = prepare_corpus(clean_documents_list)\n",
        "coherence_values = compute_coherence_values(term_dictionary, doc_term_matrix,clean_documents_list, start, stop, step)\n",
        "plot_graph(coherence_values,start,stop,step)"
      ],
      "metadata": {
        "colab": {
          "base_uri": "https://localhost:8080/",
          "height": 279
        },
        "id": "ePh4ZBItu66Y",
        "outputId": "ff0d488a-420a-4b13-8568-b22afc16d886"
      },
      "execution_count": 33,
      "outputs": [
        {
          "output_type": "display_data",
          "data": {
            "text/plain": [
              "<Figure size 432x288 with 1 Axes>"
            ],
            "image/png": "[encoded data removed]"
          },
          "metadata": {
            "needs_background": "light"
          }
        }
      ]
    },
    {
      "cell_type": "code",
      "source": [
        "lchar = ['Phoebe','Ross','Chandler','Joey','Monica','Rachel']\n",
        "ltopics =[6,5,4,6,4,7]\n",
        "\n",
        "fig = plt.figure()\n",
        "ax = fig.add_axes([0,0,1,1])\n",
        "ax.set_title('Thought diversity score', pad=20)\n",
        "ax.bar(lchar,ltopics)\n",
        "plt.show()"
      ],
      "metadata": {
        "colab": {
          "base_uri": "https://localhost:8080/",
          "height": 366
        },
        "id": "1UZfU9Xku9AR",
        "outputId": "372a8bc4-2ced-45fe-8042-15dba95b5347"
      },
      "execution_count": 34,
      "outputs": [
        {
          "output_type": "display_data",
          "data": {
            "text/plain": [
              "<Figure size 432x288 with 1 Axes>"
            ],
            "image/png": "[encoded data removed]"
          },
          "metadata": {
            "needs_background": "light"
          }
        }
      ]
    },
    {
      "cell_type": "code",
      "source": [
        "number_of_topics=9\n",
        "words=20\n",
        "model=create_gensim_lsa_model(preprocess_data(rachel_text),number_of_topics,words)\n",
        "rachel_topics = model.print_topics(num_topics=number_of_topics, num_words=words)\n",
        "rachel_topics"
      ],
      "metadata": {
        "colab": {
          "base_uri": "https://localhost:8080/",
          "height": 0
        },
        "id": "XKnmjVLHu_0R",
        "outputId": "d896bcfd-6093-4cf3-df2b-89e597851888"
      },
      "execution_count": 63,
      "outputs": [
        {
          "output_type": "execute_result",
          "data": {
            "text/plain": [
              "[(0,\n",
              "  '-0.670*\"oh\" + -0.424*\"know\" + -0.193*\"okay\" + -0.181*\"get\" + -0.169*\"god\" + -0.140*\"well\" + -0.137*\"go\" + -0.134*\"gonna\" + -0.124*\"mean\" + -0.123*\"yeah\" + -0.115*\"think\" + -0.114*\"ross\" + -0.114*\"like\" + -0.112*\"right\" + -0.093*\"realli\" + -0.084*\"want\" + -0.081*\"look\" + -0.081*\"guy\" + -0.072*\"say\" + -0.071*\"come\"'),\n",
              " (1,\n",
              "  '-0.671*\"oh\" + 0.559*\"know\" + 0.198*\"okay\" + -0.191*\"god\" + 0.140*\"get\" + 0.137*\"well\" + 0.129*\"mean\" + 0.109*\"gonna\" + 0.107*\"right\" + 0.099*\"go\" + 0.098*\"think\" + 0.070*\"like\" + 0.066*\"yeah\" + 0.064*\"say\" + 0.054*\"want\" + 0.052*\"realli\" + 0.050*\"guy\" + 0.047*\"ross\" + 0.047*\"would\" + 0.044*\"one\"'),\n",
              " (2,\n",
              "  '0.786*\"okay\" + -0.506*\"know\" + 0.201*\"get\" + 0.125*\"right\" + 0.122*\"gonna\" + 0.106*\"go\" + -0.071*\"oh\" + -0.067*\"mean\" + 0.065*\"see\" + 0.051*\"well\" + 0.051*\"let\" + 0.040*\"come\" + 0.040*\"ross\" + 0.037*\"uh\" + 0.037*\"umm\" + 0.036*\"tell\" + 0.036*\"wait\" + -0.028*\"think\" + -0.026*\"yeah\" + 0.025*\"one\"'),\n",
              " (3,\n",
              "  '0.458*\"okay\" + -0.458*\"well\" + -0.429*\"get\" + 0.396*\"know\" + -0.334*\"yeah\" + -0.157*\"go\" + -0.113*\"gonna\" + -0.108*\"think\" + 0.092*\"oh\" + -0.091*\"uh\" + -0.075*\"say\" + -0.060*\"back\" + -0.051*\"realli\" + -0.050*\"would\" + -0.046*\"good\" + -0.044*\"right\" + -0.044*\"make\" + -0.043*\"umm\" + -0.043*\"ross\" + -0.042*\"guy\"'),\n",
              " (4,\n",
              "  '-0.602*\"get\" + 0.591*\"yeah\" + 0.409*\"well\" + 0.186*\"okay\" + -0.124*\"ross\" + -0.100*\"go\" + 0.092*\"uh\" + -0.074*\"mean\" + -0.067*\"gonna\" + -0.065*\"guy\" + -0.061*\"god\" + 0.058*\"umm\" + -0.054*\"want\" + -0.048*\"back\" + -0.042*\"right\" + 0.037*\"sure\" + -0.034*\"tell\" + -0.034*\"come\" + -0.031*\"marri\" + -0.028*\"joey\"'),\n",
              " (5,\n",
              "  '0.671*\"yeah\" + -0.574*\"well\" + 0.357*\"get\" + -0.210*\"go\" + -0.110*\"gonna\" + 0.061*\"okay\" + -0.057*\"think\" + -0.045*\"ross\" + -0.044*\"right\" + 0.044*\"know\" + -0.043*\"god\" + -0.039*\"come\" + -0.037*\"say\" + -0.034*\"see\" + -0.033*\"guy\" + -0.029*\"one\" + -0.027*\"ok\" + 0.025*\"sure\" + -0.023*\"let\" + -0.023*\"thank\"'),\n",
              " (6,\n",
              "  '0.424*\"get\" + 0.424*\"well\" + -0.410*\"gonna\" + -0.353*\"go\" + -0.333*\"right\" + -0.195*\"mean\" + 0.187*\"know\" + -0.153*\"ross\" + 0.152*\"okay\" + -0.141*\"yeah\" + -0.136*\"think\" + -0.110*\"come\" + -0.094*\"guy\" + -0.081*\"say\" + -0.067*\"want\" + 0.061*\"oh\" + -0.060*\"hey\" + -0.047*\"look\" + -0.047*\"like\" + -0.046*\"would\"'),\n",
              " (7,\n",
              "  '0.731*\"gonna\" + -0.419*\"go\" + 0.224*\"right\" + -0.176*\"mean\" + -0.172*\"realli\" + -0.140*\"hey\" + -0.128*\"think\" + -0.124*\"come\" + -0.109*\"ross\" + -0.101*\"like\" + -0.100*\"guy\" + 0.099*\"know\" + -0.098*\"look\" + -0.093*\"would\" + 0.084*\"well\" + 0.082*\"get\" + -0.075*\"want\" + 0.065*\"god\" + -0.064*\"love\" + -0.055*\"feel\"'),\n",
              " (8,\n",
              "  '0.665*\"go\" + -0.422*\"mean\" + -0.298*\"ross\" + -0.250*\"like\" + -0.246*\"think\" + 0.176*\"know\" + -0.131*\"realli\" + 0.116*\"right\" + -0.109*\"look\" + -0.105*\"want\" + -0.104*\"love\" + -0.081*\"guy\" + 0.080*\"get\" + 0.080*\"yeah\" + -0.074*\"say\" + 0.062*\"back\" + -0.058*\"would\" + -0.057*\"feel\" + 0.049*\"oh\" + 0.047*\"let\"')]"
            ]
          },
          "metadata": {},
          "execution_count": 63
        }
      ]
    },
    {
      "cell_type": "code",
      "source": [
        "number_of_topics=9\n",
        "words=20\n",
        "model=create_gensim_lsa_model(preprocess_data(monica_text),number_of_topics,words)\n",
        "monica_topics = model.print_topics(num_topics=number_of_topics, num_words=words)\n",
        "monica_topics"
      ],
      "metadata": {
        "colab": {
          "base_uri": "https://localhost:8080/",
          "height": 0
        },
        "id": "3763khQivBpn",
        "outputId": "f4f4925e-e695-40d5-ced9-89e53e50cb7e"
      },
      "execution_count": 64,
      "outputs": [
        {
          "output_type": "execute_result",
          "data": {
            "text/plain": [
              "[(0,\n",
              "  '-0.400*\"oh\" + -0.392*\"get\" + -0.375*\"know\" + -0.295*\"go\" + -0.268*\"okay\" + -0.178*\"gonna\" + -0.157*\"right\" + -0.150*\"god\" + -0.148*\"mean\" + -0.139*\"think\" + -0.133*\"want\" + -0.129*\"realli\" + -0.128*\"like\" + -0.114*\"well\" + -0.098*\"see\" + -0.096*\"yeah\" + -0.094*\"look\" + -0.090*\"say\" + -0.088*\"make\" + -0.087*\"come\"'),\n",
              " (1,\n",
              "  '0.818*\"oh\" + 0.337*\"god\" + -0.271*\"get\" + -0.199*\"know\" + -0.186*\"go\" + -0.154*\"okay\" + -0.077*\"think\" + -0.064*\"mean\" + -0.064*\"want\" + -0.050*\"well\" + -0.042*\"realli\" + -0.040*\"say\" + -0.036*\"right\" + -0.036*\"someth\" + -0.034*\"like\" + -0.034*\"one\" + -0.032*\"thing\" + -0.031*\"umm\" + -0.028*\"make\" + -0.026*\"time\"'),\n",
              " (2,\n",
              "  '0.768*\"get\" + -0.580*\"know\" + -0.110*\"mean\" + -0.086*\"think\" + -0.084*\"like\" + -0.071*\"realli\" + -0.055*\"want\" + 0.055*\"oh\" + -0.050*\"say\" + -0.047*\"well\" + -0.047*\"look\" + 0.043*\"god\" + -0.037*\"chandler\" + -0.037*\"thing\" + -0.037*\"make\" + 0.035*\"marri\" + -0.034*\"right\" + -0.034*\"would\" + 0.030*\"go\" + -0.030*\"good\"'),\n",
              " (3,\n",
              "  '-0.714*\"okay\" + 0.460*\"know\" + 0.355*\"get\" + -0.312*\"go\" + -0.098*\"gonna\" + -0.097*\"right\" + 0.059*\"like\" + 0.058*\"yeah\" + -0.058*\"let\" + -0.052*\"come\" + -0.044*\"wait\" + -0.039*\"make\" + 0.039*\"think\" + 0.028*\"thing\" + 0.028*\"mean\" + -0.026*\"phoeb\" + -0.024*\"pleas\" + 0.023*\"would\" + 0.023*\"marri\" + -0.022*\"joey\"'),\n",
              " (4,\n",
              "  '0.775*\"go\" + -0.551*\"okay\" + -0.168*\"know\" + -0.158*\"get\" + 0.106*\"gonna\" + 0.062*\"well\" + 0.055*\"hey\" + 0.053*\"guy\" + 0.046*\"right\" + 0.038*\"let\" + 0.035*\"want\" + -0.034*\"umm\" + 0.026*\"back\" + -0.025*\"good\" + 0.024*\"call\" + -0.024*\"sorri\" + 0.023*\"work\" + 0.021*\"two\" + -0.019*\"like\" + 0.017*\"girl\"'),\n",
              " (5,\n",
              "  '0.446*\"know\" + -0.390*\"think\" + 0.328*\"go\" + -0.278*\"realli\" + -0.268*\"well\" + -0.236*\"yeah\" + -0.213*\"mean\" + 0.200*\"okay\" + -0.168*\"gonna\" + -0.152*\"like\" + -0.111*\"make\" + -0.110*\"guy\" + 0.109*\"get\" + -0.108*\"right\" + -0.099*\"would\" + -0.098*\"come\" + -0.096*\"look\" + -0.091*\"hey\" + -0.087*\"say\" + 0.083*\"oh\"'),\n",
              " (6,\n",
              "  '0.893*\"gonna\" + -0.155*\"well\" + -0.154*\"go\" + -0.154*\"realli\" + -0.137*\"think\" + 0.134*\"right\" + -0.129*\"yeah\" + -0.100*\"like\" + -0.082*\"want\" + -0.067*\"umm\" + -0.067*\"oh\" + -0.066*\"okay\" + 0.064*\"babi\" + -0.054*\"look\" + 0.051*\"know\" + -0.050*\"see\" + 0.047*\"never\" + 0.045*\"tell\" + -0.045*\"could\" + -0.041*\"would\"'),\n",
              " (7,\n",
              "  '0.864*\"right\" + -0.204*\"think\" + -0.203*\"gonna\" + 0.197*\"yeah\" + -0.142*\"well\" + -0.130*\"realli\" + 0.119*\"come\" + -0.101*\"mean\" + -0.091*\"go\" + -0.088*\"okay\" + -0.088*\"like\" + 0.075*\"let\" + 0.056*\"tell\" + -0.055*\"god\" + 0.053*\"want\" + 0.048*\"hey\" + 0.043*\"one\" + 0.038*\"phoeb\" + -0.037*\"make\" + 0.036*\"guy\"'),\n",
              " (8,\n",
              "  '0.757*\"hey\" + -0.360*\"yeah\" + -0.262*\"well\" + 0.253*\"think\" + -0.174*\"like\" + 0.171*\"guy\" + -0.142*\"realli\" + -0.113*\"want\" + 0.094*\"chandler\" + 0.087*\"phoeb\" + -0.087*\"gonna\" + 0.085*\"come\" + 0.074*\"joey\" + 0.057*\"one\" + 0.049*\"rach\" + 0.048*\"see\" + -0.045*\"go\" + 0.043*\"rachel\" + 0.041*\"ross\" + 0.034*\"could\"')]"
            ]
          },
          "metadata": {},
          "execution_count": 64
        }
      ]
    },
    {
      "cell_type": "code",
      "source": [
        "number_of_topics=9\n",
        "words=20\n",
        "model=create_gensim_lsa_model(preprocess_data(ross_text),number_of_topics,words)\n",
        "ross_topics = model.print_topics(num_topics=number_of_topics, num_words=words)\n",
        "ross_topics"
      ],
      "metadata": {
        "colab": {
          "base_uri": "https://localhost:8080/",
          "height": 0
        },
        "id": "aNvr0hVHvDRn",
        "outputId": "5f64e1de-ce53-45b0-ad3c-7fc93ab87fc5"
      },
      "execution_count": 65,
      "outputs": [
        {
          "output_type": "execute_result",
          "data": {
            "text/plain": [
              "[(0,\n",
              "  '-0.494*\"know\" + -0.307*\"okay\" + -0.280*\"oh\" + -0.264*\"uh\" + -0.230*\"get\" + -0.214*\"go\" + -0.213*\"yeah\" + -0.166*\"mean\" + -0.155*\"well\" + -0.155*\"like\" + -0.149*\"right\" + -0.143*\"think\" + -0.141*\"hey\" + -0.130*\"look\" + -0.119*\"guy\" + -0.114*\"want\" + -0.114*\"gonna\" + -0.107*\"come\" + -0.103*\"say\" + -0.093*\"realli\"'),\n",
              " (1,\n",
              "  '0.842*\"okay\" + -0.326*\"oh\" + -0.313*\"know\" + -0.167*\"yeah\" + 0.104*\"go\" + -0.090*\"uh\" + 0.063*\"get\" + 0.062*\"look\" + 0.060*\"right\" + -0.054*\"god\" + 0.052*\"hey\" + 0.048*\"let\" + 0.043*\"gonna\" + -0.041*\"mean\" + -0.040*\"like\" + -0.028*\"think\" + -0.027*\"realli\" + 0.024*\"see\" + -0.023*\"guy\" + 0.023*\"take\"'),\n",
              " (2,\n",
              "  '-0.773*\"oh\" + 0.567*\"know\" + -0.118*\"god\" + -0.118*\"okay\" + -0.111*\"yeah\" + -0.098*\"uh\" + 0.078*\"mean\" + -0.062*\"hey\" + -0.042*\"get\" + 0.037*\"say\" + -0.033*\"come\" + 0.032*\"think\" + 0.030*\"go\" + -0.028*\"thank\" + 0.027*\"guy\" + 0.024*\"would\" + 0.021*\"want\" + 0.021*\"one\" + -0.020*\"great\" + 0.018*\"like\"'),\n",
              " (3,\n",
              "  '-0.647*\"yeah\" + -0.535*\"uh\" + 0.361*\"oh\" + 0.325*\"know\" + 0.145*\"hey\" + -0.097*\"well\" + 0.079*\"god\" + 0.073*\"okay\" + 0.044*\"look\" + 0.034*\"come\" + -0.032*\"go\" + -0.028*\"right\" + -0.026*\"think\" + -0.026*\"umm\" + -0.023*\"sure\" + -0.022*\"actual\" + -0.018*\"someth\" + -0.017*\"ye\" + -0.017*\"get\" + 0.016*\"great\"'),\n",
              " (4,\n",
              "  '-0.627*\"uh\" + 0.558*\"yeah\" + -0.463*\"hey\" + 0.147*\"okay\" + 0.120*\"know\" + 0.099*\"oh\" + -0.082*\"guy\" + 0.073*\"right\" + -0.068*\"well\" + 0.038*\"gonna\" + -0.036*\"huh\" + 0.031*\"mean\" + -0.028*\"like\" + 0.022*\"god\" + -0.021*\"rach\" + -0.020*\"joey\" + -0.019*\"someth\" + -0.019*\"get\" + -0.018*\"wow\" + -0.017*\"umm\"'),\n",
              " (5,\n",
              "  '-0.775*\"hey\" + 0.370*\"uh\" + -0.321*\"yeah\" + -0.259*\"get\" + 0.163*\"okay\" + 0.143*\"oh\" + 0.126*\"know\" + 0.071*\"well\" + -0.053*\"right\" + 0.049*\"like\" + -0.048*\"guy\" + -0.045*\"go\" + -0.030*\"whoa\" + 0.025*\"umm\" + 0.024*\"god\" + -0.023*\"one\" + -0.022*\"look\" + -0.021*\"come\" + -0.021*\"good\" + -0.019*\"gonna\"'),\n",
              " (6,\n",
              "  '0.506*\"go\" + 0.476*\"get\" + -0.318*\"know\" + -0.303*\"okay\" + -0.301*\"hey\" + -0.243*\"yeah\" + 0.162*\"right\" + -0.152*\"uh\" + 0.132*\"mean\" + 0.126*\"well\" + 0.092*\"think\" + 0.089*\"look\" + 0.088*\"gonna\" + 0.088*\"like\" + -0.088*\"oh\" + 0.066*\"realli\" + 0.065*\"come\" + 0.065*\"guy\" + 0.055*\"good\" + 0.043*\"thing\"'),\n",
              " (7,\n",
              "  '-0.682*\"get\" + 0.678*\"go\" + 0.134*\"hey\" + 0.083*\"guy\" + -0.076*\"like\" + 0.063*\"gonna\" + 0.052*\"think\" + 0.049*\"right\" + 0.045*\"yeah\" + -0.044*\"uh\" + -0.042*\"okay\" + -0.041*\"marri\" + 0.040*\"oh\" + 0.037*\"want\" + -0.032*\"big\" + -0.032*\"one\" + 0.031*\"well\" + -0.031*\"littl\" + -0.031*\"ye\" + 0.029*\"see\"'),\n",
              " (8,\n",
              "  '0.380*\"go\" + -0.377*\"like\" + 0.352*\"get\" + -0.332*\"mean\" + -0.304*\"think\" + 0.271*\"know\" + -0.242*\"guy\" + -0.237*\"look\" + -0.159*\"realli\" + 0.154*\"uh\" + -0.147*\"say\" + -0.115*\"come\" + -0.103*\"well\" + -0.095*\"good\" + -0.094*\"would\" + -0.091*\"gonna\" + 0.079*\"oh\" + -0.067*\"right\" + -0.060*\"make\" + -0.060*\"thing\"')]"
            ]
          },
          "metadata": {},
          "execution_count": 65
        }
      ]
    },
    {
      "cell_type": "code",
      "source": [
        "number_of_topics=9\n",
        "words=20\n",
        "model=create_gensim_lsa_model(preprocess_data(phoebe_text),number_of_topics,words)\n",
        "phoebe_topics = model.print_topics(num_topics=number_of_topics, num_words=words)\n",
        "phoebe_topics"
      ],
      "metadata": {
        "colab": {
          "base_uri": "https://localhost:8080/",
          "height": 0
        },
        "id": "_6VSCootvD3C",
        "outputId": "b05a6327-8347-42d9-e0bb-11aa3d2e9c97"
      },
      "execution_count": 66,
      "outputs": [
        {
          "output_type": "execute_result",
          "data": {
            "text/plain": [
              "[(0,\n",
              "  '-0.577*\"know\" + -0.476*\"oh\" + -0.287*\"okay\" + -0.206*\"like\" + -0.188*\"yeah\" + -0.183*\"get\" + -0.151*\"well\" + -0.145*\"go\" + -0.115*\"gonna\" + -0.114*\"realli\" + -0.113*\"right\" + -0.109*\"guy\" + -0.102*\"think\" + -0.087*\"look\" + -0.087*\"god\" + -0.083*\"one\" + -0.072*\"say\" + -0.072*\"mean\" + -0.070*\"want\" + -0.064*\"good\"'),\n",
              " (1,\n",
              "  '0.798*\"oh\" + -0.549*\"know\" + 0.145*\"god\" + -0.118*\"like\" + -0.050*\"well\" + -0.048*\"realli\" + -0.047*\"think\" + -0.043*\"gonna\" + -0.041*\"mean\" + -0.033*\"okay\" + 0.029*\"hi\" + -0.027*\"say\" + 0.026*\"thank\" + 0.025*\"wait\" + 0.022*\"look\" + -0.020*\"mayb\" + -0.019*\"would\" + -0.019*\"want\" + 0.018*\"hey\" + -0.018*\"get\"'),\n",
              " (2,\n",
              "  '-0.809*\"okay\" + 0.423*\"know\" + 0.235*\"oh\" + -0.131*\"right\" + -0.123*\"go\" + -0.120*\"well\" + -0.115*\"get\" + -0.079*\"gonna\" + 0.064*\"like\" + 0.057*\"god\" + -0.057*\"umm\" + -0.047*\"come\" + -0.040*\"good\" + -0.038*\"look\" + -0.038*\"let\" + -0.037*\"say\" + -0.037*\"take\" + -0.031*\"one\" + -0.030*\"see\" + -0.030*\"hey\"'),\n",
              " (3,\n",
              "  '0.891*\"yeah\" + -0.263*\"okay\" + -0.236*\"know\" + -0.126*\"oh\" + 0.110*\"go\" + 0.101*\"well\" + 0.075*\"get\" + 0.068*\"realli\" + 0.058*\"right\" + -0.041*\"god\" + 0.041*\"gonna\" + 0.039*\"one\" + 0.035*\"say\" + 0.033*\"see\" + 0.031*\"want\" + 0.031*\"ok\" + 0.030*\"huh\" + 0.026*\"um\" + 0.026*\"umm\" + 0.026*\"back\"'),\n",
              " (4,\n",
              "  '-0.444*\"go\" + -0.390*\"get\" + 0.368*\"okay\" + 0.361*\"yeah\" + -0.286*\"like\" + 0.264*\"know\" + -0.194*\"gonna\" + -0.172*\"well\" + -0.161*\"guy\" + -0.160*\"hey\" + -0.129*\"realli\" + 0.119*\"oh\" + -0.087*\"think\" + -0.079*\"right\" + -0.079*\"one\" + -0.064*\"ok\" + -0.063*\"ross\" + -0.055*\"look\" + -0.046*\"back\" + -0.045*\"want\"'),\n",
              " (5,\n",
              "  '0.710*\"like\" + -0.587*\"go\" + -0.188*\"gonna\" + -0.178*\"know\" + 0.103*\"realli\" + 0.097*\"guy\" + 0.097*\"get\" + 0.093*\"look\" + 0.063*\"ross\" + -0.056*\"want\" + 0.048*\"okay\" + 0.047*\"would\" + -0.042*\"well\" + 0.040*\"hey\" + 0.039*\"mean\" + 0.037*\"feel\" + 0.032*\"could\" + 0.029*\"kind\" + -0.029*\"hell\" + -0.027*\"one\"'),\n",
              " (6,\n",
              "  '-0.772*\"well\" + 0.420*\"go\" + 0.288*\"like\" + -0.156*\"get\" + 0.138*\"hey\" + -0.129*\"think\" + 0.120*\"okay\" + 0.102*\"yeah\" + 0.087*\"guy\" + -0.063*\"one\" + -0.060*\"want\" + -0.059*\"right\" + -0.055*\"say\" + -0.050*\"good\" + 0.049*\"ooh\" + -0.047*\"umm\" + 0.045*\"ross\" + -0.044*\"see\" + -0.042*\"tell\" + -0.030*\"make\"'),\n",
              " (7,\n",
              "  '0.814*\"get\" + -0.375*\"well\" + -0.264*\"like\" + -0.224*\"go\" + -0.106*\"look\" + -0.100*\"think\" + -0.071*\"hey\" + 0.065*\"know\" + -0.064*\"realli\" + 0.062*\"wait\" + -0.051*\"see\" + -0.040*\"say\" + 0.040*\"yeah\" + 0.040*\"marri\" + -0.039*\"guy\" + 0.036*\"one\" + -0.035*\"right\" + -0.034*\"tell\" + -0.028*\"time\" + 0.027*\"uhm\"'),\n",
              " (8,\n",
              "  '0.840*\"hey\" + -0.288*\"like\" + -0.255*\"go\" + 0.218*\"guy\" + 0.163*\"look\" + -0.091*\"well\" + 0.089*\"realli\" + 0.087*\"right\" + -0.080*\"get\" + 0.068*\"think\" + 0.053*\"good\" + 0.051*\"gonna\" + 0.047*\"joey\" + 0.047*\"want\" + 0.046*\"say\" + -0.044*\"okay\" + -0.041*\"oh\" + 0.040*\"chandler\" + 0.038*\"ooh\" + 0.037*\"monica\"')]"
            ]
          },
          "metadata": {},
          "execution_count": 66
        }
      ]
    },
    {
      "cell_type": "code",
      "source": [
        "number_of_topics=9\n",
        "words=20\n",
        "model=create_gensim_lsa_model(preprocess_data(joey_text),number_of_topics,words)\n",
        "joey_topics = model.print_topics(num_topics=number_of_topics, num_words=words)\n",
        "joey_topics"
      ],
      "metadata": {
        "colab": {
          "base_uri": "https://localhost:8080/",
          "height": 0
        },
        "id": "39qIdlIUvFnT",
        "outputId": "d0953dc1-a0dc-41f9-c9aa-635fa72f0403"
      },
      "execution_count": 67,
      "outputs": [
        {
          "output_type": "execute_result",
          "data": {
            "text/plain": [
              "[(0,\n",
              "  '0.448*\"know\" + 0.305*\"hey\" + 0.297*\"get\" + 0.290*\"yeah\" + 0.253*\"oh\" + 0.214*\"right\" + 0.214*\"like\" + 0.187*\"go\" + 0.184*\"look\" + 0.173*\"uh\" + 0.169*\"okay\" + 0.149*\"well\" + 0.128*\"guy\" + 0.118*\"think\" + 0.111*\"say\" + 0.111*\"gonna\" + 0.099*\"ross\" + 0.095*\"want\" + 0.095*\"one\" + 0.092*\"come\"'),\n",
              " (1,\n",
              "  '0.894*\"hey\" + -0.323*\"yeah\" + -0.258*\"know\" + -0.090*\"like\" + -0.054*\"oh\" + -0.050*\"well\" + 0.043*\"ross\" + -0.036*\"think\" + -0.034*\"realli\" + 0.031*\"guy\" + -0.031*\"mean\" + -0.023*\"see\" + 0.022*\"listen\" + -0.022*\"want\" + 0.018*\"rach\" + -0.018*\"okay\" + -0.017*\"thing\" + 0.016*\"come\" + -0.015*\"would\" + 0.015*\"let\"'),\n",
              " (2,\n",
              "  '-0.643*\"yeah\" + 0.600*\"know\" + -0.433*\"oh\" + 0.076*\"look\" + -0.075*\"hey\" + -0.067*\"uh\" + 0.054*\"guy\" + 0.049*\"like\" + 0.044*\"mean\" + 0.042*\"think\" + 0.031*\"gonna\" + 0.030*\"want\" + -0.029*\"okay\" + 0.028*\"could\" + 0.025*\"realli\" + -0.022*\"god\" + 0.017*\"tell\" + 0.017*\"never\" + 0.016*\"make\" + 0.016*\"way\"'),\n",
              " (3,\n",
              "  '0.477*\"know\" + 0.456*\"yeah\" + -0.427*\"get\" + -0.333*\"right\" + -0.278*\"okay\" + 0.276*\"hey\" + -0.182*\"go\" + -0.121*\"look\" + -0.100*\"well\" + -0.096*\"oh\" + -0.086*\"one\" + -0.062*\"gonna\" + -0.062*\"ross\" + -0.052*\"come\" + -0.051*\"say\" + -0.038*\"wait\" + -0.038*\"let\" + -0.037*\"uh\" + -0.034*\"whoa\" + -0.033*\"take\"'),\n",
              " (4,\n",
              "  '0.815*\"oh\" + -0.410*\"yeah\" + -0.240*\"get\" + -0.182*\"right\" + 0.171*\"know\" + -0.116*\"go\" + 0.085*\"uh\" + 0.067*\"god\" + -0.061*\"hey\" + -0.048*\"well\" + -0.046*\"like\" + -0.029*\"okay\" + -0.026*\"look\" + 0.023*\"wait\" + 0.022*\"man\" + -0.021*\"one\" + -0.021*\"littl\" + 0.019*\"come\" + -0.019*\"let\" + 0.017*\"sorri\"'),\n",
              " (5,\n",
              "  '0.753*\"get\" + -0.469*\"right\" + -0.305*\"okay\" + -0.245*\"look\" + -0.114*\"like\" + 0.075*\"oh\" + 0.067*\"know\" + -0.064*\"say\" + -0.055*\"go\" + -0.051*\"ross\" + 0.050*\"one\" + -0.047*\"come\" + -0.047*\"see\" + -0.042*\"gonna\" + -0.033*\"uh\" + -0.024*\"mean\" + -0.022*\"rach\" + -0.022*\"tell\" + -0.020*\"make\" + -0.019*\"let\"'),\n",
              " (6,\n",
              "  '-0.635*\"right\" + 0.470*\"like\" + 0.312*\"uh\" + 0.296*\"look\" + 0.229*\"okay\" + -0.204*\"know\" + -0.150*\"oh\" + -0.093*\"go\" + -0.079*\"get\" + 0.078*\"say\" + 0.069*\"think\" + 0.066*\"ross\" + 0.056*\"gonna\" + 0.048*\"thing\" + 0.048*\"huh\" + 0.047*\"want\" + 0.043*\"realli\" + 0.041*\"one\" + -0.040*\"yeah\" + 0.036*\"someth\"'),\n",
              " (7,\n",
              "  '0.552*\"go\" + -0.463*\"uh\" + 0.460*\"like\" + -0.397*\"okay\" + -0.142*\"get\" + -0.112*\"know\" + 0.106*\"guy\" + 0.088*\"say\" + 0.087*\"oh\" + -0.081*\"right\" + -0.076*\"look\" + 0.072*\"well\" + 0.067*\"one\" + 0.050*\"whoa\" + 0.041*\"gonna\" + -0.039*\"yeah\" + 0.039*\"realli\" + -0.029*\"come\" + 0.026*\"gotta\" + 0.026*\"could\"'),\n",
              " (8,\n",
              "  '0.559*\"go\" + -0.423*\"like\" + 0.367*\"well\" + 0.346*\"uh\" + -0.286*\"look\" + -0.235*\"right\" + -0.180*\"get\" + 0.118*\"okay\" + 0.109*\"think\" + 0.109*\"say\" + 0.086*\"gonna\" + -0.086*\"oh\" + 0.054*\"good\" + -0.041*\"guy\" + 0.037*\"want\" + -0.034*\"hey\" + -0.030*\"one\" + 0.029*\"mayb\" + 0.028*\"come\" + 0.026*\"huh\"')]"
            ]
          },
          "metadata": {},
          "execution_count": 67
        }
      ]
    },
    {
      "cell_type": "code",
      "source": [
        "number_of_topics=9\n",
        "words=20\n",
        "model=create_gensim_lsa_model(preprocess_data(chandler_text),number_of_topics,words)\n",
        "chandler_topics = model.print_topics(num_topics=number_of_topics, num_words=words)\n",
        "chandler_topics"
      ],
      "metadata": {
        "colab": {
          "base_uri": "https://localhost:8080/",
          "height": 0
        },
        "id": "7byO0AoZvHSC",
        "outputId": "b80b4e03-30fe-443e-bb47-4a020dbc3b07"
      },
      "execution_count": 68,
      "outputs": [
        {
          "output_type": "execute_result",
          "data": {
            "text/plain": [
              "[(0,\n",
              "  '-0.601*\"know\" + -0.302*\"get\" + -0.265*\"go\" + -0.226*\"okay\" + -0.202*\"oh\" + -0.182*\"well\" + -0.170*\"gonna\" + -0.162*\"think\" + -0.153*\"like\" + -0.142*\"look\" + -0.131*\"right\" + -0.126*\"yeah\" + -0.122*\"say\" + -0.110*\"mean\" + -0.105*\"guy\" + -0.098*\"one\" + -0.098*\"want\" + -0.089*\"see\" + -0.083*\"uh\" + -0.081*\"hey\"'),\n",
              " (1,\n",
              "  '-0.688*\"know\" + 0.459*\"okay\" + 0.374*\"oh\" + 0.240*\"get\" + 0.194*\"go\" + 0.113*\"right\" + 0.110*\"yeah\" + 0.068*\"gonna\" + -0.060*\"like\" + 0.055*\"look\" + 0.052*\"god\" + 0.050*\"well\" + 0.049*\"say\" + 0.047*\"come\" + 0.047*\"joey\" + 0.042*\"ye\" + 0.041*\"uh\" + 0.039*\"let\" + 0.039*\"hey\" + 0.037*\"one\"'),\n",
              " (2,\n",
              "  '-0.704*\"oh\" + 0.483*\"okay\" + 0.418*\"go\" + -0.193*\"yeah\" + -0.104*\"get\" + -0.093*\"god\" + 0.091*\"gonna\" + -0.068*\"well\" + 0.067*\"look\" + -0.053*\"hey\" + -0.044*\"good\" + -0.040*\"come\" + -0.035*\"ye\" + -0.030*\"thank\" + -0.029*\"uh\" + 0.024*\"right\" + -0.023*\"mean\" + -0.023*\"would\" + -0.023*\"great\" + -0.021*\"realli\"'),\n",
              " (3,\n",
              "  '-0.736*\"get\" + 0.550*\"go\" + 0.324*\"oh\" + -0.101*\"okay\" + 0.087*\"yeah\" + 0.056*\"think\" + 0.051*\"god\" + 0.047*\"like\" + -0.047*\"one\" + -0.045*\"marri\" + -0.039*\"could\" + 0.033*\"come\" + 0.032*\"well\" + 0.029*\"say\" + -0.025*\"want\" + 0.024*\"know\" + -0.021*\"guy\" + -0.020*\"call\" + 0.019*\"make\" + -0.019*\"big\"'),\n",
              " (4,\n",
              "  '-0.646*\"okay\" + 0.552*\"go\" + 0.414*\"get\" + -0.204*\"know\" + -0.176*\"oh\" + 0.085*\"hey\" + -0.055*\"uh\" + 0.048*\"well\" + 0.039*\"right\" + -0.036*\"god\" + 0.030*\"gonna\" + 0.029*\"yeah\" + -0.026*\"like\" + 0.025*\"guy\" + 0.024*\"tell\" + 0.022*\"see\" + 0.021*\"home\" + 0.020*\"ok\" + 0.020*\"joey\" + 0.019*\"wanna\"'),\n",
              " (5,\n",
              "  '0.680*\"well\" + 0.299*\"think\" + -0.297*\"oh\" + 0.254*\"yeah\" + -0.238*\"know\" + -0.218*\"go\" + -0.206*\"get\" + 0.164*\"like\" + -0.115*\"hey\" + -0.113*\"okay\" + 0.109*\"look\" + 0.094*\"one\" + 0.091*\"right\" + 0.091*\"say\" + 0.070*\"joey\" + 0.068*\"see\" + 0.065*\"realli\" + -0.054*\"god\" + 0.051*\"would\" + 0.049*\"mean\"'),\n",
              " (6,\n",
              "  '-0.927*\"hey\" + 0.183*\"yeah\" + 0.105*\"get\" + 0.104*\"go\" + -0.099*\"say\" + -0.099*\"like\" + 0.099*\"gonna\" + -0.091*\"look\" + 0.080*\"know\" + 0.076*\"oh\" + -0.076*\"think\" + 0.069*\"right\" + -0.061*\"guy\" + -0.053*\"want\" + -0.047*\"joey\" + -0.036*\"come\" + -0.031*\"see\" + -0.030*\"thing\" + -0.027*\"joe\" + -0.026*\"would\"'),\n",
              " (7,\n",
              "  '-0.566*\"well\" + 0.544*\"right\" + 0.391*\"yeah\" + 0.231*\"gonna\" + 0.172*\"look\" + 0.156*\"think\" + -0.150*\"go\" + -0.137*\"oh\" + -0.118*\"get\" + -0.114*\"okay\" + 0.099*\"like\" + -0.076*\"know\" + 0.065*\"see\" + 0.052*\"monica\" + 0.043*\"say\" + 0.043*\"realli\" + 0.042*\"make\" + 0.042*\"guy\" + 0.037*\"tell\" + 0.036*\"love\"'),\n",
              " (8,\n",
              "  '-0.722*\"yeah\" + 0.309*\"think\" + -0.273*\"hey\" + 0.260*\"like\" + 0.194*\"look\" + 0.169*\"say\" + -0.155*\"well\" + -0.132*\"know\" + -0.131*\"okay\" + 0.122*\"see\" + 0.109*\"oh\" + 0.103*\"ye\" + 0.083*\"mean\" + 0.082*\"joey\" + 0.074*\"right\" + 0.063*\"monica\" + 0.063*\"love\" + 0.058*\"good\" + 0.058*\"want\" + 0.057*\"guy\"')]"
            ]
          },
          "metadata": {},
          "execution_count": 68
        }
      ]
    },
    {
      "cell_type": "code",
      "source": [
        "s= chandler_topics[0][1]\n",
        "s.split('\"')[1::2]"
      ],
      "metadata": {
        "colab": {
          "base_uri": "https://localhost:8080/",
          "height": 0
        },
        "id": "OK81DGu1vKdC",
        "outputId": "c2f6f8f8-c6bd-4f00-ec23-7c22213e200e"
      },
      "execution_count": 69,
      "outputs": [
        {
          "output_type": "execute_result",
          "data": {
            "text/plain": [
              "['know',\n",
              " 'get',\n",
              " 'go',\n",
              " 'okay',\n",
              " 'oh',\n",
              " 'well',\n",
              " 'gonna',\n",
              " 'think',\n",
              " 'like',\n",
              " 'look',\n",
              " 'right',\n",
              " 'yeah',\n",
              " 'say',\n",
              " 'mean',\n",
              " 'guy',\n",
              " 'one',\n",
              " 'want',\n",
              " 'see',\n",
              " 'uh',\n",
              " 'hey']"
            ]
          },
          "metadata": {},
          "execution_count": 69
        }
      ]
    },
    {
      "cell_type": "code",
      "source": [
        "lchar2 = [ 'rachel', 'ross','monica','phoebe',  'joey','chandler']\n",
        "topics_list = [rachel_topics, ross_topics, monica_topics, phoebe_topics, joey_topics, chandler_topics]\n",
        "character_affinity =[]\n",
        "for i in range(len(lchar2)):\n",
        "    tp = topics_list[i]\n",
        "    ca = [0 for i in range(6)]\n",
        "    for j in range(len(lchar2)):\n",
        "        for k, t in enumerate(tp):\n",
        "            s = t[1].split('\"')[1::2]\n",
        "            if(lchar2[j] in s):\n",
        "                ca[j] = ca[j]+1\n",
        "    character_affinity.append(ca)\n",
        "\n",
        "ca_df = pd.DataFrame(character_affinity)\n",
        "ca_df.columns =lchar2\n",
        "ca_df.index = lchar2\n",
        "ca_df\n",
        "                "
      ],
      "metadata": {
        "colab": {
          "base_uri": "https://localhost:8080/",
          "height": 237
        },
        "id": "cKSXJWgVvMuW",
        "outputId": "a2ec8410-84a9-4f64-ff0b-61c511ef8068"
      },
      "execution_count": 70,
      "outputs": [
        {
          "output_type": "execute_result",
          "data": {
            "text/plain": [
              "          rachel  ross  monica  phoebe  joey  chandler\n",
              "rachel         0     9       0       0     1         0\n",
              "ross           0     0       0       0     1         0\n",
              "monica         1     1       0       0     2         2\n",
              "phoebe         0     3       1       0     1         1\n",
              "joey           0     5       0       0     0         0\n",
              "chandler       0     0       2       0     5         0"
            ],
            "text/html": [
              "\n",
              "  <div id=\"df-c203abf8-ac8c-48b5-921d-4ab952921761\">\n",
              "    <div class=\"colab-df-container\">\n",
              "      <div>\n",
              "<style scoped>\n",
              "    .dataframe tbody tr th:only-of-type {\n",
              "        vertical-align: middle;\n",
              "    }\n",
              "\n",
              "    .dataframe tbody tr th {\n",
              "        vertical-align: top;\n",
              "    }\n",
              "\n",
              "    .dataframe thead th {\n",
              "        text-align: right;\n",
              "    }\n",
              "</style>\n",
              "<table border=\"1\" class=\"dataframe\">\n",
              "  <thead>\n",
              "    <tr style=\"text-align: right;\">\n",
              "      <th></th>\n",
              "      <th>rachel</th>\n",
              "      <th>ross</th>\n",
              "      <th>monica</th>\n",
              "      <th>phoebe</th>\n",
              "      <th>joey</th>\n",
              "      <th>chandler</th>\n",
              "    </tr>\n",
              "  </thead>\n",
              "  <tbody>\n",
              "    <tr>\n",
              "      <th>rachel</th>\n",
              "      <td>0</td>\n",
              "      <td>9</td>\n",
              "      <td>0</td>\n",
              "      <td>0</td>\n",
              "      <td>1</td>\n",
              "      <td>0</td>\n",
              "    </tr>\n",
              "    <tr>\n",
              "      <th>ross</th>\n",
              "      <td>0</td>\n",
              "      <td>0</td>\n",
              "      <td>0</td>\n",
              "      <td>0</td>\n",
              "      <td>1</td>\n",
              "      <td>0</td>\n",
              "    </tr>\n",
              "    <tr>\n",
              "      <th>monica</th>\n",
              "      <td>1</td>\n",
              "      <td>1</td>\n",
              "      <td>0</td>\n",
              "      <td>0</td>\n",
              "      <td>2</td>\n",
              "      <td>2</td>\n",
              "    </tr>\n",
              "    <tr>\n",
              "      <th>phoebe</th>\n",
              "      <td>0</td>\n",
              "      <td>3</td>\n",
              "      <td>1</td>\n",
              "      <td>0</td>\n",
              "      <td>1</td>\n",
              "      <td>1</td>\n",
              "    </tr>\n",
              "    <tr>\n",
              "      <th>joey</th>\n",
              "      <td>0</td>\n",
              "      <td>5</td>\n",
              "      <td>0</td>\n",
              "      <td>0</td>\n",
              "      <td>0</td>\n",
              "      <td>0</td>\n",
              "    </tr>\n",
              "    <tr>\n",
              "      <th>chandler</th>\n",
              "      <td>0</td>\n",
              "      <td>0</td>\n",
              "      <td>2</td>\n",
              "      <td>0</td>\n",
              "      <td>5</td>\n",
              "      <td>0</td>\n",
              "    </tr>\n",
              "  </tbody>\n",
              "</table>\n",
              "</div>\n",
              "      <button class=\"colab-df-convert\" onclick=\"convertToInteractive('df-c203abf8-ac8c-48b5-921d-4ab952921761')\"\n",
              "              title=\"Convert this dataframe to an interactive table.\"\n",
              "              style=\"display:none;\">\n",
              "        \n",
              "  <svg xmlns=\"http://www.w3.org/2000/svg\" height=\"24px\"viewBox=\"0 0 24 24\"\n",
              "       width=\"24px\">\n",
              "    <path d=\"M0 0h24v24H0V0z\" fill=\"none\"/>\n",
              "    <path d=\"M18.56 5.44l.94 2.06.94-2.06 2.06-.94-2.06-.94-.94-2.06-.94 2.06-2.06.94zm-11 1L8.5 8.5l.94-2.06 2.06-.94-2.06-.94L8.5 2.5l-.94 2.06-2.06.94zm10 10l.94 2.06.94-2.06 2.06-.94-2.06-.94-.94-2.06-.94 2.06-2.06.94z\"/><path d=\"M17.41 7.96l-1.37-1.37c-.4-.4-.92-.59-1.43-.59-.52 0-1.04.2-1.43.59L10.3 9.45l-7.72 7.72c-.78.78-.78 2.05 0 2.83L4 21.41c.39.39.9.59 1.41.59.51 0 1.02-.2 1.41-.59l7.78-7.78 2.81-2.81c.8-.78.8-2.07 0-2.86zM5.41 20L4 18.59l7.72-7.72 1.47 1.35L5.41 20z\"/>\n",
              "  </svg>\n",
              "      </button>\n",
              "      \n",
              "  <style>\n",
              "    .colab-df-container {\n",
              "      display:flex;\n",
              "      flex-wrap:wrap;\n",
              "      gap: 12px;\n",
              "    }\n",
              "\n",
              "    .colab-df-convert {\n",
              "      background-color: #E8F0FE;\n",
              "      border: none;\n",
              "      border-radius: 50%;\n",
              "      cursor: pointer;\n",
              "      display: none;\n",
              "      fill: #1967D2;\n",
              "      height: 32px;\n",
              "      padding: 0 0 0 0;\n",
              "      width: 32px;\n",
              "    }\n",
              "\n",
              "    .colab-df-convert:hover {\n",
              "      background-color: #E2EBFA;\n",
              "      box-shadow: 0px 1px 2px rgba(60, 64, 67, 0.3), 0px 1px 3px 1px rgba(60, 64, 67, 0.15);\n",
              "      fill: #174EA6;\n",
              "    }\n",
              "\n",
              "    [theme=dark] .colab-df-convert {\n",
              "      background-color: #3B4455;\n",
              "      fill: #D2E3FC;\n",
              "    }\n",
              "\n",
              "    [theme=dark] .colab-df-convert:hover {\n",
              "      background-color: #434B5C;\n",
              "      box-shadow: 0px 1px 3px 1px rgba(0, 0, 0, 0.15);\n",
              "      filter: drop-shadow(0px 1px 2px rgba(0, 0, 0, 0.3));\n",
              "      fill: #FFFFFF;\n",
              "    }\n",
              "  </style>\n",
              "\n",
              "      <script>\n",
              "        const buttonEl =\n",
              "          document.querySelector('#df-c203abf8-ac8c-48b5-921d-4ab952921761 button.colab-df-convert');\n",
              "        buttonEl.style.display =\n",
              "          google.colab.kernel.accessAllowed ? 'block' : 'none';\n",
              "\n",
              "        async function convertToInteractive(key) {\n",
              "          const element = document.querySelector('#df-c203abf8-ac8c-48b5-921d-4ab952921761');\n",
              "          const dataTable =\n",
              "            await google.colab.kernel.invokeFunction('convertToInteractive',\n",
              "                                                     [key], {});\n",
              "          if (!dataTable) return;\n",
              "\n",
              "          const docLinkHtml = 'Like what you see? Visit the ' +\n",
              "            '<a target=\"_blank\" href=https://colab.research.google.com/notebooks/data_table.ipynb>data table notebook</a>'\n",
              "            + ' to learn more about interactive tables.';\n",
              "          element.innerHTML = '';\n",
              "          dataTable['output_type'] = 'display_data';\n",
              "          await google.colab.output.renderOutput(dataTable, element);\n",
              "          const docLink = document.createElement('div');\n",
              "          docLink.innerHTML = docLinkHtml;\n",
              "          element.appendChild(docLink);\n",
              "        }\n",
              "      </script>\n",
              "    </div>\n",
              "  </div>\n",
              "  "
            ]
          },
          "metadata": {},
          "execution_count": 70
        }
      ]
    },
    {
      "cell_type": "code",
      "source": [
        "import seaborn as sb\n",
        "#plotting character affinity heatmap \n",
        "#Higher affinity towards one character means higher mentions of another character in the other character's key topics through out\n",
        "fig, ax = plt.subplots(figsize=(11, 9))\n",
        "sb.heatmap(ca_df)\n",
        "\n",
        "# displaying the title \n",
        "plt.title(\"Character affinity heat map\")"
      ],
      "metadata": {
        "colab": {
          "base_uri": "https://localhost:8080/",
          "height": 570
        },
        "id": "Jx6C7avNvOgH",
        "outputId": "6026e7da-0708-4195-a45d-a97d75874a1f"
      },
      "execution_count": 71,
      "outputs": [
        {
          "output_type": "execute_result",
          "data": {
            "text/plain": [
              "Text(0.5, 1.0, 'Character affinity heat map')"
            ]
          },
          "metadata": {},
          "execution_count": 71
        },
        {
          "output_type": "display_data",
          "data": {
            "text/plain": [
              "<Figure size 792x648 with 2 Axes>"
            ],
            "image/png": "[encoded data removed]"
          },
          "metadata": {
            "needs_background": "light"
          }
        }
      ]
    },
    {
      "cell_type": "code",
      "source": [
        "# Most important character by dialogues - Joey\n",
        "fig = plt.figure()\n",
        "ax = fig.add_axes([0,0,1,1])\n",
        "ax.set_title(\"Dialogue frequency score\", pad=20)\n",
        "plt.xlabel('Characters')  \n",
        "plt.ylabel('Number of dialogues') \n",
        "ax.bar(['PHOEBE','ROSS','CHANDLER','JOEY','MONICA','RACHEL'], friends_char_df.groupby(by=[\"Characters\"]).count()['Lines'])\n",
        "\n",
        "plt.show()"
      ],
      "metadata": {
        "colab": {
          "base_uri": "https://localhost:8080/",
          "height": 380
        },
        "id": "MuA-tX22vQEu",
        "outputId": "3bfb7ee6-a2c3-4a7b-ac5a-ecfb5a138d2e"
      },
      "execution_count": 51,
      "outputs": [
        {
          "output_type": "display_data",
          "data": {
            "text/plain": [
              "<Figure size 432x288 with 1 Axes>"
            ],
            "image/png": "[encoded data removed]"
          },
          "metadata": {
            "needs_background": "light"
          }
        }
      ]
    },
    {
      "cell_type": "code",
      "source": [
        "# using TextBlob.sentiment method \n",
        "from textblob import TextBlob \n",
        "all_char = ['PHOEBE','ROSS','CHANDLER','JOEY','MONICA','RACHEL']\n",
        "for i in friends_char_df.index:\n",
        "    dialogue = friends_char_df.loc[i,'Lines']\n",
        "    tb = TextBlob(dialogue)\n",
        "    s=0\n",
        "    if(tb.sentiment[0]>0):\n",
        "        s =1\n",
        "    elif(tb.sentiment[0]<0):\n",
        "        s=-1\n",
        "    friends_char_df.loc[i,'Sentiment'] =s\n",
        "friends_char_df"
      ],
      "metadata": {
        "colab": {
          "base_uri": "https://localhost:8080/",
          "height": 632
        },
        "id": "r82F-T8wvRmf",
        "outputId": "b0631293-18f5-4daf-a48c-52a9941f0b37"
      },
      "execution_count": 52,
      "outputs": [
        {
          "output_type": "stream",
          "name": "stderr",
          "text": [
            "/usr/local/lib/python3.7/dist-packages/pandas/core/indexing.py:1684: SettingWithCopyWarning: \n",
            "A value is trying to be set on a copy of a slice from a DataFrame.\n",
            "Try using .loc[row_indexer,col_indexer] = value instead\n",
            "\n",
            "See the caveats in the documentation: https://pandas.pydata.org/pandas-docs/stable/user_guide/indexing.html#returning-a-view-versus-a-copy\n",
            "  self.obj[key] = infer_fill_value(value)\n",
            "/usr/local/lib/python3.7/dist-packages/pandas/core/indexing.py:1817: SettingWithCopyWarning: \n",
            "A value is trying to be set on a copy of a slice from a DataFrame.\n",
            "Try using .loc[row_indexer,col_indexer] = value instead\n",
            "\n",
            "See the caveats in the documentation: https://pandas.pydata.org/pandas-docs/stable/user_guide/indexing.html#returning-a-view-versus-a-copy\n",
            "  self._setitem_single_column(loc, value, pi)\n"
          ]
        },
        {
          "output_type": "execute_result",
          "data": {
            "text/plain": [
              "        Episodes              Episode_Names Characters  \\\n",
              "0            101     Monica Gets A Roommate     MONICA   \n",
              "1            101     Monica Gets A Roommate       JOEY   \n",
              "2            101     Monica Gets A Roommate   CHANDLER   \n",
              "3            101     Monica Gets A Roommate     PHOEBE   \n",
              "4            101     Monica Gets A Roommate     PHOEBE   \n",
              "...          ...                        ...        ...   \n",
              "51761  1017-1018  The Last One, Part I & II   CHANDLER   \n",
              "51762  1017-1018  The Last One, Part I & II     RACHEL   \n",
              "51763  1017-1018  The Last One, Part I & II     MONICA   \n",
              "51764  1017-1018  The Last One, Part I & II     RACHEL   \n",
              "51765  1017-1018  The Last One, Part I & II   CHANDLER   \n",
              "\n",
              "                                            Lines  Season  Sentiment  \n",
              "0              there's nothing tell he's guy work       1        0.0  \n",
              "1      c'mon go guy there's gotta something wrong       1       -1.0  \n",
              "2             right joey nice hump hump hairpiece       1        1.0  \n",
              "3                                  wait eat chalk       1        0.0  \n",
              "4                        cause want go go carl oh       1        0.0  \n",
              "...                                           ...     ...        ...  \n",
              "51761                               oh gonna okay      10        1.0  \n",
              "51762            guy go new house right away time      10        1.0  \n",
              "51763                                    get time      10        0.0  \n",
              "51764                             okay get coffee      10        1.0  \n",
              "51765                                        sure      10        1.0  \n",
              "\n",
              "[43519 rows x 6 columns]"
            ],
            "text/html": [
              "\n",
              "  <div id=\"df-7ab650b9-6f88-4238-ba66-c7cf821dfeab\">\n",
              "    <div class=\"colab-df-container\">\n",
              "      <div>\n",
              "<style scoped>\n",
              "    .dataframe tbody tr th:only-of-type {\n",
              "        vertical-align: middle;\n",
              "    }\n",
              "\n",
              "    .dataframe tbody tr th {\n",
              "        vertical-align: top;\n",
              "    }\n",
              "\n",
              "    .dataframe thead th {\n",
              "        text-align: right;\n",
              "    }\n",
              "</style>\n",
              "<table border=\"1\" class=\"dataframe\">\n",
              "  <thead>\n",
              "    <tr style=\"text-align: right;\">\n",
              "      <th></th>\n",
              "      <th>Episodes</th>\n",
              "      <th>Episode_Names</th>\n",
              "      <th>Characters</th>\n",
              "      <th>Lines</th>\n",
              "      <th>Season</th>\n",
              "      <th>Sentiment</th>\n",
              "    </tr>\n",
              "  </thead>\n",
              "  <tbody>\n",
              "    <tr>\n",
              "      <th>0</th>\n",
              "      <td>101</td>\n",
              "      <td>Monica Gets A Roommate</td>\n",
              "      <td>MONICA</td>\n",
              "      <td>there's nothing tell he's guy work</td>\n",
              "      <td>1</td>\n",
              "      <td>0.0</td>\n",
              "    </tr>\n",
              "    <tr>\n",
              "      <th>1</th>\n",
              "      <td>101</td>\n",
              "      <td>Monica Gets A Roommate</td>\n",
              "      <td>JOEY</td>\n",
              "      <td>c'mon go guy there's gotta something wrong</td>\n",
              "      <td>1</td>\n",
              "      <td>-1.0</td>\n",
              "    </tr>\n",
              "    <tr>\n",
              "      <th>2</th>\n",
              "      <td>101</td>\n",
              "      <td>Monica Gets A Roommate</td>\n",
              "      <td>CHANDLER</td>\n",
              "      <td>right joey nice hump hump hairpiece</td>\n",
              "      <td>1</td>\n",
              "      <td>1.0</td>\n",
              "    </tr>\n",
              "    <tr>\n",
              "      <th>3</th>\n",
              "      <td>101</td>\n",
              "      <td>Monica Gets A Roommate</td>\n",
              "      <td>PHOEBE</td>\n",
              "      <td>wait eat chalk</td>\n",
              "      <td>1</td>\n",
              "      <td>0.0</td>\n",
              "    </tr>\n",
              "    <tr>\n",
              "      <th>4</th>\n",
              "      <td>101</td>\n",
              "      <td>Monica Gets A Roommate</td>\n",
              "      <td>PHOEBE</td>\n",
              "      <td>cause want go go carl oh</td>\n",
              "      <td>1</td>\n",
              "      <td>0.0</td>\n",
              "    </tr>\n",
              "    <tr>\n",
              "      <th>...</th>\n",
              "      <td>...</td>\n",
              "      <td>...</td>\n",
              "      <td>...</td>\n",
              "      <td>...</td>\n",
              "      <td>...</td>\n",
              "      <td>...</td>\n",
              "    </tr>\n",
              "    <tr>\n",
              "      <th>51761</th>\n",
              "      <td>1017-1018</td>\n",
              "      <td>The Last One, Part I &amp; II</td>\n",
              "      <td>CHANDLER</td>\n",
              "      <td>oh gonna okay</td>\n",
              "      <td>10</td>\n",
              "      <td>1.0</td>\n",
              "    </tr>\n",
              "    <tr>\n",
              "      <th>51762</th>\n",
              "      <td>1017-1018</td>\n",
              "      <td>The Last One, Part I &amp; II</td>\n",
              "      <td>RACHEL</td>\n",
              "      <td>guy go new house right away time</td>\n",
              "      <td>10</td>\n",
              "      <td>1.0</td>\n",
              "    </tr>\n",
              "    <tr>\n",
              "      <th>51763</th>\n",
              "      <td>1017-1018</td>\n",
              "      <td>The Last One, Part I &amp; II</td>\n",
              "      <td>MONICA</td>\n",
              "      <td>get time</td>\n",
              "      <td>10</td>\n",
              "      <td>0.0</td>\n",
              "    </tr>\n",
              "    <tr>\n",
              "      <th>51764</th>\n",
              "      <td>1017-1018</td>\n",
              "      <td>The Last One, Part I &amp; II</td>\n",
              "      <td>RACHEL</td>\n",
              "      <td>okay get coffee</td>\n",
              "      <td>10</td>\n",
              "      <td>1.0</td>\n",
              "    </tr>\n",
              "    <tr>\n",
              "      <th>51765</th>\n",
              "      <td>1017-1018</td>\n",
              "      <td>The Last One, Part I &amp; II</td>\n",
              "      <td>CHANDLER</td>\n",
              "      <td>sure</td>\n",
              "      <td>10</td>\n",
              "      <td>1.0</td>\n",
              "    </tr>\n",
              "  </tbody>\n",
              "</table>\n",
              "<p>43519 rows × 6 columns</p>\n",
              "</div>\n",
              "      <button class=\"colab-df-convert\" onclick=\"convertToInteractive('df-7ab650b9-6f88-4238-ba66-c7cf821dfeab')\"\n",
              "              title=\"Convert this dataframe to an interactive table.\"\n",
              "              style=\"display:none;\">\n",
              "        \n",
              "  <svg xmlns=\"http://www.w3.org/2000/svg\" height=\"24px\"viewBox=\"0 0 24 24\"\n",
              "       width=\"24px\">\n",
              "    <path d=\"M0 0h24v24H0V0z\" fill=\"none\"/>\n",
              "    <path d=\"M18.56 5.44l.94 2.06.94-2.06 2.06-.94-2.06-.94-.94-2.06-.94 2.06-2.06.94zm-11 1L8.5 8.5l.94-2.06 2.06-.94-2.06-.94L8.5 2.5l-.94 2.06-2.06.94zm10 10l.94 2.06.94-2.06 2.06-.94-2.06-.94-.94-2.06-.94 2.06-2.06.94z\"/><path d=\"M17.41 7.96l-1.37-1.37c-.4-.4-.92-.59-1.43-.59-.52 0-1.04.2-1.43.59L10.3 9.45l-7.72 7.72c-.78.78-.78 2.05 0 2.83L4 21.41c.39.39.9.59 1.41.59.51 0 1.02-.2 1.41-.59l7.78-7.78 2.81-2.81c.8-.78.8-2.07 0-2.86zM5.41 20L4 18.59l7.72-7.72 1.47 1.35L5.41 20z\"/>\n",
              "  </svg>\n",
              "      </button>\n",
              "      \n",
              "  <style>\n",
              "    .colab-df-container {\n",
              "      display:flex;\n",
              "      flex-wrap:wrap;\n",
              "      gap: 12px;\n",
              "    }\n",
              "\n",
              "    .colab-df-convert {\n",
              "      background-color: #E8F0FE;\n",
              "      border: none;\n",
              "      border-radius: 50%;\n",
              "      cursor: pointer;\n",
              "      display: none;\n",
              "      fill: #1967D2;\n",
              "      height: 32px;\n",
              "      padding: 0 0 0 0;\n",
              "      width: 32px;\n",
              "    }\n",
              "\n",
              "    .colab-df-convert:hover {\n",
              "      background-color: #E2EBFA;\n",
              "      box-shadow: 0px 1px 2px rgba(60, 64, 67, 0.3), 0px 1px 3px 1px rgba(60, 64, 67, 0.15);\n",
              "      fill: #174EA6;\n",
              "    }\n",
              "\n",
              "    [theme=dark] .colab-df-convert {\n",
              "      background-color: #3B4455;\n",
              "      fill: #D2E3FC;\n",
              "    }\n",
              "\n",
              "    [theme=dark] .colab-df-convert:hover {\n",
              "      background-color: #434B5C;\n",
              "      box-shadow: 0px 1px 3px 1px rgba(0, 0, 0, 0.15);\n",
              "      filter: drop-shadow(0px 1px 2px rgba(0, 0, 0, 0.3));\n",
              "      fill: #FFFFFF;\n",
              "    }\n",
              "  </style>\n",
              "\n",
              "      <script>\n",
              "        const buttonEl =\n",
              "          document.querySelector('#df-7ab650b9-6f88-4238-ba66-c7cf821dfeab button.colab-df-convert');\n",
              "        buttonEl.style.display =\n",
              "          google.colab.kernel.accessAllowed ? 'block' : 'none';\n",
              "\n",
              "        async function convertToInteractive(key) {\n",
              "          const element = document.querySelector('#df-7ab650b9-6f88-4238-ba66-c7cf821dfeab');\n",
              "          const dataTable =\n",
              "            await google.colab.kernel.invokeFunction('convertToInteractive',\n",
              "                                                     [key], {});\n",
              "          if (!dataTable) return;\n",
              "\n",
              "          const docLinkHtml = 'Like what you see? Visit the ' +\n",
              "            '<a target=\"_blank\" href=https://colab.research.google.com/notebooks/data_table.ipynb>data table notebook</a>'\n",
              "            + ' to learn more about interactive tables.';\n",
              "          element.innerHTML = '';\n",
              "          dataTable['output_type'] = 'display_data';\n",
              "          await google.colab.output.renderOutput(dataTable, element);\n",
              "          const docLink = document.createElement('div');\n",
              "          docLink.innerHTML = docLinkHtml;\n",
              "          element.appendChild(docLink);\n",
              "        }\n",
              "      </script>\n",
              "    </div>\n",
              "  </div>\n",
              "  "
            ]
          },
          "metadata": {},
          "execution_count": 52
        }
      ]
    },
    {
      "cell_type": "code",
      "source": [
        "actor_sentiment =[]\n",
        "for actor in all_char:\n",
        "    cp = friends_char_df[friends_char_df.Characters == actor][friends_char_df.Sentiment == 1].Sentiment.count()\n",
        "    cn = friends_char_df[friends_char_df.Characters == actor][friends_char_df.Sentiment == 0].Sentiment.count()\n",
        "    c = friends_char_df[friends_char_df.Characters == actor][friends_char_df.Sentiment == -1].Sentiment.count()\n",
        "    s = cp+cn+c\n",
        "    actor_sentiment.append([cp*100/s,c*100/s,cn*100/s])\n",
        "actor_sentiment"
      ],
      "metadata": {
        "colab": {
          "base_uri": "https://localhost:8080/",
          "height": 0
        },
        "id": "2A0HinaLvTb1",
        "outputId": "1b888951-d3ad-4fe9-a6eb-1b74e8d730ce"
      },
      "execution_count": 53,
      "outputs": [
        {
          "output_type": "stream",
          "name": "stderr",
          "text": [
            "/usr/local/lib/python3.7/dist-packages/ipykernel_launcher.py:3: UserWarning: Boolean Series key will be reindexed to match DataFrame index.\n",
            "  This is separate from the ipykernel package so we can avoid doing imports until\n",
            "/usr/local/lib/python3.7/dist-packages/ipykernel_launcher.py:4: UserWarning: Boolean Series key will be reindexed to match DataFrame index.\n",
            "  after removing the cwd from sys.path.\n",
            "/usr/local/lib/python3.7/dist-packages/ipykernel_launcher.py:5: UserWarning: Boolean Series key will be reindexed to match DataFrame index.\n",
            "  \"\"\"\n"
          ]
        },
        {
          "output_type": "execute_result",
          "data": {
            "text/plain": [
              "[[36.55311868097682, 11.619225384974335, 51.82765593404884],\n",
              " [34.33727119304167, 12.332857328313644, 53.329871478644684],\n",
              " [34.76807354784789, 12.369410781445884, 52.86251567070622],\n",
              " [33.65888181174805, 11.861288039631988, 54.47983014861996],\n",
              " [33.370754981756946, 13.078866124052764, 53.55037889419029],\n",
              " [34.27716103280529, 12.872645628040415, 52.850193339154295]]"
            ]
          },
          "metadata": {},
          "execution_count": 53
        }
      ]
    },
    {
      "cell_type": "code",
      "source": [
        "data_sent =  np.array(actor_sentiment).T.tolist()\n",
        "X = np.arange(6)\n",
        "fig = plt.figure()\n",
        "ax = fig.add_axes([0,0,1,1])\n",
        "r1 =ax.bar(X + 0.00, data_sent[0], color = 'g', width= 0.25)\n",
        "r2 =ax.bar(X + 0.25, data_sent[1], color = 'b', width = 0.25)\n",
        "r3 =ax.bar(X + 0.50, data_sent[2], color = 'r', width = 0.25)\n",
        "ax.legend(labels=['Postive', 'Neutral','Negative'])\n",
        "ax.set_title(\"Character dialogue sentiment distribution (percentage)\", pad=20)\n",
        "plt.xticks(X + .25 /2, all_char)\n",
        "\n",
        "\n",
        "def autolabel(rects):\n",
        "    \"\"\"Attach a text label above each bar in *rects*, displaying its height.\"\"\"\n",
        "    for rect in rects:\n",
        "        height = round(rect.get_height(),2)\n",
        "        ax.annotate('{}'.format(height),\n",
        "                    xy=(rect.get_x() + rect.get_width() / 2, height),\n",
        "                    xytext=(0, 3),  # 3 points vertical offset\n",
        "                    textcoords=\"offset points\",\n",
        "                    ha='center', va='bottom', fontsize=8)\n",
        "\n",
        "\n",
        "autolabel(r1)\n",
        "autolabel(r2)\n",
        "autolabel(r3)\n",
        "\n",
        "plt.show()"
      ],
      "metadata": {
        "colab": {
          "base_uri": "https://localhost:8080/",
          "height": 366
        },
        "id": "haJPe-WrvUEj",
        "outputId": "7dc8834e-50ba-4610-bc16-53b233d83f8d"
      },
      "execution_count": 55,
      "outputs": [
        {
          "output_type": "display_data",
          "data": {
            "text/plain": [
              "<Figure size 432x288 with 1 Axes>"
            ],
            "image/png": "[encoded data removed]"
          },
          "metadata": {
            "needs_background": "light"
          }
        }
      ]
    }
  ],
  "metadata": {
    "kernelspec": {
      "display_name": "Python 3 (ipykernel)",
      "language": "python",
      "name": "python3"
    },
    "language_info": {
      "codemirror_mode": {
        "name": "ipython",
        "version": 3
      },
      "file_extension": ".py",
      "mimetype": "text/x-python",
      "name": "python",
      "nbconvert_exporter": "python",
      "pygments_lexer": "ipython3",
      "version": "3.7.13"
    },
    "colab": {
      "provenance": [],
      "collapsed_sections": []
    },
    "widgets": {
      "application/vnd.jupyter.widget-state+json": {
        "b659fd8a92c94338a6566e8093fa8fca": {
          "model_module": "@jupyter-widgets/controls",
          "model_name": "VBoxModel",
          "model_module_version": "1.5.0",
          "state": {
            "_dom_classes": [
              "widget-interact"
            ],
            "_model_module": "@jupyter-widgets/controls",
            "_model_module_version": "1.5.0",
            "_model_name": "VBoxModel",
            "_view_count": null,
            "_view_module": "@jupyter-widgets/controls",
            "_view_module_version": "1.5.0",
            "_view_name": "VBoxView",
            "box_style": "",
            "children": [
              "IPY_MODEL_8068ebe95a014057b11acece89467e12",
              "IPY_MODEL_b1d72d3168a24293a055b7367d314798"
            ],
            "layout": "IPY_MODEL_7b00a268b8954367ae50eaa968222997"
          }
        },
        "8068ebe95a014057b11acece89467e12": {
          "model_module": "@jupyter-widgets/controls",
          "model_name": "DropdownModel",
          "model_module_version": "1.5.0",
          "state": {
            "_dom_classes": [],
            "_model_module": "@jupyter-widgets/controls",
            "_model_module_version": "1.5.0",
            "_model_name": "DropdownModel",
            "_options_labels": [
              "RACHEL",
              "ROSS",
              "CHANDLER",
              "MONICA",
              "JOEY",
              "PHOEBE",
              "MIKE",
              "ALL",
              "JANICE",
              "CHARLIE",
              "CAROL",
              "EMILY",
              "TAG",
              "PAUL",
              "FRANK",
              "RICHARD",
              "DAVID",
              "AMY",
              "GUNTHER",
              "PETE",
              "All Characters"
            ],
            "_view_count": null,
            "_view_module": "@jupyter-widgets/controls",
            "_view_module_version": "1.5.0",
            "_view_name": "DropdownView",
            "description": "Character_Name",
            "description_tooltip": null,
            "disabled": false,
            "index": 0,
            "layout": "IPY_MODEL_3959583f6dc9442c96dcc904c9a73386",
            "style": "IPY_MODEL_0484fb5fc4784b38b74e96b82a531b0e"
          }
        },
        "b1d72d3168a24293a055b7367d314798": {
          "model_module": "@jupyter-widgets/output",
          "model_name": "OutputModel",
          "model_module_version": "1.0.0",
          "state": {
            "_dom_classes": [],
            "_model_module": "@jupyter-widgets/output",
            "_model_module_version": "1.0.0",
            "_model_name": "OutputModel",
            "_view_count": null,
            "_view_module": "@jupyter-widgets/output",
            "_view_module_version": "1.0.0",
            "_view_name": "OutputView",
            "layout": "IPY_MODEL_90be8540a07a47179987de1ef5661b88",
            "msg_id": "",
            "outputs": [
              {
                "output_type": "display_data",
                "data": {
                  "text/plain": "<Figure size 864x360 with 1 Axes>",
                  "image/png": "iVBORw0KGgoAAAANSUhEUgAAAvgAAAFZCAYAAADtils1AAAABHNCSVQICAgIfAhkiAAAAAlwSFlzAAALEgAACxIB0t1+/AAAADh0RVh0U29mdHdhcmUAbWF0cGxvdGxpYiB2ZXJzaW9uMy4yLjIsIGh0dHA6Ly9tYXRwbG90bGliLm9yZy+WH4yJAAAgAElEQVR4nOzdeXxU1f3/8dcnK0lIZEvYEdGK0qpYo4Ibi6hUqVjr15Uq/Vali1v129VKxeVn+X5ba622VVtLK1pbt7pWsbKIClqsiuKKEKEIsiSsCYEk5/fHuROGYSYzk0xmJuH9fDzmkcyZc889c++dmc+c+dxzzTmHiIiIiIh0DjmZ7oCIiIiIiKSOAnwRERERkU5EAb6IiIiISCeiAF9EREREpBNRgC8iIiIi0okowBcRERER6UQU4EvWMrPJZubCbtvMrMrMHjOzs83MsqCPc81sbtj94WZ2vZn1yFB/fmxmK8yswczezEQfkhW5DTPJzEYHx9roOPVmmFlVK9qPenyYWbeg/IvJttnZpHpbhL2PDE5Re9ebmYsoc2Z2fSrazwQzG2lmrwbvsc7Mhseod4aZXR2lPPS6GdeOfez0rxEzGxxsx8mtWHZ0sH0U1wmgAF86hv8CRgKnAtcB9cBfgOfNrCiTHQO+HdxChgM/BdIe4JvZUcDNwIPACcDX0t0HiSvW8dEtKO+0wUsSUr0tnsa/f6xOUXvRjAR+347tt7c/AHnAl/HP5cMY9c4A9gjw02RveI2sxm//p1ux7Gj89lFcJ4B/QYtkuzedc0vD7t9nZg8BDwH/C1yemW6Bc+7dTK07ioODv79zzi3LaE/CmFkuYM65hkz3ZW8S/MKV75zbkem+ZJJzbh2wrp3XsbA9229PwYjvUOBm59zsTPcnVcys0DlXn+l+JCLstVoPdNhjSbKLvulJh+ScewR4HLjEzIpD5WZWbGbTzWy5me0I/l4b/rNl2M/Jp5vZHWa2PrjNNLNu4esxsyvN7D0zqzOzGjNbZGZfCXu8Ob0k+Fn1j8FDH4WlFg02s7fN7LHI5xHWl/EtPV8zO8rM/mlmW4Of0V8IRuyb+wHMCO5+3FLKgJn92syWRpS9HixzQFjZzWb2WSgVyrzvmtkHwbZdHWy/soi2XLDsD81sObADOCR47Fwze9/M6s1sSfi2jMfMppnZv81sc7C/ZpvZiIg6yezbcjN7IGhvo5n9GT9K2Crxjr2Wjg9geVB+T1j55LC2zzSzhWZWG/T1ITMbFLH+quB5/reZvY/f7qe10N88M/uBmb1rZtvNbJ2ZPWtmB4XVGWo+JW5j8BpYGHmsWox0JdszfS3uvom3LczsFDN7xcw2Ba+FD8xsaqznGCyzR4pO2LY61/zre5v51/ZxLbXVwjp2e71ZkMZjZp8zs6eDvn5iZlMtIoUiOA5/Z2argtfF+2Z2aUSdPmb2JzP7NKiz2syeMrOKOP0qC7Z1aLkPzL+GQ6/pyUAjPha4LuhzVYy2ZgAXAf3D9ktk3eIEXnd5ZvYj2/U+8KmZ/cLMurTwPAbT8nEx18xeMrMvm9kbZlZP8MuqmV1mZgvMrDo4jhea2WmR7QftTTGzG4Ltu9HMnjSzARF1zw/WsdX8e8fbZjYlos4oM3s+OE63mdlbZvaNsMejvlYtSopO8Pr6j5kdY2b/Mv9arTKzy8PqXI8fvQfYGdo+Ydv7RjP7OFh2fbCtWnWsS8ehEXzpyJ7B/2RcCbxoZnnAc8Aw4EbgbWAEPq2nB3BNxPK/Ap4CzsePYP0v/sPuIgAzuwD4BXADMB8oAg4ldvrN08BNwE/waUX/CcpXA78FfmVm/Zxzn4YtMwX/wfVcrCdpZocC84B3gcmAA34IzDOzEc65t/AfZpOAHwFnBuv8T9QGYQ5wmZkNcs6tMLPu+NSROmAsEAr+xwJznXOhfOObg/bvBJ5k13Y+zMxGOeeawtYxGVgG/A+wDfjUfH7uA8F2ugYox++DfOCDWM8/TH/gl8HzKgme74tmdoRz7u2Iui3u28CjwGHAj4GPgHOAXyfQjz0keOy1dHycGfTnFuCJoPzjoO1v4o+fP+KPxVLgevz+P9Q5tyWsK2Pw+3IasBaoaqHbD+JfP7cB/wS64FO7+gLvm1k/4CVgC3AZsAn4DvC0mU1wzv0j8S20m5b2TcxtYWZDgvsPB9thB/A5YEgr+3F8sP7rgO34/faUmQ12zm1sZZuRHsPvt1/i01+mASuDMsx/OX4J/95yPf694BTgt+ZHoEPH433AvsD3guV7AycCzYMbkYIvEk/jU1qm4o/J04Bb8a+9HwePHxf04Q/4NKNYo943BssdCZwelEXWTeR1NzPYFtOBV/C/PN4IDAa+GmPdLb5GAgcCtwdtLQOqg/LBwfOqYlca0lNm9iXn3LMR6/lR0Kf/Birw7/8z8ekvBEHxzGA938N/MTqIsIEBM5sIPAK8jH9/Xw98Hr//wiXzWi0D/orfZkuBc4HbzWyLc25G8PwGAN/A78/GsGV/AHwXuBZ4M2irkgykkUqaOed00y0rb+wKZg+I8fgpwePnBPe/Ftw/IaLetfhgoCK4Pzqo96eIenfgP+gt7P6/4/RxLj4IbrHP+KBsM3BdWFk5/gPyh3HW8TCwEegWVlaG/wB7NKzs4mDdg+O01wNoAi4K7p8B1OA/4P8SlHUFdgLfDFumHpgR0dakYJ2nh5U54FOgKKLuy/gvKTlhZSOC+nNb6nOU55CL/7D+APhVWHmi+/akoN65EfX+EZSPjrP+GUBV2P1Ej71Yx8fgoPziiPKu+MD63ojy/YJ2rworqwJqgT4JbL+xwfquaKHOz4GG8L4G2/0Dwl4XkduihddGovsm1rY4KygvS/JYCW3zwWFlVfhjvntYWWVQ7/w47V0PuIgyB1wfWQf4ekS9t4FZYfdDXy4+F1HvHnxgmBfc39rSvorRzwlBHyZHlIeC+F7B/bzI/sc57v8TpTzRfXt8UO/CiHoXBOXDW1h31OMi7Fhramn5oF5O8HxnAY9HaXtuRP3/Ccr7hd2vbqF9C46tRYS9z0WpV0WU12pYPyaHlc0g+nvV88AnYds2dMzlRdR7irDPCd32nptSdKQjC82iExphHo9/w3sl+FkyLxhZnYUfJR4RsXzkiUxvA4X40TGAfwHDzae0jLOwVKBkOT/KOhO42Hb9RD85eA73xln8BOApFzaq6JzbjB/FGtWKvlQDb+GDPIK/8/CjuGPC1pmHH+0Hv+0KgucQ7kF8EBjZj2edc3WhO+bz8I8EHnZhI/3O5y5XJdLvYB/MMbMNwTp34kfthkapHm/fjsSPcj0S5fm0RrLHXqJG4r/M3R/R7krgffx+CrfQObcmgXZPxr9u7mmhzglBe83pXM65RvwJ7sMtIjUrCfH2TSxv4vf5g2Z2lsVJT0nAAudcTUQ/AAZFq9xKkc/1nYj2xwOvAssj9u9zQE/8L0Lg34u+Zz5l8BCzhGYQOwEf9D4QUT4T/1oemdxTSUi8fTse/8X04Sivk1CfW6vKObfHzGFmdoT5dKbP2PW+cRLR3zeeidJ/2LXP/gV0D9JrJkSmHwVt7gv83u3+i2Y0ib5WIfZ71SD8L5st+Rdwqvm0yePMrCDBdUoHpwBfOrKBwd/Q7BgV+DfXnRG314LHe0YsXx1xP/RzcygX9M/At4Cj8R+41Wb2qLV+ur3f4N+QTw0+oC8FHnPOrY2zXA+izwCyBujeyr7MYVcwPya4PwfobWbDgrJPnXOh1JnQz7m79cP5E2c3sOfPvZH97YUPdD+L0pdoZbsxPzXeM/iRzG/gA+Yj8V9UouXuxtu3fYEa59zOZPsSQ7LHXjLtgv/yFdn2IVHaTXSmmJ74kci6Fuq0dNwZrT/24u2bqIIvGqfgP7fuA9YE+dRJf8mN1g+364TMFvvRlnXgn2t4+xX4oDZy3z4UPB7av+fgv9B/H1gMrLIo+fwReuD3ceRJ1mvCHk+1ePu2Av/lYhu7P9/Qe2BrXycQ5Vg1s4HAC/jnejlwDP5941la8b7hnJuHT68biE+/Wmf+3KhDI/ofKz2yxf62oKX3qngB/v/D5+efjk813WBmfzSzXkmsXzog5eBLR3Ya/uff14P7G/A5rGfHqF+VTOPOOQfcBdwV5KmfjM/J/Cs+6E+Kc+4dM5uPz8vcDhwQ/B9PNdAnSnkffJpBa8wBvmtmx+DzQ2c759aY2Xv4Ef2x7Bq9D/UhtM4locJg9K0ne34wuoj76/Ef5NFGaXvjR79b8lX86NuZ4R90wX5pTb70avxIXH7EB2e8UeRYUnrsRbQL/teeJVEe3xJxP3K7x7Ie6GFmRS0E+S0dd45dx952fNAWqSe7+p8Szrk5wBwzKwSOxefiPx3kza9P5brSZAM+uL0yxuMfAASDAN8BvmNmQ/E57dPwswP9Nsay1fh9XBAR5PcJezzdNuCPl+NjPP5pjPJERDv2xwP7AGc755qD7jb+Gvsw/heIrvjUpOnAs+ZPxg0dg/GC7lj9jaWl96pVcfq7M+jjdDPrg0/duhV//sY5SfRBOhiN4EuHZGZfxY9I/M45VxsUP4sfWdnqnFsU5dbqAMA5V+Oc+yvwN+ALLVQNjfjEmp//N8CX8PmSH7rEpqWbhx/1Lw0VBP9/GZ972hrz8D/73oD/UHonKJ+NP5ltOLsH+AvxP62fG9HOOfiBghb7EaR2/As4y3af0ehofN5pPMVBf5s/FM1sLK1Pp1iAzyePPKkv8vklKtFjL9bxEav8FXwQf0CMdhM5OTmaWfhR+ItbqDMPGBH+i1WQanUO8EaQJgb+y1lvMysPq7c/0VMgEhHvNYRzrj547fwv/oTr/Vq5rkx7Fn+S5ooY+zfyCxzOuQ+ccz/Gf8Fq6b1oHv4z/r8iyi/Av5YXtKK/9bSwXxIQGjnfJ8bzbSnAj3tcRBEK5MMHBQ7EfzlsE+fcVufcU/hBoL74L7Qf4r/MX5xgGlWiYr1XrWBXgJ/I62aNc+73+F8EWzp2pBPQCL50BMODnxML8AHdBPyH1vP4WQ9C7ge+DrxgZr/Ap28UAPvjvwycEfZlIC4zuxsfXC3Aj7IdiD+ZclYLi4Xmxf+Omf0J/8GyOGwE7RH8rCXHsuesPrHciH/OL5jZdHyQ+wP8h9cNiT6fcM65zWb2b/xMHA8Fv1aAD+q/E/w/O6x+dbBNf2Rm2/DpMgfjZ4V5icQuzPJT/Lb7u5ndhT/JeBq7UgZa8ixwFTDDzP6I3xfXEWf0Khbn3PNm9hL+15le7JpFp7Ufeokee1GPD/zP7RuAc81sMT6FYblzboOZfQ+4Mwig/4E/6bY//ryHuc65yBzruJxzc8zsEeDWII1hNj6F6gTgaefcXPzML5PxF5T7Kf4k8W/jt334NIMP4Y/RmWZ2Kz4d60fsGs1MVtRtgX/Nn4A/9laGredTdn1B7Wh+iT/u5pvZL/Ej9iX4oP9459xEM9sHH5Ddjz/vYicwEZ8i1dJ70T/wr83fBcfOEvzFAi8GbmnlgMe7+F8FvoU/kXS723MGq5icc3PN7C/4EfBb8SlsTfgv+acCP3DOxbrIVszXSAur/Cf+l78/B6/Lvvj3nBW0YoDTzG7Aj5zPwR93A4Ar8NdqWRfUuQo/289sM/sd/leWg/En2v802XUGtgD/G/ZedR4wDn8ybui9O/Teco2Z/QNodM4tMrPH8e9H/8Z/KTwc/8vGXa3si3QUqT5rVzfdUnVj1+wXoVsdfrTwMfyHvUVZpgt+dPx9/IhGNX7k+Hp2zUgxOmhvXIz1DQ7uX4QfmV4btLUc/4FcFrbMXPaceeGn+MCzMby9sMfvCp5LzyS2xdH4D6ut+A+2F4CjIuokNItOWP3Ql4VvhpWFZtipilLf8NOtfYAfAVyNnzKzLKKeA26Ksc7zguXr8QHHV6JtwxjLXh7sg7pgn46LXDbRfRuUleNPGN2CT/P5Mz5wciQ5i06ix15Lxwd+NqN38QFc5Ewap+KDis342Tc+wp+cPSysThUwM4ljKg8/y8+Hwf5chw+eh4bVGQr8Hf+lYjv+l5zxUdo6Ax9k1+GDiZPbuG/22Bb4k0Ifxwf39cHx91B4f+O8jwyOt61IYDYZkptFJ3JGk2jHTXf8+8ryYD+sxedKXxU8Xoh/z1iCf/1vDo6rFmf7CZYtw89kszpo+0P8a9jC6iQzi04J/jVTEyxT1Yp9m4NPSXorOKY2Bf//L35kv6X1R32NBMfaSzGWORv/mtwebMNzI/cDsWduCj2v0cH90/DnY60OjsGV+NnH+kUsF0px3Brc3iJsRqUWjr9QP8Jf+zPwOf3HBPt9O/5z8IqIZXPx78dr8e/hLii/Bv+63YB/fX6APz7zE32v0K1j3kLTK6VNMFr0S/xZ7IYPWq5yzq2Is1wl/qTEE/CjuOvxb4I/cc4tj6hbxZ5zzgJ8xTn397Y+B5HWCnLWlwLznXNfy3R/REQke5m/wNg459yAeHVFwqU1RSc4sWU2/pvvRQQjffiTpg51zm1rYfFz8ScD3o7/Ft4f/xP9IjMb7pxbGVH/Ofy31HCtzVcVaZNgSsEv4C8AMxB/sq6IiIhIyqU7B/8S/FUHh7pgbuUgl+4j/Gwit7aw7HQX5LiFmNnL+J81L8FfqS/ceufn2BbJBl/E/2S7FrjSRZmvWURERCQV0pqiY2YvAF2cc8dGlM8DcM6NakWbn+EvAvSNsLIqfD7epLb1WERERESkY0n3NJmfJ/psB0vYdcW+hJnZwfgLZ7wX5eEvm1mtmdUHF0M5I9n2RUREREQ6mnQH+D2IfmGeapK8KmJwsmJoCqo/RDz8JH7GjVPwc/5uBx4zM43oi4iIiEin1pHnwb8DP23Uac653b40OOcuD79vZo/hp4m6BZgZrTEzuxQ/Sw8lJSVHHHTQQe3RZxERERERAF5//fX1zrny+DWTk+4Av4boI/WxRvajMrOf4YPxi5xzLV3oA/BX0TSzh/CXau7rnFsdpc7dwN0AlZWVbtGiRYl2R0REREQkaWb2SXu0m+4Afwk+Dz/SMHZdha1FZnYt/iqelzvn7mtFH9I78b+IiIiISBqlOwf/CWCEmQ0JFZjZYODY4LEWmdkV+Hnzr3XO3ZHoSoN8/XOAFc65NUn2WURERESkw0h3gH8P/hLNj5vZRDM7nV2XHr8rVMnM9jWzBjObGlZ2LnAb8Cww28xGhN2GhdU7z8weNLMLzWxMsNwc/DzkP0jHkxQRERERyZS0pug457aZ2Vjgl8B9gAEvAFc557aGVTUgl92/gIwPyscHt3DzgNHB/8vxU2f+Hz63fxuwCBjvnHsulc9HRERERCTbpPVCVx2FTrIVERERkfZmZq875ypT3W66U3RERERERKQddeR58EVERET2Kps3b2bt2rXs3Lkz012RFuTn51NRUUFZWVlG1q8AX0RERKQD2Lx5M5999hn9+/enqKgIM8t0lyQK5xx1dXWsWrUKICNBvlJ0RERERDqAtWvX0r9/f4qLixXcZzEzo7i4mP79+7N27dqM9EEBvoiIiEgHsHPnToqKijLdDUlQUVFRxlKpFOCLiIiIdBAaue84MrmvFOCLiIiIiHQiCvBFRERERDoRzaIjIiIi0oE98OqKjK7//KMHtXrZ66+/nmnTppHMhVerqqqYMWMGF154IUOGDNmjvRNOOIGxY8e2uk+dgUbwRURERKTDqKqqYtq0aSxbtmyPx6ZNm8bs2bMz0KvsogBfRERERCSG+vr6THchaQrwRURERCQrNDQ0cMstt3DQQQdRWFhIv379uOaaa9i+fTsAc+fOZcyYMQCcdNJJmBlmxty5c5tnrbn55puby6+//vrmtufNm8eJJ55IaWkpJSUlnHLKKbzzzju7rX/06NEcd9xxPPnkkxx++OEUFhbym9/8BoBf/epXHHzwwRQVFdG9e3cqKyt57LHH0rBVkqccfBERERHJCpMmTeLJJ5/kBz/4Accccwzvvfce1113HVVVVTzyyCN88Ytf5M477+Q73/kOt99+O0ceeSQAw4YNY8GCBYwcOZLJkyczZcoUAAYMGADA008/zcSJEznttNOYOXMmANOnT+f4449n8eLFDBw4sLkPH374IVdccQXXXXcdQ4YMoUePHtx///1cc801TJ06leOPP566ujoWL15MdXV1mrdQYhTgi4iIiEjGzZ8/n7/+9a/86U9/4sILLwRg3Lhx9OjRg0mTJvHmm28yfPhwhg0bBsDBBx/MiBEjmpcP/d+/f//dygGuvPJKRo0axeOPP95cNmbMGIYMGcIvfvELbrvttuby9evXM2vWLIYPH95cdvfdd3PooYcyderU5rJTTz01hc8+tZSiIyIiIiIZ9+yzz1JQUMBZZ51FQ0ND8+3kk08G4MUXX2xVux999BEff/wxF1xwwW7tFhcXM3LkyD3aHTx48G7BPcCRRx7Jm2++yeWXX84///lPamtrW/ck00QBvoiIiIhk3Nq1a9mxYwclJSXk5+c33yoqKgDYsGFDq9sF+MY3vrFbu/n5+Tz11FN7tNu3b9892rjwwgv57W9/y6uvvsopp5xCjx49OPPMM6mqqmpVn9qbUnREREREJON69uxJly5dmD9/ftTH+/Xr1+p2AW655RbGjRu3x+MFBQW73Q+drBtZNmXKFKZMmUJNTQ2zZs3immuu4ZxzzuHVV19tVb/akwJ8EREREcm48ePHM336dDZt2sSJJ54Ys15hYSEAdXV1ezxWUFCwR/nQoUMZPHgwS5Ys4Yc//GGb+9m9e/fmwP6uu+5qc3vtQQG+iIiIiGTc6NGjOe+88zjrrLO4+uqrOeqoo8jJyaGqqopnnnmG6dOnc+CBB3LggQeSl5fHvffeS48ePSgsLGTo0KGUlpYybNgwnn76acaPH0/37t3p168f/fr1484772TixIns2LGDs88+m169evHZZ5/xyiuvMGjQIK6++uoW+3bppZdSWlrKyJEjqaio4MMPP+S+++5rPj8g2yjAFxEREenAzj96UKa7kDIzZ87k17/+Nffeey8333wzhYWFDB48mFNOOYXevXsDPuXmjjvuYPr06YwaNYrGxkbmzJnD6NGjueOOO7jiiiv48pe/TH19PT/96U+5/vrrOfXUU3nxxRe5+eabufjii6mrq6NPnz6MGDGCc845J26/jj32WP74xz9y3333sWnTJvr168ekSZOYNm1ae2+SVjHnXKb7kHUqKyvdokWLMt0NERERkWbvvfceBx98cKa7IUmIt8/M7HXnXGWq16tZdEREREREOhEF+CIiIiIinYgCfBERERGRTkQBvoiIiIhIJ6IAX0RERESkE1GALyIiIiLSiSjAFxERERHpRBTgi4iIiIh0IgrwRUREREQ6EQX4IiIiIiKdSF6mOyAiIiIibbD07syu/4BLM7v+FJgxYwZf//rXWb58OYMHD850d9pMAX480V40neBAFhEREZHOSSk6IiIiItLp1dfXZ7oLaaMAX0RERETS7vXXX8fMeOmll5rLfv3rX2Nm/OQnP2ku++ijjzAznn76aQBee+01xo0bR9euXSkpKeHEE0/ktdde263tyZMnM2DAABYsWMAxxxxDUVER3//+9wFYtmwZp512GsXFxZSXl3PllVdGDf4feOABDj/8cLp27UpZWRmHHHIId911V3tsipRTgC8iIiIiaXf44YfTrVs3Zs+e3Vw2e/ZsioqK9ijLy8vjhBNOYPHixYwaNYqamhpmzJjBn//8ZzZv3syoUaN46623dmt/06ZNnHvuuZx33nn84x//4Pzzz2fHjh2cdNJJvPHGG9x5553MmDGD5cuXc9NNN+227EsvvcSkSZMYNWoUf//733n44Ye55JJL2LhxY/tulBRRDr6IiIiIpF1OTg4nnHACc+bMYerUqTQ1NTFv3jy+9a1vcfvtt7N161a6du3KnDlzOOKIIygtLeWGG26gsLCQF154gW7dugFw0kknMXjwYKZNm8ajjz7a3P7WrVuZOXMmEydObC675557WLZsGQsWLGDEiBEAfOlLX+KQQw7ZrW8LFy6kW7du3Hbbbc1lJ598cntujpTSCL6IiIiIZMTYsWNZsGAB27dv580332Tjxo18//vfp7CwkPnz5wMwZ84cxowZA8CLL77IhAkTmoN7gLKyMk4//XTmzZu3W9v5+flMmDBht7IFCxYwcODA5uAe/BeNs88+e7d6Rx55JDU1NUyaNImnnnqqw4zchyjAFxEREZGMGDNmDPX19bzyyivMmTOHww47jN69e3PccccxZ84clixZwtq1axk7diwA1dXV9O3bd492+vTpQ01NzW5l5eXl5Obm7la2evVqevfuvcfykWWjRo3ioYceYuXKlXzlK1+hvLyccePGsXjx4rY+5bRQgC8iIiIiGXHIIYfQq1cvZs+ezezZs5sD+bFjxzaXFRQUcOyxxwLQo0cP1qxZs0c7a9asoXv37ruVmdke9fr27ctnn322R3m0srPOOot58+ZRU1PDY489xurVqxk/fjxNTU2teq7ppABfRERERDLCzBg9ejTPP/888+fP3y3Af+ONN3jsscc46qijKC4uBvzI+jPPPMOWLVua29iyZQtPPvkko0ePjru+kSNHsnLlShYuXNhc1tTUxN/+9reYy3Tt2pUJEyYwZcoUVq9ezYYNG1r5bNNHAb6IiIiIZMyYMWN47bXXqK2t5fjjjwf8DDulpaXMmTOnOegHuO6666itreXEE0/kkUce4dFHH2XcuHHU1tYyderUuOu66KKLGDJkCGeeeSYzZszgmWee4YwzzmDz5s271Zs6dSpTpkzhwQcf5MUXX+SBBx7g9ttvZ/jw4ZSXl6d2A7SDtM+iY2YDgV8CJwEG/BO4yjm3Is5ylcClwAnAIGA9MB/4iXNueUTdHOAHwBSgD/ABcINz7pHUPhsRERGRDDvg0kz3oE1CJ9BWVlZSVlYGQG5uLqNGjeKJJ55ofhzg0EMPZe7cuVx77bVcdNFFOOcYMWIE8+bN47DDDou7roKCAp5//nkuu+wyvv3tb1NSUsL555/Paaedxje/+c3mekcffTS333473/3ud6murqaiooKTTz6ZG2+8McXPvn2Ycy59KzMrBt4C6oGfAA64CSgGDnXObWth2Z8DI4H7gUFEut8AACAASURBVCVAf+A6oAIY7pxbGVb3ZuB/gGuB14FzgUuACc65Z+L1s7Ky0i1atMjfWXr3nhU6+AtJREREOp733nuPgw8+ONPdkCTE22dm9rpzrjLV6033CP4lwBBgqHNuKYCZLQY+wo+239rCstOdc+vCC8zsZWB50O7UoKwCH9z/zDn386DqHDM7APgZEDfAFxERERHpqNKdg386sDAU3AME6TUvAxNjLuXrrYtS9gmwDj+aH3IKUADMjKg+EzjEzPZrXddFRERERLJfugP8zwPvRClfAgxLtjEzOxifovNexDrqgaUR1ZcEf5Nej4iIiIhIR5HuAL8HUBOlvBroHqU8JjPLA36HH8H/Q8Q6Nro9Ty6oDns8WnuXmtkiM1u0bt0ePxaIiIiIiHQIHXmazDuAY4BJzrloXxqS4py72zlX6Zyr7AjTH4mIiIiIRJPuAL+G6CP1sUb2ozKzn+GnzPxv59ysKOvoZnteviw0cl+NiIiISAeUztkPpW0yua/SHeAvwefIRxoGvJtIA2Z2LX6O+yucc/fFWEchsH+UdZDoekRERESySX5+PnV1dZnuhiSorq6O/Pz8jKw73QH+E8AIMxsSKjCzwcCxwWMtMrMr8PPmX+ucuyNGtWeBncAFEeWTgHciL4olIiIi0hFUVFSwatUqamtrNZKfxZxz1NbWsmrVKioqKjLSh3TPg38PcBnwuJmFLnR1I7ASuCtUycz2BT7GX332hqDsXOA2fAA/28xGhLW72Tn3LoBzbq2Z3Qr8yMy2AP8GzgHG4qfpFBEREelwQld5/fTTT9m5c2eGeyMtyc/Pp3fv3s37LN3SGuA757aZ2Vjgl8B9gAEvAFc557aGVTUgl91/YRgflI8PbuHmAaPD7l8LbAWuBPoAHwBnO+eeStmTEREREUmzsrKyjAWN0nGkewQf59wK4Ktx6lThg/nwssnA5ATX0YhP5bmpNX0UEREREemoOvI0mSIiIiIiEkEBvoiIiIhIJ6IAX0RERESkE1GALyIiIiLSiSjAFxERERHpRBTgi4iIiIh0IgrwRUREREQ6EQX4IiIiIiKdiAJ8EREREZFORAG+iIiIiEgnogBfRERERKQTUYAvIiIiItKJKMAXEREREelEFOCLiIiIiHQiCvBFRERERDoRBfgiIiIiIp2IAnwRERERkU5EAb6IiIiISCeiAF9EREREpBNRgC8iIiIi0okowBcRERER6UQU4IuIiIiIdCIK8EVEREREOhEF+CIiIiIinYgCfBERERGRTkQBvoiIiIhIJ6IAX0RERESkE1GALyIiIiLSiSjAFxERERHpRBTgi4iIiIh0IgrwRUREREQ6EQX4IiIiIiKdiAJ8EREREZFORAG+iIiIiEgnogBfRERERKQTUYAvIiIiItKJKMAXEREREelEFOCLiIiIiHQiCvBFRERERDoRBfgiIiIiIp2IAnwRERERkU4k7QG+mQ00s4fNbJOZbTazR81sUILL/j8zm2VmG8zMmdnkGPXmBo9H3q5K6ZMREREREckyeelcmZkVA7OBeuAiwAE3AXPM7FDn3LY4TVwOvAk8BVwYp+5iYEpEWVWyfRYRERER6UjSGuADlwBDgKHOuaUAZrYY+AgfjN8aZ/l9nHNNZnYA8QP8Lc65hW3tsIiIiIhIR5LuFJ3TgYWh4B7AObcceBmYGG9h51xTO/ZNRERERKTDS3eA/3ngnSjlS4BhKV7X4UGe/04zW2xm30hx+yIiIiIiWSfdKTo9gJoo5dVA9xSu50XgfuBDoBs+nef3ZtbXOXdTCtcjIiIiIpJVkgrwzexk59ys9upMqjjnpkYUPW5mjwHXmtltzrmtkcuY2aXApQCDBiU0qY+IiIiISNZJNkXnWTNbambfM7NerVhfDdFH6mON7KfSX4AuwCHRHnTO3e2cq3TOVZaXl7dzV0RERERE2keyAf5Y4F/AjcB/zOwBMxuVxPJL8Hn4kYYB7ybZl9ZyaVqPiIiIiEjaJRXgO+fmOufOAwYA1wGV+Dns3zOzK80sXh79E8AIMxsSKjCzwcCxwWPt6QKgDni7ndcjIiIiIpIxrZpFxzm33jn3f865A4GTgPX4Oez/Y2YzzCxqGgxwD/5iU4+b2UQzOx14HFgJ3BWqZGb7mlmDme2WS29mo8zsLGB8UFRpZmcFZaE6x5vZ02b2DTM70czONLPH8VN0TkvgYloiIiIiIh1Wm2bRMbNT8ReoGgGsxQfrpwAXmNkVzrnfhtd3zm0zs7HAL4H7AANeAK6KOPHVgFz2/AIyDQhPCfpOcAstA7A6WO4GoBewE39V2/Odc39p/bMVEREREcl+SQf4ZtYH+AZwMbAvMB+YBDzinGsws1zgV8BU4LeRyzvnVgBfbWkdzrkqdgXs4eWj4/UvuIjWl+LVS0pTA1T/G3pWgqX70gEiIiIiIolLdprMR4AJwHZgJvAb59yS8DrOuUYzewD4dsp6mWnVr8OyeyGvCLrFyj4SEREREcm8ZEfwPwdcBdwXbS75MG8DY1rdq2yz7RP/t+YtBfgiIiIiktWSDfAnAKudczsjHzCzPKCfc26Fc24LMC8VHcwKtSv8341vg9MsmyIiIiKSvZJNKF8OHB7jscOCxzsX1wTbVkJeKezcuCvYFxERERHJQskG+Huc+BomH2hqQ1+yU/06aNoOfU8CzKfpiIiIiIhkqbgpOmbWDegRVtQ//EJVgSLgImBNCvuWHbYFI/Zlw6BoIdSuzGx/RERERERakEgO/pXATwEX3B6OUc+Cep3LthVgeVDUFwrLoX5tpnskIiIiIhJTIgH+3/FXnzXgXuAm4OOIOvXAu865xSntXTaoW+WD+5w86FIOm971efmaD19EREREslDcAN859xbwFoCZOeBp59z69u5Y1mjYBvml/v/CcnA7oW41FPfPbL9ERERERKJIahjaOfenvSq4B2iohdwS/39huf+7NfIHDBERERGR7JDISbazgW87594P/m+Jc86dmJquZYnGOn8FW/ApOgBbPoaKEzLXJxERERGRGBLJwQ+fGjMHf6JtInU7PuegsRZyi/39gp5ADqx8yKfqRDrg0rR2T0REREQkUiI5+GPC/h/drr3JNo114BohNxjBz8mFwh6wfe/KUhIRERGRjkNTwbRkR43/m1e8q6yw3F/8SkREREQkCyUV4JvZRDP7etj9fc1sgZltMbOHzaxr6ruYQTs2+r+hEXzwAf52BfgiIiIikp2SHcH/CVAedv9WYABwN3ACcH1qupUldoYC/LAR/C69oHEbNNRlpk8iIiIiIi1INsDfH1gMYGZFwKnA1c65a4AfA19JbfcyLDSCv1uKTq/gMeXhi4iIiEj2STbA7wKEhq6PwZ+kOyu4/wHQL0X9yg47oozgF/T0f+s3pL8/IiIiIiJxJBvgVwHHBf9PBF53zm0K7lcAm6It1GGFUnTywnPwgxF8BfgiIiIikoUSmQc/3F3Az83sK8Bw4Fthj40E3k1Vx7JCtJNs80ogp1ABvoiIiIhkpaQCfOfcr8xsPTACuN059+ewh0uBGSnsW+btqIGcfH8LMYPCnlCvHHwRERERyT7JjuDjnLsfuD9K+ZSU9Cib7Ny4e/59SEFP2KERfBERERHJPkkH+CFmVoE/6XY3zrkVbepRNtkRI8Av7Albl6a/PyIiIiIicSQV4JtZGfAr4BygMEa13LZ2Kmvs2Lj7FJkhhb2gsQ4aaqM/LiIiIiKSIcmO4N8JfBX4A/A2UJ/yHmWTnRt3P8E2pDBsqkwF+CIiIiKSRZIN8McD33PO3dkenck6OzbuCubDNQf466FkYHr7JCIiIiLSgmTnwQd/Qau9Q6wR/IKwAF9EREREJIskG+A/CHy5PTqSdZyLfZJtXokP/BXgi4iIiEiWSTZFZxZwm5mVAs8A1ZEVnHOzU9GxjGvYCq5x96vYhphBYTnUr01/v0REREREWpBsgP948Hc/YHJYuQMs+Ns5ZtFpvoptSfTHu1TAtk/S1x8RERERkQQkG+CPaZdeZKOdm/3f3BizgXYph+p/Q1Mj5HSO7zQiIiIi0vElFeA75+a1V0eyTmOt/5sTI8AvrACa/BVtu1SkrVsiIiIiIi1pzSw6mFkvM5tgZheZWY+grIuZtaq9rNSwzf/NLYj+eCio3648fBERERHJHkkF5Ob9H/Af4AngXmBw8PDjwLUp7V0mNcQbwS/3f+vXpac/IiIiIiIJSHbE/UfAZcANwNH4E2tDngQmpKhfmdecohNjBD+/zAf/GsEXERERkSyS7Em2FwM3OOduMbPIM0uXAvunpltZIJSiEyvAN/Mn2m7XCL6IiIiIZI9kR/D7AwtjPLYDiDGnZAcUbwQf/Im2mgtfRERERLJIsgH+KuALMR47DFjetu5kkeaTbGPk4AN06e1H8Jsa0tMnEREREZE4kg3wHwKmmtmxYWXOzA4ErgEeTFnPMq35JNv82HWK+gJNysMXERERkayRbIB/PfA+8CLwUVD2EPB2cP9nKetZpjVs8+k5e5xqEKaor/+7fXV6+iQiIiIiEkdSAb5zrg4YDVwEvAL8E/gXcClwknNuR6o7mDGNtZAX55SCLn0Ag7pP09IlEREREZF4kp0HvwswEqgH/g5MA77unPuTcy6hRHQzG2hmD5vZJjPbbGaPmtmgBJf9f2Y2y8w2mJkzs8kt1L3EzN43s3oz+8DMvpnIOpo1bIPc4pbr5BZAYU+o0wi+iIiIiGSHhAJ8Mys0s18B1cA8fK79X/GpOhvM7Odm1sJ0M83tFAOzgYPwvwJ8DfgcMMfMEpmB53KgCHgqznouAe4CHgHG49OIfmNm30pgHV5DAiP44NN0FOCLiIiISJZIdB78p4Cx+KvVPgOswF/kaiD+4lbfBYYBp8Zp5xJgCDDUObcUwMwW4/P3pwC3xll+H+dck5kdAFwYrYKZ5QE3A/c550JX1p1jZv2AG83s9865nXHW40fw8+KM4IMP8De9C64xfl0RERERkXYWdwTfzP4LGAOc5Zw70zn3e+fcLOfcc8H/ZwBnAyeb2ZlxmjsdWBgK7gGcc8uBl4GJ8frinGuKVwefQlQOzIwovw/oCRyXQBuJ5eADdOnng3td8EpEREREskAiKTrnAX9zzj0Wq4Jz7hF8GswFcdr6PPBOlPIl+F8AUuHzwd/I9SwJ/ia2noba+Dn4sGsmHZ1oKyIiIiJZIJEA/3Dg6QTqPQV8MU6dHkBNlPJqoHsC60hEj+Bv5HqqIx5vWeO2BHPw+wEGtf9JsHsiIiIiIu0nkQC/HJ9zH88KoKJt3ckcM7vUzBaZ2aJ169YlPoKfWwBFfaB2Zft3UkREREQkjkQC/GL8tJjx7AC6xKlTQ/SR+lgj+60RaidyPaGR+2qicM7d7ZyrdM5VlpeXByfZJjKxD1A8UAG+iIiIiGSFRGfR6W9mQ+LUGZBAO0vYlSMfbhjwboJ9SWQdBOsJn78ylHuf2HoaaxObRQegeABseA3qN/h58UVEREREMiTRAP/hBOoY4OLUeQL4uZkNcc4tAzCzwcCxwA8T7Es8C4D1+BN+/xlWPgk/ev9yQq0kO4IPUPMW9BmbcEdFRERERFItkQD/6ylc3z3AZcDjZvYT/BeCG4GV+AtTAWBm+wIfAzc4524IKx+FPyegT1BUaWZbAZxzDwd/d5rZdfgLW63CB/ljgf8GLnfO7YjfTeenvkwkBx/8CD5AzZsK8EVEREQko+IG+M65P6VqZc65bWY2Fvglfl56A14ArnLObQ2rakAue54jMA0YFXb/O8EttExoPb8zMwdcA3wPfwLwZc653yTW0WC6/URTdPLLIL8b1LyRWH0RERERkXaSaIpOyjjnVgBfjVOnirCAPax8dBLruYuwXwWS0hzgJ5iiA1AyEKpfb9XqRERERERSJZFZdPY+rtH/TTRFB6BkP9j8PuzY1D59EhERERFJgAL8qFoxgt91P8BB9aJ26ZGIiIiISCIU4EcTStFJagR/X/93w2up74+IiIiISIIU4EfTmhz8vBIo/ZwCfBERERHJKAX40SQ7i05Iz6Ngw6vg4l0OQERERESkfSjAj6oVI/gAPY+GutVQtyr1XRIRERERSYAC/Ghak4MPfgQflKYjIiIiIhmjAD+a1uTgA3Q/DHLyFeCLiIiISMYowI+mtTn4uV2g22Gw/tXU90lEREREJAEK8KNqBMuBnMLkF+15tJ8Lv6kx9d0SEREREYlDAX40rsnn35slv2zPo6Bhq7+qrYiIiIhIminAj8Y1JZ9/H9J8oq3SdEREREQk/RTgRxMawW+NsgMhfx9YvzC1fRIRERERSUBepjuQnZqSP8E2xHKg/FhYN9/fX3r3nnUOuLT1XRMRERERaYFG8KNpS4oOQPnxPgd/+7rU9UlEREREJAEK8KNpS4oOQMXx/u+6l1LTHxERERGRBCnAj6atI/g9Kv0Um2vnp65PIiIiIiIJUIAfVRty8AFyC6HX0bvy8EVERERE0kQBfjSusW0j+ODz8GvegMbtqemTiIiIiEgCFOBH09YcfPABvmuErctS0ycRERERkQQowI+qjTn4AOUj/ZSZW5ampksiIiIiIglQgB+Nc20fwc8vg27DYctHqemTiIiIiEgCFODH0tYRfPDTZW5dDk0NbW9LRERERCQBCvBjacssOiHlx4PbCds+aXtbIiIiIiIJUIAfS6pG8EFpOiIiIiKSNgrwY2lrDj5Alwoo6gtbPmh7WyIiIiIiCVCAH0sqUnQASofClo+hqTE17YmIiIiItEABfiypSNEBKBsKTfWwrSo17YmIiIiItEABfiypSNEBKD3Q/1WajoiIiIikgQL8WFI1gp/fFYr6w+YPU9OeiIiIiEgLFODHkqocfPBpOluXQtPO1LUpIiIiIhKFAvxYclM0gg9BHv5O5eGLiIiISLtTgB9LKkfwSz8HGGxWHr6IiIiItC8F+LGk6iRb8Pn8xQMU4IuIiIhIu1OAH5VBTm5qmyw9ELYuUx6+iIiIiLQrBfjRWDtslrKh4Bp8kC8iIiIi0k4U4EfTHgF+6YEoD19ERERE2psC/GjaI8DPK4KSQbrglYiIiIi0KwX4UbXTZik9ELYuh4ba9mlfRERERPZ6CvCjaY8RfAjy8Bth/YL2aV9ERERE9noK8KOxFM+gE1L6OSAHPpvTPu2LiIiIyF5PAX407TWCn9vF5+Gvnds+7YuIiIjIXi/tAb6ZDTSzh81sk5ltNrNHzWxQgst2MbP/M7PVZlZnZgvM7IQo9arMzEW5nZFYL9txs5QeCBteUx6+iIiIiLSLtAb4ZlYMzAYOAi4CvgZ8DphjZiUJNPEH4BJgKjABWA08Z2bDo9R9DhgZcZuXWEfbcbOUHegvdrV+YfutQ0RERET2WnlpXt8lwBBgqHNuKYCZLQY+AqYAt8Za0MwOA84H/ts598egbB6wBLgBOD1ikfXOudZF0e0Z4Hc9wLe/dh70Gdt+6xERERGRvVK6A/zTgYWh4B7AObfczF4GJtJCgB8suxP4a9iyDWb2IPBDMyt0ztWnpJetDfCX3h2/Tl4RdD/cB/giIiIiIimW7hz8zwPvRClfAgxLYNnlzrnI5PUlQAFwQET5l82s1szqzWxh4vn3AO00i05IxSifotO4vX3XIyIiIiJ7nXQH+D2Amijl1UD3NiwbejzkSeBy4BTgAmA78JiZTYrVuJldamaLzGzR1m3tfAJsxShoqof1r7bvekRERERkr9Mpp8l0zl3unPuzc26+c+5h4ERgEXBLC8vc7ZyrdM5Vdi3dp307WHE8YErTEREREZGUS3eAX0P0kfpYo/OJLgu7RvL34JxrBB4CBphZ37i9bK8LXYUUdIduhyrAFxEREZGUS3eAvwSfSx9pGPBuAsvuF0y1GbnsDmDpnotE5eLWaM9ZdEIqRsH6BdC4o/3XJSIiIiJ7jXQH+E8AI8xsSKjAzAYDxwaPteRJIB/4r7Bl84BzgFktzaATVm+Fc25N3F629wg+QO9R0FgH1f9q/3WJiIiIyF4j3QH+PUAV8LiZTTSz04HHgZXAXaFKZravmTWY2dRQmXPuDfwUmbeZ2cVmdiLwILAf8NOwZc8zswfN7EIzG2Nm5wJzgC8CP0iol+kI8MuDC/B+Nrf91yUiIiIie420BvjOuW3AWOBD4D7gfmA5MNY5tzWsquHnqozs39eBPwI3AU8DA4Hxzrl/h9VZDlQA/wfMAn4H1Af1Hkyoo+lI0enSC7oPhzWz2n9dIiIiIrLXSPeFrnDOrQC+GqdOFT7IjyyvA64ObrGWXYj/EtF66RjBB+h7Crz3C9i5GfLL0rNOEREREenUOuU0mW2WzgDfNcBnc9KzPhERERHp9BTgZ1KvYyGvBFY/l+meiIiIiEgnoQA/k3ILoGIMfPosuPizd4qIiIiIxKMAP9MGfBm2LYdN72S6JyIiIiLSCSjAz7T+EwGDlY9muiciIiIi0gmkfRYdiVDUG8qP9QF+Ud89Hz/g0vT3SUREREQ6LI3gZ4OBZ8LGxbB9XaZ7IiIiIiIdnAL8bDDwTP+3+l+Z7YeIiIiIdHgK8LNByb5QMQrWLdBsOiIiIiLSJgrws8V+F0H9Wti6LNM9EREREZEOTAF+thh0FuQUwPpXMt0TEREREenANItOkl5dXt3mNj7esCJq+Un5h9Bj3au80TSWxpyi5rrnHz2ozesUERERkb2DRvCzyJriY8llJxXbdbKtiIiIiLSOAvwsUpvXl035Q+hd9wrmGjPdHRERERHpgBTgZ5k1RcdR2LSJXtv/nemuiIiIiEgHpAA/y2wsOIgteQMZUPtPctyOTHdHRERERDoYnWSbbcxYWfIlhm26mz61L9NkBbC0x+51Drg0M30TERERkaynAD8D9t/8QIuPbynYj+qCz9O/djbVhZ8HerRYX0REREQkRCk6WaqqdCKNls+QLQ9Dk064FREREZHEaAQ/jRqaYOW2LizfUkRjk1GQ20SX3CYKcpoozHUU5jZRmNNEl7wmuheUUtX1DD635S+w8hHY9+xMd19EREREOgAF+O3EOVi3PZ+lm4tZuqmYpZuLWL6liB1Nif1okp/TxMCS/flRnw2c9NksljXsT8XASroWuHbuuYiIiIh0ZArwU+zjzUU88Ukv3q3pyuadfvPm5zSxX2kd4/pXc0BZLfuX1VGY20R9Y46/NRk7mv/Poa4hh09rC6naUsT3ll/KXYM+5dCmP3Hmgi9QVzCIYfu+zvCB3Thi3+58of8+FOblZvhZi4iIiEi2UICfIks3FfHw8gre2FBG17wGKss3c0BZHQfsU8vAku3ktfJsB+dgcM+vYx/dyIMH3sgNm6fz2qpSnnl7DQAFeTkc2n8fjhjcnSMGdeeIfbvTs2thCp+ZiIiIiHQkCvDb6KNNRTy8vDdvbiila14D5+6/hvEDNlCU15SS9s2g9z5d4aApdHnv5/xi4M/hS4tZt62B1z+p4fVPqln0SQ33vrScuxqXATCkVwlH7OuD/crB3RnSqys5OZaS/oiIiIhIdjPnlNMdqbKy0i1atMjfWXr3bo+9urwagA83FfPwsgreqi6lNL+BCYPWc0oKA/toyuteY8jWx3in22Us7vm93R7b2djEqpo6PqmuZcWGbXxSXUvtDj/7TlF+LoN6FLNvz2L27VnCgO5F5OfG/0nh/KMHtcvzEBEREREws9edc5Wpblcj+EnasD2P37/fn39vKKM0v4Hz91/NKQOq6dKOgX3Iui5H0rVhJV/YeAfVXQ7lPyWnND+Wn5vD4F4lDO5VApTjnGP91h2sqN7GJxtq+WRDLR98tgWAHIM+ZV3o162I/t2L6N+tiD5lXchLIOgXERERkeymAD8JT35cxA9f7UNDk6U1sG9mRlXX08l1Oxn52dU8N+BxNhccEKOqUV5aSHlpIUfs6y+UVVvfwIrqWj6prmXVxjqWfLqZRZ/UAJBrRu+ywuagv29ZF7bWN9C1UIeIiIiISEeiFJ0oIlN0NtUbU1/pxuMfF3NAWS2Xf34lfYp3ZKx/q4tHM37lBOpzu/HcgCdoyOnaqnacc2ys3cl/Ntbx6cY6Vm2sY1VNHXU7d11Ya0D3Ig7qU8ZBfUoZ2qeUg/qUsl+vEo32i4iIiLSRUnQy5JVPC/ifed35rDaXq4/YTGXZJ2Q6tq3N68dLfe5g7KeTGLH2Gl7q/Tt/Nm6SzIzuJQV0LyngkP77ALuC/jWbt9O7rJD312zhgzVbmPPBWhqb/JfBgtwc9utVwgEVXdm/vIT9K7qyf3lXhpSXUFygQ0pEREQkkxSNxVDf0MjPn/uA38/vxX77NPDo6es4rHwnry7PdM+8tUXH8GbPH/HFDTdxSM2tvN3jmpS0Gx70h59kW9/QyNK1W/kgCPiXrt3Kkk838Y93VtMU9iNQ/25F7F/RlcE9i4MTe0vYN/i/S77m6xcRERFpbwrwo9i+s5GJd7zM+2u2MOngbfz4qM0U52dfKtP7+1zMPjs+4JCa22mwEt7r/s2Utv/AqyuilvugvYQTD+5NQ2MT67ftYN2WetZt2c66LfUsXbuFV5dtoL5h9/MTyrrk0aOkgB4lhfQoKaBnSUFwv4DiglzMTDP3iIiIiLSRAvwolq7dSpetO/jj5CMZk/f3THcnNjNeK59Orqvn8Opb6FP3EitKxoPtyiH6uOz8du1CXm4Ofcq60KesC7BPc7lzjtodjVRv20H1th1sCP5Wb/NfADZvb9itncK8HHqWFPDS0nUM6lESzO7jZ/rp162Isi757fo8RERERDoLBfhRlHbJ57mrjvdXhF2a6d78//bOPT6yosz73193J53L3IeZYRwuMzDKAorosix4QXRVfAXBG+IKgut6YxW8fFBEYEXAxSug8roKXt8dEARRUBGQOyggyHAbhBUdhOHiBGYyl2TSSXc/7x9VnZycdCedIZN0kuf7+Zycc556qk6dOpXTT9V5qmp4TFluREv5ZgAAHodJREFUX3guLcW1LN5yK/nSeh6d9S5ME2sQS6I9n6M9n2PHeW1DwnuLZdZ3J43/Auu6evnT05v47UN/p680+IvJzJYcS6Kx/4Jo+A+ct7JoZt4H/jqO4ziO4+AGflV2nt8WjPtJginL32YcSiE7n526rmKPzu/y6Kz3UMjOm+is1aQ5l2HRrBYWzWoZJH/PP+9EqWw8u7nAk3F2n7D1sGZ9OL7n8fV0dvcNipec27+yLZnTwpK5rf4VwHEcx3GcaYUb+FMFiWfaXkUhO49dNl3Ki9d/k9Uz38FfJjpfo6Sa3/+MfBMvWtTEixbN7JcViiU2dPfRuaUv7nvp7O7jua5e/vpsFxu6+yilpoDN5zLMaWtidmsTs1ubmd3axJzWJma3NXHUfjuzeHaLDwR2HMdxHGfS4wb+FGN9fg8ezB3H8o0X88KNF5GxPlbOP5ne7NyJztqYks9lWTgry8LUF4AKZTM29xTp3NJHZ3cvG7b00dnfIOhlzfotdPcOzPf//dvC9Ejz2ptZPLuFxbODK1Byv3h2C9vPbqHJXYEcx3Ecx2lg3MCfghSy83hozodZ0nUdyzZdzpKu61m53SmsnvH2rZovfzKSkZjV2sSs1iZ2qjIGAKCvVGbDlj42bOlj98WzeLpzC09t6OHpDVt4Yl03d65+jk2pwcASLJiRZ/GcVl6QaggsntPCC2a3smBmnmxmepSz4ziO4ziNh69kW4X0SrZJ7ly9bgJytPU8l38Z+3acxHaFlTzTsj93Lfgim5p3nehsTRoKfaXQ65/cusM+yHuHDAjOCGbkc8xsaWJmS3KfY1ZCNiOf47377zxBd+Y4juM4zkTjK9k6W0VnfneuXXI5yzf+hL3XfYmDn3gjf5l1BA/OPZ4tue0nOnsNT74py6Km7JDBwBXMjC19pSENgE09RTYVwvkT67fQVSgOiSvgG9f/mYUz8yyclWfRzBYWzsqzYGa+f32Aee3NzGsLC4+5a5DjOI7jOPXgBv50QBkenX0ka9rfyIvXf5PlGy9k142X0NGyDx0tL6MrtyN/mX3kROdyUiKJtuYcbc05Fs9uralXKhubC0U29QTjf2PcL5qVZ+3GAn/f1MNDT23k2c2FQSsDJ5nZkmN+XGV4XlvzoEZAv2xGM3PbmpkVvxI057xR4DiO4zjTDTfwpxE9uQXcveAMunOLWNJ1Awt67mZRzx1syc5nZt9jrG3dj46WfejLzh45MWdUZDOKs/dUmapzycBh2YyuQpHu3hJdhSJdcd/dW6SrUKKrt8imniLPbOjp1ynWahEATVnRksuSb8rS2pShpSnLi7afyayUu9Cs1hwz82HMwox8jhn5HG35LO3NOVqaMmiajN1wHMdxnKnAuPvgS9oROAd4A8FL4TrgE2Y2dH7EoXFbgDOAo4A5wL3AiWZ2S0ovA5wIfBjYHngEON3MflZPHqeSD/5wZMs9zCs8yPzCvczoe4IsvRhiffMedLTuy3P5vXgu/1I2NS0btDqu0ziYGb2lMt3R+O8qlOjuLdLTV6KnWKant0RPsURPXznI+ko05TLBhainj56+8ojXyAjamwcM/vZ8jrbmbP9+Rj58wWjPZ2lrzjEj7tv79+G4vTnotzXnyOcyZHwgsuM4jjPNmRI++JLagBuAAnAMYMCZwI2S9jKzrhGS+D5wMPBp4K/AR4FrJO1vZvcm9M4ATgBOBv4IvBu4VNIhZnbVWN7TZKaUaaGjdR86WvfhsRlvZ35hJQu33MnCLXew68aL2c1+CECZLIXsXAqZuRSy83iy/V/Y2LScjc3L6crtgMnnjp8oJJHPZcnnssxtbx51/GK5PMj4rxz3lsr0FssUimV6i6X+43BeZnOhSGF9N73FpF6Z0XQXNGcz5Jsy5HNZWuLXhXyu+r4l6iX1++NFef++KTso7XwuE7Yob8rKv0g4juM4U5rxdtH5ILALsJuZPQog6X7gz4Te9rNrRZT0UuA9wPvNguUp6WZgFXA6cGiULSQY918ys6/F6DdKWg58CXADvwqlTAtrW/dnbev+AMiKzOp9lN07z6el1EG+tI58eT3thTUs6rlzIB5NdOcW83TbgazL78n6/J5saH4RZU2elYCnM7lMhhn5DDPyz/9VYGb0lcIXhUKqkVBpAFQaC31lo1gy+spliqVyOC6VKZaNzu7eRFiUJ86Hc0mqB4lo9Afjv7nSAOhvQGRoTjYMorxqoyEVL5/L1khvIF6TNzIcx3Gcbcx4G/iHAndUjHsAM1st6XfAYQxj4Me4fcAlibhFSRcDn5WUN7MCcBDQDKxIxV8B/EDSMjNbPTa3M3XYdeNFVeUdrUO/GmXL3bSWOmgtrqWt9AxtxadYtulyXrTx/wHB6N/Q/ELW5/eks3kPerLz6cvMpC8zk5KaKauJsnKU1UxJrfRl2iipzb8ETHIk0ZwTzbmxaTDUomxGqdJAKJX7GwbJhkCpZLERUaZUHjguDtobxUojomyUSmU29xRZn5AXy8njsWlgVMgIctkMTRmRzYimbIZcVuQylf2ALJsJerlskGUzQa8pK3LZDLlM0M/FxkN/eplEeFY0JdKuyCvpNQ26diZeKxwn85eVyEhkMmG9ifRxVkLxPCshxeOMyAhv2DiO44wD423g7wlcUUW+Cji8jrirzay7StxmYHk83pPgAvRoFT2APQA38J8HpUwbmzM7s7kpMYe7lcmX1tFefIr24lO0FZ9ip81XsatdWne6ReUpqp1ipo2i2sI+cVxSnrKaMLKD98pSpomyshg5ysphykX9ZkrKx4ZFc38aGSuSsT4y1kvGeslaHxkq52EvSvHa7fRlZlBU3Gfa6cu0Y2QIw0iEKRxb5Zx6jZjBetZv/KTTqZyTWKxs4HpVz7elIWUG0SEn5Cpt9IZrD87/2OQpI5HJiqYstDL+jUKrNDDKA18dSqkvDP2NiMpxIrxkRrmc2JeNspE6N0oG5bLRVzQKVhyiX2noVPTLRup8QLfRqBj7/Q0EQSYTjqVY26WBfb8MREpHw8gHpZPQScpqydNxq6ZTT9wa+VdKJxE3Ew8G31M4z2SAKvJKQ4qq5TRCmvGkWhlXxsoMkcf7olr+M+G8WpqZeEyVMq6dZqVxmL73AXm1NJP1KX3vlTzWTJNkXgY/tySq8q4fqjN8eDWtajpD06ly7RHzMnJ+q+Yunc7zuHb6mSRlyefeH0eJOCmd5HOiiiyZ5mjZmldnI60tNd4G/jxgfRX5OmDu84hbCa/sO21oKaf1nLFEGQq57SjktmMdewWZGTnbTK68hZz1kLECGSshSshKZBgwsrP9hnYvGSuQtT5y5S6aS51kKZC1XmRFRBlZafCeMtqqf8XpgVGtoZA4r7wJo9E+UJaDjfixLuNKHtJ5GyoDlLz64LDBjZzG5KG5x7Jq7nETcm2zwQ2CpOE/+Ly2PDRIgtzMMAMj7MuDjithDOiZUU7kIxm3olM2wyA2RoIsHIU/VlU2oGuJex04rugOlvWXSSWdyjUrKVrquonrDegm8zD0uv1ag+Kl7iN1D/33lkwvdY1kvGr3lryHkcsvdb+O40wpfJrMiKQPAR+KpwVJD05kfqYY2wHPTnQmpghbUZbVetgbAUvtJ4Rxqptfi9uUx//Xxw4vy7HFy3Ns8fIcO3bbFomOt4G/nuo99bV659Nxd64ir/TIr0vozZGkVC9+Wm8QZnY+cD6ApLu3xZRF0xUvz7HDy3Js8fIcW7w8xw4vy7HFy3Ns8fIcOyTdvS3SHe/JzSs+8mn2AB6qI+6yONVmOm4vAz73q4A8sGsVPeq4juM4juM4juNMWsbbwL8S2E/SLhWBpKXAK2PYcPwSaCIxGFdSDjgCuDbOoANwNWG2nSNT8Y8CHvQZdBzHcRzHcZypzHi76FwAfAy4QtIpBOfbM4AngO9WlCTtDPyFsPrs6QBmtlLSJcC5kpoIM+EcCywjYcyb2VpJZwMnSdoE3ENoBLyOOFd+HZw/soozCrw8xw4vy7HFy3Ns8fIcO7wsxxYvz7HFy3Ps2CZlqfGe0kfSTsA5wBsIU19cD3zCzB5L6CwlGPBfMLPTEvJW4IuEBa/mAPcBJ5rZTalrZIGTCAtrbQ88QmgsXLZt7spxHMdxHMdxGoNxN/Adx3Ecx3Ecx9l2jLcPfsMiaUdJl0naIGmjpMvj1wZnGCS9U9LPJP1N0hZJj0g6S9LMhM5SSVZjmzOR+W8kJB1Yo4w6U3pzJX1P0rOSuiRdJ+klE5XvRkXSTcPUu6ujjtfNKkjaQdK3JN0uqTuWx9Iqei2Svirp6fj/f7ukA6roZSSdJOkxST2S7pP0jvG4l0agnvKUtI+k8yU9HHUel3ShpGVV0nusRp1963jd00QyivpZ639775TetK2fddbN04Ypy56U7rStm/XYQ1Gvrt/wet+vtfB58AGFmXluIKyAewxhbMCZwI2S9jKzronMX4NzAvA48DlgDfAy4DTgtZJeYWblhO5ZDB1MvWk8MjnJOB64K3FerBxIEmHA+VLgOMK0sCcR6ureZrZmHPPZ6PwHMCsl2x84m6H10OvmYJYD7wL+CNwKvLGG3veBg4FPA38FPgpcI2l/M7s3oXcG4V1xckzz3cClkg4xs6u2zS00FPWU57sJs8x9kzAb3BLgVODu+L/9REr/GsK7NskjY5jnRqbe+gnwIxJj/CL/mzqfzvWznrL8HmECkyTtUVZtgpTpWjdHtIdG+Rte7/u1OmElwem9AR8HSsDyhGwZwbD61ETnr5E3YEEV2dGERtLr4vnSeP6Bic5vI2/AgbGcXj+MzmFR57UJ2WzC+g7fnOh7aPQtvjALwLx47nWzejllEscfiGW0NKXz0ij/t4QsR/ghvzIhWxjL/Aup+NcD90/0vTZQeVZ7l+4MlAljyJLyx4AVE31fjVyeMcyAM0dIa1rXz3rLskq890bdg1PyaVs367SH6voNr/f9OtzmLjqBQ4E7zKwylz4WptP8HeFhODUws44q4krv85LxzMs04VDgKTO7sSIwsw2EHgGvq8MQv9QdDvzSzKoueOcEbPCXt1ocSpiS+JJEvCJwMXCQpHwUHwQ0AytS8VcAL6nmgjLVqKc8q71LzexvQAf+Lh1EnfWzXqZ1/XweZXkM8HdCb71D3fZQvb/h9b5fa+IGfmBP4MEq8lUMLJDl1M9r4v5PKflZkooK4xyurOZz5gBwoaSSpOckXaTBY0GGq6s7SZoxPlmclLwNmAn8uEqY183Rsyew2sy6U/JVBINpeUKvwMBihEk98HdsTSTtTuhhTr9LAd4SfaYLku6YDj7OW8mxsYy6Jd0g6dWpcK+fo0TSjsBrgQuj0ZnG6+YAaXuo3t/wet+vNXEDPzCP4AeVZh0wd5zzMqmRtAQ4HbjOzCrLLxcIPpAfJrwUTgBeAvw+/oA5gQ3A1wmfSV9H8At9PXC7pIVRZ7i6Cl5fh+NoYC3wm4TM6+bWM1JdnJfYd1r8xjyMnpNAYSHH7xB68L+fCv4lwX/3IMI6MD3AzyUdNa6ZbHxWEMbivB74EDAfuEHSgQkdr5+j5yiC/Vits8TrZqSGPVTvb3i979ea+CBbZ8yILc8rCGMX/q0iN7OngY8kVG9VmMVkFWFQ07T7x6+Gma0EViZEN0u6BfgDYeDtKROSsSmApBcQfuS/kexx8rrpNDDnAa8g+DgP+qE3s+OS55J+DtxBGCyedjWZtpjZexOnt0q6gtB7eibwqonJ1ZTgaGClmd2fDvC6GahlD40n3oMfWE/1ns9aLSgnhcIiZL8EdgEOshFmc7EwI8RtwD+NQ/YmLWZ2D2HGh0o5DVdXK+HOUIbrcRqE1826GakurkvozYmzRwyn50QkfYnQ4/x+M7t2JH0zKwGXAjtIWryt8zdZMbNNwK8Z/L/t9XMUSNoX+AfqeJfC9KybI9hD9f6G1/t+rYkb+IFVBH+nNHsAD41zXiYdkpqAy4B9gDeb2QOjiO4rrdVHpZyGq6uPm9nm8cvSpOIY4D4zu28UcbxuDs8qYFkcvJxkD6CXAZ/mVUAe2LWKHvg7dhCSTgZOBI43s//ZiiS83o5Msoy8fo6OYwiDPy/airhTvm7WYQ/V+xte7/u1Jm7gB64E9pO0S0UQF3p4JdXneHUikjLAhQSf8bea2R11xtuJ8In0D9swe5MeSfsAuzFQTlcCSyS9JqEzC3gLXlerEstwD+rscfK6WTe/BJoIMxMB/X7jRwDXmlkhiq8mGARHpuIfBTwYZyxzAEnHE9xHTjaz80YRr1Luj5vZM9sqf5Od+K48hMH/214/60RSM2GNgN/UmDGmWpxpUzfrtIfq/Q2v9/1aE/fBD1wAfAy4QtIphFbmGcATDF0gwxnM/yVUwC8CXZL2S4StMbM1kr5OaEzeThgwththYYdyjOcAki4EVgP3AJ2ERTJOAp4kLH4D4QVwO7BC0qcZWCRDwFfGO8+ThKMJfpAXpgO8btZG0jvj4T/G/f+R1AF0mNnNZrZS0iXAubHXajVwLGENkX5jyczWSjobOEnSJkL9PoLwI3joON3OhDNSeUp6N3AuweC8IfUu3WhmD8V0/pUwnd5VhN+oRYQFcF4O/Ou2v5PGoI7yPIHw/3wj8BRhTYETgO3x+jmIkcoyoXoIwUWkameJ182R7SHq/A2v9/06LBO9MECjbMBOwM+AjYQVLH9BHYs9TPeNsKiF1dhOizrvJ8wFu57QU/IM4fPebhOd/0ba4j/5/YTZdPoIL8jzgcUpvXnADwg+eN2EBVleOtH5b8SN0APSQZj7vlq4183aZVfr//qmhE4rYWXgZwizZdwJHFglrSxhkPjfCDMX3Q+8c6LvsZHKk7Diaj1lvh9h5fW/xzrbCVxH8PWd8PtsoPJ8C2Etm2djOT1HMK729fo5urJM6F0Ry7G5RjrTum5Shz0U9er6Da/3/VprU0zEcRzHcRzHcZwpgPvgO47jOI7jOM4Uwg18x3Ecx3Ecx5lCuIHvOI7jOI7jOFMIN/Adx3Ecx3EcZwrhBr7jOI7jOI7jTCHcwHccx3Ecx3GcKYQb+I7jNBSS3ifJJHVKmpsKy8Ww0yYgX6fFazf0AoGSMpLOlfS0pLKkXwyj+5ikFWNwzbdK+lQV+d6x3OY932s0KpL2j/Xi6JQ8K2mTpKKkmamwg2OcQ7Zhvir/R0u31TUcx2lc3MB3HKdRmQ2cONGZmIS8E/g48FXglcBnxuGabwWGGPjA3sDnCQu7TFXuJixWc0BK/nKgHeglPIckBxBWS75tm+fOcZxpiRv4juM0KtcCx0laNNEZGS8k5ccgmd3j/lwzu93M/ncM0mwYJDVJ0gRct+qzMbM+wtLzaQP/AGAV8PsaYQ+YWee2yJPjOI4b+I7jNCpnxv0pwylVXGeqyH8k6bHE+dLosvARSWdJeia6UKyQ1CZpuaRrJG2W9KikY2pccndJN0rqjm4wp0sa9C6VtEDSdyQ9Kakg6WFJH0rpVFwoDpB0qaROwlLkw93rmyTdLmmLpA2SfiFpt0T4Y8Bp8bQU03/fcGmOhKRlki6U1BHv5V5Jb0uE/wg4BlgSr2fR9ed9wA+j2p8TYUtjvJykk2LZFCQ9JenrkloSaVee2X9I+oqkp4ACMEfS9pJ+HOMV4rP4laSFI9zPLEnnJeI9IumTyUaDpAPjdd8u6QJJHcDfh0n2FuCFkrZPyA4AbiX00vcb+JLagH8Ebk7I9pV0Xax7XZKul7RvKt8/krQmugT9XtIW4CsxbBdJv451skPSN4Ahxr+k90haGa+zUdIDkj48XHk5jjM5aWhfUsdxpjVPA+cBn5D0NTP72xilexJwE8Eo3YNgJJWBlwEXAF8DjgV+KOluM1uViv8L4AfAWcBBwKkx/mkQDEiCUdcaZauj3n9LypvZt1LpXQj8hOBaU/OdLOlNwK+BG4AjgBnA6cBtkvY2syeBtwHHA+8D9o9R/1JPodS45o6ERsda4JNAR7z2zyS91cyuBM4AFgD/BBwaoxaANYRG2inA4fEcwnMFWAG8BfgyoZd795jWUuAdqaycDNwFfAjIAj3AT4GdgU8DTwCLgH8B2oa5nwyhDF8O/CfwAHAwcHa8h8+lonwL+A3wXqCF2twS9wcAP42NhVcBHyOU3UmSWsysh/BcmipxJO1FMPYfIjw3Az4L3CxpPzO7L3Gd2cDFhDr6OWCLpGbgt4T69tF4vQ8Db0/d+6sIZf5NQpllgH8A5gxzX47jTFbMzDfffPOtYTYGjJzlBN/tTuAHMSwXw05L6J8WXmVD0vkR8FjifGmMe0NK7/IoPyohmwsUgc+nrwN8NhX/AmATMCeen0owQF9YRe9ZIJe6z3PqLJe7gT9X4kfZMqAPODshO7NaedRI8zFgxTDh3ycY9fNT8t8C96bKes1wzzIlf3WUH52SHxnle6ee2T2AUrqbgeNHWbcOiem9LyX/HqFRsl08PzDq/bzOdFviMz8vnr8kxt+B4IffBxwYw74QwxbE88tiHZ+TSG8WsA64PFXGBhyWuvYHo3y/hCxDcA8yYGmUnQCsG4v/Ud98863xN3fRcRynYTGzdcDXgaOTrijPk9+kzh+O+2sS111P6AndsUr8n6bOLyb0pr84nr+J0Ou9Orqh5BRm3rkGmE/4apDk5yNlWFI7odf5EjMrJvK5Gvgd8JqR0thK3gRcBWyoci8vjV8rtjbdXuCyVLrXxvC0z/ovzCzthnUX8GlJH5f0kqSLzTBUBrdelJKvAJoZ+OpRYcRnA2ChZ/6uRL4PIDQu15hZF7AyFfYnM+tInP/KEv74ZrYRuJKhz7UP+FVKtj/whJndkYhfZmg9vQuYq+CSdogk77l3nCmMG/iO4zQ65xB6M08fo/TWp857h5FXc8tI+2JXzpfE/UKC0daX2i6N4fNT8Z9mZOYCqqH7DNtulpqFwNEMvZevxvD0vYwm3WagK5Xu2hrpVrvvIwhG8GeA+4EnJf2nUuMhUswj9GL3puTPJMJHum4tbgFerDC1a8X/vsKtwAHRneafGXDpqVyz1nOdm5J1mFkpJVtM9fEBg2RmdjPBVWpHQsOlI/r97zXsXTmOMylxH3zHcRoaM9ss6SxCT/5Xq6j0AEhqThluW2t8jsQi4K+pc4An4/45gqH68RrxH0mdDxkgXIX1UW/7KmHbExpA24LnCMbpl2uEP/U80u0huOrUk+6QMjKztQSf84/GrzvHENxfOoD/rpHuOmBelbqyfSJ82OsOw80Ev/hXx+3zibBbCX7xryD4yicN/HXUfq7pRme1/DwN7FlFPmT2KTO7jPDVZAbBDenLwNWSdoi9/o7jTBG8B99xnMnAtwkG9JlVwiqDbysuMkT3g1dso7y8K3X+boI/+APx/GrC4MXHzezuKtum0V4wunn8EThcUrYil7Qz4T5v2or7qIergb2AVTXupRD1CgTDNU0lPB12NeHryOwa6Y6q4WBmj5jZ5wgG8YuHUb2Z8Lt3eEp+JOGLze2juW6K3xPGbfw7oVc92YN/G8EX/5OJfCTz9GYlFsOKx2+hvud6O7CjpP0S8TMMraf9mNlmM/sV8N2Y123VGHYcZ4LwHnzHcRoeMytIOh04v0rwb4ANwAWSPk+YHvAzBKN7W/DBaEDdRZgd5wOEQb8bYvg5BPeRWyWdQ+ixbycY/a82s8O28rqnEmaA+ZWkbxP8/r9AuPevb+3NADtJemcV+e2EmWb+ANwi6TzCoNy5BCN6FzN7f9R9iNAzfixhMHCPmT0Q5RB62X9McMO538xukvQTQm/y2fEaZcKg2jcDJ9ow8/dLmg1cR5iB6OGY7mExb9fWikeoK7cB35G0gDAQ9c2EZ3iWmT07TNxhiV+aVhIM8w4zezgR9qykh2PYXy3MeFThDMLg3+slfZnQS38iYTagetzSfkyYdedySZ8jfD36CGGgbj/x/2cRcCPhC8kOhBmX7k2MB3AcZ4rgBr7jOJOFHxKm93thUmhmnZIOIRjWPyVMx3g68HqCG8JYcxhh+sRTCcb1mQQjrZKfDZJeQTCOTyT45ncSDP2fbe1FzexqSQcTXD9+Suhxvgn4zGh7vFNUXErSHG5ml0nahzCD0H8RppJ8DniQYFhW+B6wX9SZQ/iqstTM7pN0GmF6yw8Ses+XERoKRwHHAe8nTINZiPJrGH7OeQjuPffENHcmNA4eAY40sytqRTKzcizD/yI8m/nxmp8Czh3hmvVwM2G60Gor1N5KaOQl3XMws/slHQh8kVCmAu4AXmODp8isipn1SnoDYUrZbxPGNVxEaAx+J6F6J8GgP4fg97+W0Bg6tf7bcxxnsqChExM4juM4juM4jjNZcR98x3Ecx3Ecx5lCuIHvOI7jOI7jOFMIN/Adx3Ecx3EcZwrhBr7jOI7jOI7jTCHcwHccx3Ecx3GcKYQb+I7jOI7jOI4zhXAD33Ecx3Ecx3GmEG7gO47jOI7jOM4Uwg18x3Ecx3Ecx5lC/H92SxUCqJI4WAAAAABJRU5ErkJggg==\n"
                },
                "metadata": {
                  "needs_background": "light"
                }
              }
            ]
          }
        },
        "7b00a268b8954367ae50eaa968222997": {
          "model_module": "@jupyter-widgets/base",
          "model_name": "LayoutModel",
          "model_module_version": "1.2.0",
          "state": {
            "_model_module": "@jupyter-widgets/base",
            "_model_module_version": "1.2.0",
            "_model_name": "LayoutModel",
            "_view_count": null,
            "_view_module": "@jupyter-widgets/base",
            "_view_module_version": "1.2.0",
            "_view_name": "LayoutView",
            "align_content": null,
            "align_items": null,
            "align_self": null,
            "border": null,
            "bottom": null,
            "display": null,
            "flex": null,
            "flex_flow": null,
            "grid_area": null,
            "grid_auto_columns": null,
            "grid_auto_flow": null,
            "grid_auto_rows": null,
            "grid_column": null,
            "grid_gap": null,
            "grid_row": null,
            "grid_template_areas": null,
            "grid_template_columns": null,
            "grid_template_rows": null,
            "height": null,
            "justify_content": null,
            "justify_items": null,
            "left": null,
            "margin": null,
            "max_height": null,
            "max_width": null,
            "min_height": null,
            "min_width": null,
            "object_fit": null,
            "object_position": null,
            "order": null,
            "overflow": null,
            "overflow_x": null,
            "overflow_y": null,
            "padding": null,
            "right": null,
            "top": null,
            "visibility": null,
            "width": null
          }
        },
        "3959583f6dc9442c96dcc904c9a73386": {
          "model_module": "@jupyter-widgets/base",
          "model_name": "LayoutModel",
          "model_module_version": "1.2.0",
          "state": {
            "_model_module": "@jupyter-widgets/base",
            "_model_module_version": "1.2.0",
            "_model_name": "LayoutModel",
            "_view_count": null,
            "_view_module": "@jupyter-widgets/base",
            "_view_module_version": "1.2.0",
            "_view_name": "LayoutView",
            "align_content": null,
            "align_items": null,
            "align_self": null,
            "border": null,
            "bottom": null,
            "display": null,
            "flex": null,
            "flex_flow": null,
            "grid_area": null,
            "grid_auto_columns": null,
            "grid_auto_flow": null,
            "grid_auto_rows": null,
            "grid_column": null,
            "grid_gap": null,
            "grid_row": null,
            "grid_template_areas": null,
            "grid_template_columns": null,
            "grid_template_rows": null,
            "height": null,
            "justify_content": null,
            "justify_items": null,
            "left": null,
            "margin": null,
            "max_height": null,
            "max_width": null,
            "min_height": null,
            "min_width": null,
            "object_fit": null,
            "object_position": null,
            "order": null,
            "overflow": null,
            "overflow_x": null,
            "overflow_y": null,
            "padding": null,
            "right": null,
            "top": null,
            "visibility": null,
            "width": null
          }
        },
        "0484fb5fc4784b38b74e96b82a531b0e": {
          "model_module": "@jupyter-widgets/controls",
          "model_name": "DescriptionStyleModel",
          "model_module_version": "1.5.0",
          "state": {
            "_model_module": "@jupyter-widgets/controls",
            "_model_module_version": "1.5.0",
            "_model_name": "DescriptionStyleModel",
            "_view_count": null,
            "_view_module": "@jupyter-widgets/base",
            "_view_module_version": "1.2.0",
            "_view_name": "StyleView",
            "description_width": ""
          }
        },
        "90be8540a07a47179987de1ef5661b88": {
          "model_module": "@jupyter-widgets/base",
          "model_name": "LayoutModel",
          "model_module_version": "1.2.0",
          "state": {
            "_model_module": "@jupyter-widgets/base",
            "_model_module_version": "1.2.0",
            "_model_name": "LayoutModel",
            "_view_count": null,
            "_view_module": "@jupyter-widgets/base",
            "_view_module_version": "1.2.0",
            "_view_name": "LayoutView",
            "align_content": null,
            "align_items": null,
            "align_self": null,
            "border": null,
            "bottom": null,
            "display": null,
            "flex": null,
            "flex_flow": null,
            "grid_area": null,
            "grid_auto_columns": null,
            "grid_auto_flow": null,
            "grid_auto_rows": null,
            "grid_column": null,
            "grid_gap": null,
            "grid_row": null,
            "grid_template_areas": null,
            "grid_template_columns": null,
            "grid_template_rows": null,
            "height": null,
            "justify_content": null,
            "justify_items": null,
            "left": null,
            "margin": null,
            "max_height": null,
            "max_width": null,
            "min_height": null,
            "min_width": null,
            "object_fit": null,
            "object_position": null,
            "order": null,
            "overflow": null,
            "overflow_x": null,
            "overflow_y": null,
            "padding": null,
            "right": null,
            "top": null,
            "visibility": null,
            "width": null
          }
        },
        "488cba4585a34fb1b8629802896a1d38": {
          "model_module": "@jupyter-widgets/controls",
          "model_name": "VBoxModel",
          "model_module_version": "1.5.0",
          "state": {
            "_dom_classes": [
              "widget-interact"
            ],
            "_model_module": "@jupyter-widgets/controls",
            "_model_module_version": "1.5.0",
            "_model_name": "VBoxModel",
            "_view_count": null,
            "_view_module": "@jupyter-widgets/controls",
            "_view_module_version": "1.5.0",
            "_view_name": "VBoxView",
            "box_style": "",
            "children": [
              "IPY_MODEL_e44db0a94283455ea0ea3dc71c4bb6a6",
              "IPY_MODEL_45a63837f56c4ac2b84a0dda60bf31c4",
              "IPY_MODEL_d2441869998a49feaaafb0b152be565c"
            ],
            "layout": "IPY_MODEL_1c9f74b8e92c412d9fc57cfee0f8b94a"
          }
        },
        "e44db0a94283455ea0ea3dc71c4bb6a6": {
          "model_module": "@jupyter-widgets/controls",
          "model_name": "DropdownModel",
          "model_module_version": "1.5.0",
          "state": {
            "_dom_classes": [],
            "_model_module": "@jupyter-widgets/controls",
            "_model_module_version": "1.5.0",
            "_model_name": "DropdownModel",
            "_options_labels": [
              "ROSS",
              "MONICA",
              "RACHEL",
              "PHOEBE",
              "JOEY",
              "CHANDLER",
              "All Friends"
            ],
            "_view_count": null,
            "_view_module": "@jupyter-widgets/controls",
            "_view_module_version": "1.5.0",
            "_view_name": "DropdownView",
            "description": "Desired_Character",
            "description_tooltip": null,
            "disabled": false,
            "index": 0,
            "layout": "IPY_MODEL_81023066a1c54704ba5a7870e85c89ab",
            "style": "IPY_MODEL_152912d0ee7f4c9b9e028f8a41e3e05c"
          }
        },
        "45a63837f56c4ac2b84a0dda60bf31c4": {
          "model_module": "@jupyter-widgets/controls",
          "model_name": "IntSliderModel",
          "model_module_version": "1.5.0",
          "state": {
            "_dom_classes": [],
            "_model_module": "@jupyter-widgets/controls",
            "_model_module_version": "1.5.0",
            "_model_name": "IntSliderModel",
            "_view_count": null,
            "_view_module": "@jupyter-widgets/controls",
            "_view_module_version": "1.5.0",
            "_view_name": "IntSliderView",
            "continuous_update": true,
            "description": "Filter_Common_Words",
            "description_tooltip": null,
            "disabled": false,
            "layout": "IPY_MODEL_01629857d7a2444ca1d49dc9a0c45241",
            "max": 15149,
            "min": 0,
            "orientation": "horizontal",
            "readout": true,
            "readout_format": "d",
            "step": 1,
            "style": "IPY_MODEL_20ce3b537ec94e0db475839a2b41f8de",
            "value": 1000
          }
        },
        "d2441869998a49feaaafb0b152be565c": {
          "model_module": "@jupyter-widgets/output",
          "model_name": "OutputModel",
          "model_module_version": "1.0.0",
          "state": {
            "_dom_classes": [],
            "_model_module": "@jupyter-widgets/output",
            "_model_module_version": "1.0.0",
            "_model_name": "OutputModel",
            "_view_count": null,
            "_view_module": "@jupyter-widgets/output",
            "_view_module_version": "1.0.0",
            "_view_name": "OutputView",
            "layout": "IPY_MODEL_12931118789247c685de8dbe1e7c3fdc",
            "msg_id": "",
            "outputs": [
              {
                "output_type": "display_data",
                "data": {
                  "text/plain": "<Figure size 720x720 with 1 Axes>",
                  "image/png": "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\n"
                },
                "metadata": {
                  "needs_background": "light"
                }
              }
            ]
          }
        },
        "1c9f74b8e92c412d9fc57cfee0f8b94a": {
          "model_module": "@jupyter-widgets/base",
          "model_name": "LayoutModel",
          "model_module_version": "1.2.0",
          "state": {
            "_model_module": "@jupyter-widgets/base",
            "_model_module_version": "1.2.0",
            "_model_name": "LayoutModel",
            "_view_count": null,
            "_view_module": "@jupyter-widgets/base",
            "_view_module_version": "1.2.0",
            "_view_name": "LayoutView",
            "align_content": null,
            "align_items": null,
            "align_self": null,
            "border": null,
            "bottom": null,
            "display": null,
            "flex": null,
            "flex_flow": null,
            "grid_area": null,
            "grid_auto_columns": null,
            "grid_auto_flow": null,
            "grid_auto_rows": null,
            "grid_column": null,
            "grid_gap": null,
            "grid_row": null,
            "grid_template_areas": null,
            "grid_template_columns": null,
            "grid_template_rows": null,
            "height": null,
            "justify_content": null,
            "justify_items": null,
            "left": null,
            "margin": null,
            "max_height": null,
            "max_width": null,
            "min_height": null,
            "min_width": null,
            "object_fit": null,
            "object_position": null,
            "order": null,
            "overflow": null,
            "overflow_x": null,
            "overflow_y": null,
            "padding": null,
            "right": null,
            "top": null,
            "visibility": null,
            "width": null
          }
        },
        "81023066a1c54704ba5a7870e85c89ab": {
          "model_module": "@jupyter-widgets/base",
          "model_name": "LayoutModel",
          "model_module_version": "1.2.0",
          "state": {
            "_model_module": "@jupyter-widgets/base",
            "_model_module_version": "1.2.0",
            "_model_name": "LayoutModel",
            "_view_count": null,
            "_view_module": "@jupyter-widgets/base",
            "_view_module_version": "1.2.0",
            "_view_name": "LayoutView",
            "align_content": null,
            "align_items": null,
            "align_self": null,
            "border": null,
            "bottom": null,
            "display": null,
            "flex": null,
            "flex_flow": null,
            "grid_area": null,
            "grid_auto_columns": null,
            "grid_auto_flow": null,
            "grid_auto_rows": null,
            "grid_column": null,
            "grid_gap": null,
            "grid_row": null,
            "grid_template_areas": null,
            "grid_template_columns": null,
            "grid_template_rows": null,
            "height": null,
            "justify_content": null,
            "justify_items": null,
            "left": null,
            "margin": null,
            "max_height": null,
            "max_width": null,
            "min_height": null,
            "min_width": null,
            "object_fit": null,
            "object_position": null,
            "order": null,
            "overflow": null,
            "overflow_x": null,
            "overflow_y": null,
            "padding": null,
            "right": null,
            "top": null,
            "visibility": null,
            "width": null
          }
        },
        "152912d0ee7f4c9b9e028f8a41e3e05c": {
          "model_module": "@jupyter-widgets/controls",
          "model_name": "DescriptionStyleModel",
          "model_module_version": "1.5.0",
          "state": {
            "_model_module": "@jupyter-widgets/controls",
            "_model_module_version": "1.5.0",
            "_model_name": "DescriptionStyleModel",
            "_view_count": null,
            "_view_module": "@jupyter-widgets/base",
            "_view_module_version": "1.2.0",
            "_view_name": "StyleView",
            "description_width": "initial"
          }
        },
        "01629857d7a2444ca1d49dc9a0c45241": {
          "model_module": "@jupyter-widgets/base",
          "model_name": "LayoutModel",
          "model_module_version": "1.2.0",
          "state": {
            "_model_module": "@jupyter-widgets/base",
            "_model_module_version": "1.2.0",
            "_model_name": "LayoutModel",
            "_view_count": null,
            "_view_module": "@jupyter-widgets/base",
            "_view_module_version": "1.2.0",
            "_view_name": "LayoutView",
            "align_content": null,
            "align_items": null,
            "align_self": null,
            "border": null,
            "bottom": null,
            "display": null,
            "flex": null,
            "flex_flow": null,
            "grid_area": null,
            "grid_auto_columns": null,
            "grid_auto_flow": null,
            "grid_auto_rows": null,
            "grid_column": null,
            "grid_gap": null,
            "grid_row": null,
            "grid_template_areas": null,
            "grid_template_columns": null,
            "grid_template_rows": null,
            "height": null,
            "justify_content": null,
            "justify_items": null,
            "left": null,
            "margin": null,
            "max_height": null,
            "max_width": null,
            "min_height": null,
            "min_width": null,
            "object_fit": null,
            "object_position": null,
            "order": null,
            "overflow": null,
            "overflow_x": null,
            "overflow_y": null,
            "padding": null,
            "right": null,
            "top": null,
            "visibility": null,
            "width": null
          }
        },
        "20ce3b537ec94e0db475839a2b41f8de": {
          "model_module": "@jupyter-widgets/controls",
          "model_name": "SliderStyleModel",
          "model_module_version": "1.5.0",
          "state": {
            "_model_module": "@jupyter-widgets/controls",
            "_model_module_version": "1.5.0",
            "_model_name": "SliderStyleModel",
            "_view_count": null,
            "_view_module": "@jupyter-widgets/base",
            "_view_module_version": "1.2.0",
            "_view_name": "StyleView",
            "description_width": "initial",
            "handle_color": "lightblue"
          }
        },
        "12931118789247c685de8dbe1e7c3fdc": {
          "model_module": "@jupyter-widgets/base",
          "model_name": "LayoutModel",
          "model_module_version": "1.2.0",
          "state": {
            "_model_module": "@jupyter-widgets/base",
            "_model_module_version": "1.2.0",
            "_model_name": "LayoutModel",
            "_view_count": null,
            "_view_module": "@jupyter-widgets/base",
            "_view_module_version": "1.2.0",
            "_view_name": "LayoutView",
            "align_content": null,
            "align_items": null,
            "align_self": null,
            "border": null,
            "bottom": null,
            "display": null,
            "flex": null,
            "flex_flow": null,
            "grid_area": null,
            "grid_auto_columns": null,
            "grid_auto_flow": null,
            "grid_auto_rows": null,
            "grid_column": null,
            "grid_gap": null,
            "grid_row": null,
            "grid_template_areas": null,
            "grid_template_columns": null,
            "grid_template_rows": null,
            "height": null,
            "justify_content": null,
            "justify_items": null,
            "left": null,
            "margin": null,
            "max_height": null,
            "max_width": null,
            "min_height": null,
            "min_width": null,
            "object_fit": null,
            "object_position": null,
            "order": null,
            "overflow": null,
            "overflow_x": null,
            "overflow_y": null,
            "padding": null,
            "right": null,
            "top": null,
            "visibility": null,
            "width": null
          }
        }
      }
    }
  },
  "nbformat": 4,
  "nbformat_minor": 0
}