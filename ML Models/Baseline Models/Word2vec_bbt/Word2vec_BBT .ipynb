{
  "cells": [
    {
      "cell_type": "markdown",
      "metadata": {
        "id": "G4Z9O3tlbY39"
      },
      "source": [
        "# Import Packages"
      ]
    },
    {
      "cell_type": "code",
      "execution_count": null,
      "metadata": {
        "id": "3kxc_KecbY3_",
        "scrolled": true
      },
      "outputs": [],
      "source": [
        "import pandas as pd\n",
        "import numpy as np\n",
        "from collections import defaultdict\n",
        "import re\n",
        "import json\n",
        "import seaborn as sns\n",
        "import matplotlib.pyplot as plt\n",
        "\n",
        "from sklearn import preprocessing\n",
        "from gensim.models.word2vec import Word2Vec\n",
        "\n",
        "from sklearn.feature_extraction.text import CountVectorizer\n",
        "from sklearn.feature_extraction.text import TfidfVectorizer\n",
        "\n",
        "\n",
        "from sklearn.linear_model import LogisticRegression\n",
        "from sklearn.naive_bayes import GaussianNB\n",
        "from sklearn.svm import SVC\n",
        "\n",
        "from sklearn.model_selection import cross_val_score\n",
        "from sklearn.model_selection import GridSearchCV\n",
        "from sklearn.model_selection import train_test_split\n",
        "\n"
      ]
    },
    {
      "cell_type": "markdown",
      "metadata": {
        "id": "Lz5HmaJFbY3_"
      },
      "source": [
        "# Import Cleaned Data"
      ]
    },
    {
      "cell_type": "code",
      "execution_count": null,
      "metadata": {
        "colab": {
          "base_uri": "https://localhost:8080/"
        },
        "id": "76iZo_-xbY3_",
        "outputId": "9fe7878d-6635-4796-91ca-c153a73e3285"
      },
      "outputs": [
        {
          "data": {
            "text/plain": [
              "(45159, 6)"
            ]
          },
          "execution_count": 2,
          "metadata": {},
          "output_type": "execute_result"
        }
      ],
      "source": [
        "data_clean = pd.read_csv('bbt_data_clean.csv')\n",
        "data_clean.sample(frac=1)\n",
        "\n",
        "data_clean.shape"
      ]
    },
    {
      "cell_type": "code",
      "execution_count": null,
      "metadata": {
        "id": "38QmR0NTbY4A"
      },
      "outputs": [],
      "source": [
        "# Select and Label Dataset for Modeling"
      ]
    },
    {
      "cell_type": "code",
      "execution_count": null,
      "metadata": {
        "colab": {
          "base_uri": "https://localhost:8080/",
          "height": 363
        },
        "id": "G8uzeD9izkcF",
        "outputId": "482e54ad-8e29-4825-83df-9926053e7ab8"
      },
      "outputs": [
        {
          "data": {
            "text/html": [
              "\n",
              "  <div id=\"df-55d43f6b-953b-457d-8406-4978573c3d32\">\n",
              "    <div class=\"colab-df-container\">\n",
              "      <div>\n",
              "<style scoped>\n",
              "    .dataframe tbody tr th:only-of-type {\n",
              "        vertical-align: middle;\n",
              "    }\n",
              "\n",
              "    .dataframe tbody tr th {\n",
              "        vertical-align: top;\n",
              "    }\n",
              "\n",
              "    .dataframe thead th {\n",
              "        text-align: right;\n",
              "    }\n",
              "</style>\n",
              "<table border=\"1\" class=\"dataframe\">\n",
              "  <thead>\n",
              "    <tr style=\"text-align: right;\">\n",
              "      <th></th>\n",
              "      <th>Unnamed: 0</th>\n",
              "      <th>season</th>\n",
              "      <th>episode</th>\n",
              "      <th>episode_name</th>\n",
              "      <th>speaker</th>\n",
              "      <th>dialogue</th>\n",
              "      <th>target</th>\n",
              "    </tr>\n",
              "  </thead>\n",
              "  <tbody>\n",
              "    <tr>\n",
              "      <th>0</th>\n",
              "      <td>0</td>\n",
              "      <td>1</td>\n",
              "      <td>1</td>\n",
              "      <td>Pilot Episode</td>\n",
              "      <td>SHELDON</td>\n",
              "      <td>photon direct plane two slit either slit obser...</td>\n",
              "      <td>0</td>\n",
              "    </tr>\n",
              "    <tr>\n",
              "      <th>1</th>\n",
              "      <td>1</td>\n",
              "      <td>1</td>\n",
              "      <td>1</td>\n",
              "      <td>Pilot Episode</td>\n",
              "      <td>LEONARD</td>\n",
              "      <td>agree what’s point</td>\n",
              "      <td>1</td>\n",
              "    </tr>\n",
              "    <tr>\n",
              "      <th>2</th>\n",
              "      <td>2</td>\n",
              "      <td>1</td>\n",
              "      <td>1</td>\n",
              "      <td>Pilot Episode</td>\n",
              "      <td>SHELDON</td>\n",
              "      <td>there’s point think it’s good idea tee-shirt</td>\n",
              "      <td>0</td>\n",
              "    </tr>\n",
              "    <tr>\n",
              "      <th>3</th>\n",
              "      <td>3</td>\n",
              "      <td>1</td>\n",
              "      <td>1</td>\n",
              "      <td>Pilot Episode</td>\n",
              "      <td>LEONARD</td>\n",
              "      <td>excuse</td>\n",
              "      <td>1</td>\n",
              "    </tr>\n",
              "    <tr>\n",
              "      <th>4</th>\n",
              "      <td>4</td>\n",
              "      <td>1</td>\n",
              "      <td>1</td>\n",
              "      <td>Pilot Episode</td>\n",
              "      <td>LEONARD</td>\n",
              "      <td>one across aegean eight nabakov twenty-six acr...</td>\n",
              "      <td>1</td>\n",
              "    </tr>\n",
              "    <tr>\n",
              "      <th>5</th>\n",
              "      <td>5</td>\n",
              "      <td>1</td>\n",
              "      <td>1</td>\n",
              "      <td>Pilot Episode</td>\n",
              "      <td>LEONARD</td>\n",
              "      <td>yes um high iq sperm bank</td>\n",
              "      <td>1</td>\n",
              "    </tr>\n",
              "    <tr>\n",
              "      <th>6</th>\n",
              "      <td>6</td>\n",
              "      <td>1</td>\n",
              "      <td>1</td>\n",
              "      <td>Pilot Episode</td>\n",
              "      <td>SHELDON</td>\n",
              "      <td>think place</td>\n",
              "      <td>0</td>\n",
              "    </tr>\n",
              "    <tr>\n",
              "      <th>7</th>\n",
              "      <td>7</td>\n",
              "      <td>1</td>\n",
              "      <td>1</td>\n",
              "      <td>Pilot Episode</td>\n",
              "      <td>LEONARD</td>\n",
              "      <td>thank-you we’ll right back</td>\n",
              "      <td>1</td>\n",
              "    </tr>\n",
              "    <tr>\n",
              "      <th>8</th>\n",
              "      <td>8</td>\n",
              "      <td>1</td>\n",
              "      <td>1</td>\n",
              "      <td>Pilot Episode</td>\n",
              "      <td>SHELDON</td>\n",
              "      <td>leonard don’t think</td>\n",
              "      <td>0</td>\n",
              "    </tr>\n",
              "    <tr>\n",
              "      <th>9</th>\n",
              "      <td>9</td>\n",
              "      <td>1</td>\n",
              "      <td>1</td>\n",
              "      <td>Pilot Episode</td>\n",
              "      <td>LEONARD</td>\n",
              "      <td>kid you’re semi-pro</td>\n",
              "      <td>1</td>\n",
              "    </tr>\n",
              "  </tbody>\n",
              "</table>\n",
              "</div>\n",
              "      <button class=\"colab-df-convert\" onclick=\"convertToInteractive('df-55d43f6b-953b-457d-8406-4978573c3d32')\"\n",
              "              title=\"Convert this dataframe to an interactive table.\"\n",
              "              style=\"display:none;\">\n",
              "        \n",
              "  <svg xmlns=\"http://www.w3.org/2000/svg\" height=\"24px\"viewBox=\"0 0 24 24\"\n",
              "       width=\"24px\">\n",
              "    <path d=\"M0 0h24v24H0V0z\" fill=\"none\"/>\n",
              "    <path d=\"M18.56 5.44l.94 2.06.94-2.06 2.06-.94-2.06-.94-.94-2.06-.94 2.06-2.06.94zm-11 1L8.5 8.5l.94-2.06 2.06-.94-2.06-.94L8.5 2.5l-.94 2.06-2.06.94zm10 10l.94 2.06.94-2.06 2.06-.94-2.06-.94-.94-2.06-.94 2.06-2.06.94z\"/><path d=\"M17.41 7.96l-1.37-1.37c-.4-.4-.92-.59-1.43-.59-.52 0-1.04.2-1.43.59L10.3 9.45l-7.72 7.72c-.78.78-.78 2.05 0 2.83L4 21.41c.39.39.9.59 1.41.59.51 0 1.02-.2 1.41-.59l7.78-7.78 2.81-2.81c.8-.78.8-2.07 0-2.86zM5.41 20L4 18.59l7.72-7.72 1.47 1.35L5.41 20z\"/>\n",
              "  </svg>\n",
              "      </button>\n",
              "      \n",
              "  <style>\n",
              "    .colab-df-container {\n",
              "      display:flex;\n",
              "      flex-wrap:wrap;\n",
              "      gap: 12px;\n",
              "    }\n",
              "\n",
              "    .colab-df-convert {\n",
              "      background-color: #E8F0FE;\n",
              "      border: none;\n",
              "      border-radius: 50%;\n",
              "      cursor: pointer;\n",
              "      display: none;\n",
              "      fill: #1967D2;\n",
              "      height: 32px;\n",
              "      padding: 0 0 0 0;\n",
              "      width: 32px;\n",
              "    }\n",
              "\n",
              "    .colab-df-convert:hover {\n",
              "      background-color: #E2EBFA;\n",
              "      box-shadow: 0px 1px 2px rgba(60, 64, 67, 0.3), 0px 1px 3px 1px rgba(60, 64, 67, 0.15);\n",
              "      fill: #174EA6;\n",
              "    }\n",
              "\n",
              "    [theme=dark] .colab-df-convert {\n",
              "      background-color: #3B4455;\n",
              "      fill: #D2E3FC;\n",
              "    }\n",
              "\n",
              "    [theme=dark] .colab-df-convert:hover {\n",
              "      background-color: #434B5C;\n",
              "      box-shadow: 0px 1px 3px 1px rgba(0, 0, 0, 0.15);\n",
              "      filter: drop-shadow(0px 1px 2px rgba(0, 0, 0, 0.3));\n",
              "      fill: #FFFFFF;\n",
              "    }\n",
              "  </style>\n",
              "\n",
              "      <script>\n",
              "        const buttonEl =\n",
              "          document.querySelector('#df-55d43f6b-953b-457d-8406-4978573c3d32 button.colab-df-convert');\n",
              "        buttonEl.style.display =\n",
              "          google.colab.kernel.accessAllowed ? 'block' : 'none';\n",
              "\n",
              "        async function convertToInteractive(key) {\n",
              "          const element = document.querySelector('#df-55d43f6b-953b-457d-8406-4978573c3d32');\n",
              "          const dataTable =\n",
              "            await google.colab.kernel.invokeFunction('convertToInteractive',\n",
              "                                                     [key], {});\n",
              "          if (!dataTable) return;\n",
              "\n",
              "          const docLinkHtml = 'Like what you see? Visit the ' +\n",
              "            '<a target=\"_blank\" href=https://colab.research.google.com/notebooks/data_table.ipynb>data table notebook</a>'\n",
              "            + ' to learn more about interactive tables.';\n",
              "          element.innerHTML = '';\n",
              "          dataTable['output_type'] = 'display_data';\n",
              "          await google.colab.output.renderOutput(dataTable, element);\n",
              "          const docLink = document.createElement('div');\n",
              "          docLink.innerHTML = docLinkHtml;\n",
              "          element.appendChild(docLink);\n",
              "        }\n",
              "      </script>\n",
              "    </div>\n",
              "  </div>\n",
              "  "
            ],
            "text/plain": [
              "   Unnamed: 0  season  episode   episode_name  speaker  \\\n",
              "0           0       1        1  Pilot Episode  SHELDON   \n",
              "1           1       1        1  Pilot Episode  LEONARD   \n",
              "2           2       1        1  Pilot Episode  SHELDON   \n",
              "3           3       1        1  Pilot Episode  LEONARD   \n",
              "4           4       1        1  Pilot Episode  LEONARD   \n",
              "5           5       1        1  Pilot Episode  LEONARD   \n",
              "6           6       1        1  Pilot Episode  SHELDON   \n",
              "7           7       1        1  Pilot Episode  LEONARD   \n",
              "8           8       1        1  Pilot Episode  SHELDON   \n",
              "9           9       1        1  Pilot Episode  LEONARD   \n",
              "\n",
              "                                            dialogue  target  \n",
              "0  photon direct plane two slit either slit obser...       0  \n",
              "1                                 agree what’s point       1  \n",
              "2       there’s point think it’s good idea tee-shirt       0  \n",
              "3                                             excuse       1  \n",
              "4  one across aegean eight nabakov twenty-six acr...       1  \n",
              "5                          yes um high iq sperm bank       1  \n",
              "6                                        think place       0  \n",
              "7                         thank-you we’ll right back       1  \n",
              "8                                leonard don’t think       0  \n",
              "9                                kid you’re semi-pro       1  "
            ]
          },
          "execution_count": 3,
          "metadata": {},
          "output_type": "execute_result"
        }
      ],
      "source": [
        "threshold = 7\n",
        "names={0:'SHELDON', 1:'LEONARD', 2:'PENNY', 3:'HOWARD',4:'RAJ',5:\"OTHERS\"}\n",
        "names_rev={'SHELDON':0, 'LEONARD':1, 'PENNY':2, 'HOWARD':3,'RAJ':4,\"OTHERS\":5}\n",
        "\n",
        "data_thres = data_clean\n",
        "data_thres['speaker']= data_clean['speaker'].apply(lambda x: 'OTHERS' if (x not in names.values()) else x)\n",
        "\n",
        "data_thres['target'] = data_thres.apply(lambda x: names_rev.get(x.speaker),axis=1)\n",
        "data_thres[:10]"
      ]
    },
    {
      "cell_type": "code",
      "execution_count": null,
      "metadata": {
        "colab": {
          "base_uri": "https://localhost:8080/"
        },
        "id": "1T9iO6BmbY4A",
        "outputId": "d6ec590c-2e58-4162-f163-44ef551b0b1a"
      },
      "outputs": [
        {
          "data": {
            "text/plain": [
              "array([0, 1, 2, 3, 4, 5])"
            ]
          },
          "execution_count": 4,
          "metadata": {},
          "output_type": "execute_result"
        }
      ],
      "source": [
        "# split the clean text in the rows  into list of words\n",
        "tokenized_data = data_thres[\"dialogue\"].apply(lambda text: re.split(' ',text))\n",
        "\n",
        "target_thres = data_thres['target'] \n",
        "my_tags = data_thres['target'].unique()\n",
        "my_tags"
      ]
    },
    {
      "cell_type": "code",
      "execution_count": null,
      "metadata": {
        "colab": {
          "base_uri": "https://localhost:8080/",
          "height": 206
        },
        "id": "YFnsqM3ZbY4A",
        "outputId": "5abc76e1-8948-425e-a7ea-b50c72972b53"
      },
      "outputs": [
        {
          "data": {
            "text/html": [
              "\n",
              "  <div id=\"df-ce68c8d3-a676-4889-b3e5-00d2dcd00dfe\">\n",
              "    <div class=\"colab-df-container\">\n",
              "      <div>\n",
              "<style scoped>\n",
              "    .dataframe tbody tr th:only-of-type {\n",
              "        vertical-align: middle;\n",
              "    }\n",
              "\n",
              "    .dataframe tbody tr th {\n",
              "        vertical-align: top;\n",
              "    }\n",
              "\n",
              "    .dataframe thead th {\n",
              "        text-align: right;\n",
              "    }\n",
              "</style>\n",
              "<table border=\"1\" class=\"dataframe\">\n",
              "  <thead>\n",
              "    <tr style=\"text-align: right;\">\n",
              "      <th></th>\n",
              "      <th>Unnamed: 0</th>\n",
              "      <th>season</th>\n",
              "      <th>episode</th>\n",
              "      <th>episode_name</th>\n",
              "      <th>speaker</th>\n",
              "      <th>dialogue</th>\n",
              "      <th>target</th>\n",
              "    </tr>\n",
              "  </thead>\n",
              "  <tbody>\n",
              "    <tr>\n",
              "      <th>0</th>\n",
              "      <td>0</td>\n",
              "      <td>1</td>\n",
              "      <td>1</td>\n",
              "      <td>Pilot Episode</td>\n",
              "      <td>SHELDON</td>\n",
              "      <td>photon direct plane two slit either slit obser...</td>\n",
              "      <td>0</td>\n",
              "    </tr>\n",
              "    <tr>\n",
              "      <th>1</th>\n",
              "      <td>1</td>\n",
              "      <td>1</td>\n",
              "      <td>1</td>\n",
              "      <td>Pilot Episode</td>\n",
              "      <td>LEONARD</td>\n",
              "      <td>agree what’s point</td>\n",
              "      <td>1</td>\n",
              "    </tr>\n",
              "    <tr>\n",
              "      <th>2</th>\n",
              "      <td>2</td>\n",
              "      <td>1</td>\n",
              "      <td>1</td>\n",
              "      <td>Pilot Episode</td>\n",
              "      <td>SHELDON</td>\n",
              "      <td>there’s point think it’s good idea tee-shirt</td>\n",
              "      <td>0</td>\n",
              "    </tr>\n",
              "    <tr>\n",
              "      <th>3</th>\n",
              "      <td>3</td>\n",
              "      <td>1</td>\n",
              "      <td>1</td>\n",
              "      <td>Pilot Episode</td>\n",
              "      <td>LEONARD</td>\n",
              "      <td>excuse</td>\n",
              "      <td>1</td>\n",
              "    </tr>\n",
              "    <tr>\n",
              "      <th>4</th>\n",
              "      <td>4</td>\n",
              "      <td>1</td>\n",
              "      <td>1</td>\n",
              "      <td>Pilot Episode</td>\n",
              "      <td>LEONARD</td>\n",
              "      <td>one across aegean eight nabakov twenty-six acr...</td>\n",
              "      <td>1</td>\n",
              "    </tr>\n",
              "  </tbody>\n",
              "</table>\n",
              "</div>\n",
              "      <button class=\"colab-df-convert\" onclick=\"convertToInteractive('df-ce68c8d3-a676-4889-b3e5-00d2dcd00dfe')\"\n",
              "              title=\"Convert this dataframe to an interactive table.\"\n",
              "              style=\"display:none;\">\n",
              "        \n",
              "  <svg xmlns=\"http://www.w3.org/2000/svg\" height=\"24px\"viewBox=\"0 0 24 24\"\n",
              "       width=\"24px\">\n",
              "    <path d=\"M0 0h24v24H0V0z\" fill=\"none\"/>\n",
              "    <path d=\"M18.56 5.44l.94 2.06.94-2.06 2.06-.94-2.06-.94-.94-2.06-.94 2.06-2.06.94zm-11 1L8.5 8.5l.94-2.06 2.06-.94-2.06-.94L8.5 2.5l-.94 2.06-2.06.94zm10 10l.94 2.06.94-2.06 2.06-.94-2.06-.94-.94-2.06-.94 2.06-2.06.94z\"/><path d=\"M17.41 7.96l-1.37-1.37c-.4-.4-.92-.59-1.43-.59-.52 0-1.04.2-1.43.59L10.3 9.45l-7.72 7.72c-.78.78-.78 2.05 0 2.83L4 21.41c.39.39.9.59 1.41.59.51 0 1.02-.2 1.41-.59l7.78-7.78 2.81-2.81c.8-.78.8-2.07 0-2.86zM5.41 20L4 18.59l7.72-7.72 1.47 1.35L5.41 20z\"/>\n",
              "  </svg>\n",
              "      </button>\n",
              "      \n",
              "  <style>\n",
              "    .colab-df-container {\n",
              "      display:flex;\n",
              "      flex-wrap:wrap;\n",
              "      gap: 12px;\n",
              "    }\n",
              "\n",
              "    .colab-df-convert {\n",
              "      background-color: #E8F0FE;\n",
              "      border: none;\n",
              "      border-radius: 50%;\n",
              "      cursor: pointer;\n",
              "      display: none;\n",
              "      fill: #1967D2;\n",
              "      height: 32px;\n",
              "      padding: 0 0 0 0;\n",
              "      width: 32px;\n",
              "    }\n",
              "\n",
              "    .colab-df-convert:hover {\n",
              "      background-color: #E2EBFA;\n",
              "      box-shadow: 0px 1px 2px rgba(60, 64, 67, 0.3), 0px 1px 3px 1px rgba(60, 64, 67, 0.15);\n",
              "      fill: #174EA6;\n",
              "    }\n",
              "\n",
              "    [theme=dark] .colab-df-convert {\n",
              "      background-color: #3B4455;\n",
              "      fill: #D2E3FC;\n",
              "    }\n",
              "\n",
              "    [theme=dark] .colab-df-convert:hover {\n",
              "      background-color: #434B5C;\n",
              "      box-shadow: 0px 1px 3px 1px rgba(0, 0, 0, 0.15);\n",
              "      filter: drop-shadow(0px 1px 2px rgba(0, 0, 0, 0.3));\n",
              "      fill: #FFFFFF;\n",
              "    }\n",
              "  </style>\n",
              "\n",
              "      <script>\n",
              "        const buttonEl =\n",
              "          document.querySelector('#df-ce68c8d3-a676-4889-b3e5-00d2dcd00dfe button.colab-df-convert');\n",
              "        buttonEl.style.display =\n",
              "          google.colab.kernel.accessAllowed ? 'block' : 'none';\n",
              "\n",
              "        async function convertToInteractive(key) {\n",
              "          const element = document.querySelector('#df-ce68c8d3-a676-4889-b3e5-00d2dcd00dfe');\n",
              "          const dataTable =\n",
              "            await google.colab.kernel.invokeFunction('convertToInteractive',\n",
              "                                                     [key], {});\n",
              "          if (!dataTable) return;\n",
              "\n",
              "          const docLinkHtml = 'Like what you see? Visit the ' +\n",
              "            '<a target=\"_blank\" href=https://colab.research.google.com/notebooks/data_table.ipynb>data table notebook</a>'\n",
              "            + ' to learn more about interactive tables.';\n",
              "          element.innerHTML = '';\n",
              "          dataTable['output_type'] = 'display_data';\n",
              "          await google.colab.output.renderOutput(dataTable, element);\n",
              "          const docLink = document.createElement('div');\n",
              "          docLink.innerHTML = docLinkHtml;\n",
              "          element.appendChild(docLink);\n",
              "        }\n",
              "      </script>\n",
              "    </div>\n",
              "  </div>\n",
              "  "
            ],
            "text/plain": [
              "   Unnamed: 0  season  episode   episode_name  speaker  \\\n",
              "0           0       1        1  Pilot Episode  SHELDON   \n",
              "1           1       1        1  Pilot Episode  LEONARD   \n",
              "2           2       1        1  Pilot Episode  SHELDON   \n",
              "3           3       1        1  Pilot Episode  LEONARD   \n",
              "4           4       1        1  Pilot Episode  LEONARD   \n",
              "\n",
              "                                            dialogue  target  \n",
              "0  photon direct plane two slit either slit obser...       0  \n",
              "1                                 agree what’s point       1  \n",
              "2       there’s point think it’s good idea tee-shirt       0  \n",
              "3                                             excuse       1  \n",
              "4  one across aegean eight nabakov twenty-six acr...       1  "
            ]
          },
          "execution_count": 6,
          "metadata": {},
          "output_type": "execute_result"
        }
      ],
      "source": [
        "data_thres.head()"
      ]
    },
    {
      "cell_type": "markdown",
      "metadata": {
        "id": "EJyPHi8-bY4A"
      },
      "source": [
        "# Feature Engineering using Word2Vec Embedding"
      ]
    },
    {
      "cell_type": "markdown",
      "metadata": {
        "id": "F0GBMi8fbY4B"
      },
      "source": [
        "## Word2Vec with TFIDF weighting scheme"
      ]
    },
    {
      "cell_type": "code",
      "execution_count": null,
      "metadata": {
        "id": "FxX85FvqbY4B"
      },
      "outputs": [],
      "source": [
        "# Define a class to impelement word2vec averaged with tf-idf weighting scheme\n",
        "\n",
        "class TfidfEmbeddingVectorizer(object):\n",
        "    def __init__(self, word2vec):\n",
        "        self.word2vec = word2vec\n",
        "        self.word2weight = None\n",
        "        self.dim = len(word2vec.wv.syn0[0])\n",
        "\n",
        "    def fit(self, X, y = None):\n",
        "        tfidf = TfidfVectorizer(analyzer=lambda x: x)\n",
        "        tfidf.fit(X)\n",
        "        # if a word was never seen - it must be at least as infrequent\n",
        "        # as any of the known words - so the default idf is the max of \n",
        "        # known idf's\n",
        "        max_idf = max(tfidf.idf_)\n",
        "        self.word2weight = defaultdict(\n",
        "            lambda: max_idf,\n",
        "            [(w, tfidf.idf_[i]) for w, i in tfidf.vocabulary_.items()])\n",
        "\n",
        "        return self\n",
        "\n",
        "    def transform(self, X):\n",
        "        return np.array([\n",
        "                np.mean([self.word2vec.wv[w] * self.word2weight[w]\n",
        "                         for w in words if w in self.word2vec.wv] or\n",
        "                        [np.zeros(self.dim)], axis=0)\n",
        "                for words in X\n",
        "            ])"
      ]
    },
    {
      "cell_type": "code",
      "execution_count": null,
      "metadata": {
        "colab": {
          "base_uri": "https://localhost:8080/"
        },
        "id": "x9Ara5BGbY4C",
        "outputId": "a8b682e0-424e-4fe4-fb55-6173803981f7",
        "scrolled": false
      },
      "outputs": [
        {
          "name": "stderr",
          "output_type": "stream",
          "text": [
            "/usr/local/lib/python3.7/dist-packages/ipykernel_launcher.py:7: DeprecationWarning: Call to deprecated `syn0` (Attribute will be removed in 4.0.0, use self.wv.vectors instead).\n",
            "  import sys\n"
          ]
        }
      ],
      "source": [
        "\n",
        "# let X be a list of tokenized texts (i.e. list of lists of tokens)\n",
        "model = Word2Vec(tokenized_data,min_count=2,size=100,window=5,iter=100)\n",
        "\n",
        "tfidf_word2vec = TfidfEmbeddingVectorizer(model)\n",
        "tfidf_word2vec.fit(tokenized_data)\n",
        "tfidf_doc_vec = tfidf_word2vec.transform(tokenized_data)"
      ]
    },
    {
      "cell_type": "code",
      "execution_count": null,
      "metadata": {
        "colab": {
          "base_uri": "https://localhost:8080/"
        },
        "id": "_yN8tPBYbY4C",
        "outputId": "f6a02049-4bf0-483f-b2cf-5245fa0e1ff6"
      },
      "outputs": [
        {
          "name": "stderr",
          "output_type": "stream",
          "text": [
            "/usr/local/lib/python3.7/dist-packages/ipykernel_launcher.py:1: DeprecationWarning: Call to deprecated `similarity` (Method will be removed in 4.0.0, use self.wv.similarity() instead).\n",
            "  \"\"\"Entry point for launching an IPython kernel.\n"
          ]
        },
        {
          "data": {
            "text/plain": [
              "0.15871564"
            ]
          },
          "execution_count": 9,
          "metadata": {},
          "output_type": "execute_result"
        }
      ],
      "source": [
        "model.similarity('dream','realize')"
      ]
    },
    {
      "cell_type": "markdown",
      "metadata": {
        "id": "jJ4qm8_kbY4C"
      },
      "source": [
        "## Word2Vec with Simple Averaging Scheme"
      ]
    },
    {
      "cell_type": "code",
      "execution_count": null,
      "metadata": {
        "id": "rOqBM4nZbY4C"
      },
      "outputs": [],
      "source": [
        "# Define a class to impolement word2vec with simple averaging scheme\n",
        "class MeanEmbeddingVectorizer(object):\n",
        "    def __init__(self, word2vec):\n",
        "        self.word2vec = word2vec\n",
        "        # if a text is empty we should return a vector of zeros\n",
        "        # with the same dimensionality as all the other vectors\n",
        "        self.dim = len(word2vec.wv.syn0[0])\n",
        "\n",
        "    def fit(self, X, y):\n",
        "        return self\n",
        "\n",
        "    def transform(self, X):\n",
        "        return np.array([\n",
        "            np.mean([self.word2vec[w] for w in words if w in self.word2vec]\n",
        "                    or [np.zeros(self.dim)], axis=0)\n",
        "            for words in X\n",
        "        ])"
      ]
    },
    {
      "cell_type": "code",
      "execution_count": null,
      "metadata": {
        "colab": {
          "base_uri": "https://localhost:8080/"
        },
        "id": "1G1ZWsNObY4C",
        "outputId": "fa2a8cef-7794-4f3f-9cad-b8097bdb372f",
        "scrolled": true
      },
      "outputs": [
        {
          "name": "stderr",
          "output_type": "stream",
          "text": [
            "/usr/local/lib/python3.7/dist-packages/ipykernel_launcher.py:7: DeprecationWarning: Call to deprecated `syn0` (Attribute will be removed in 4.0.0, use self.wv.vectors instead).\n",
            "  import sys\n",
            "/usr/local/lib/python3.7/dist-packages/ipykernel_launcher.py:14: DeprecationWarning: Call to deprecated `__contains__` (Method will be removed in 4.0.0, use self.wv.__contains__() instead).\n",
            "  \n",
            "/usr/local/lib/python3.7/dist-packages/ipykernel_launcher.py:14: DeprecationWarning: Call to deprecated `__getitem__` (Method will be removed in 4.0.0, use self.wv.__getitem__() instead).\n",
            "  \n"
          ]
        }
      ],
      "source": [
        "word_model = Word2Vec(tokenized_data,min_count=2,size=100,window=5,iter=100)\n",
        "mean_vec_tr = MeanEmbeddingVectorizer(word_model)\n",
        "doc_vec = mean_vec_tr.transform((tokenized_data))"
      ]
    },
    {
      "cell_type": "code",
      "execution_count": null,
      "metadata": {
        "id": "8IY1ILN151PG"
      },
      "outputs": [],
      "source": [
        "word2vec_map = {'Word2Vec': doc_vec, 'Word2Vec with TF-IDF Weighting':tfidf_doc_vec}"
      ]
    },
    {
      "cell_type": "markdown",
      "metadata": {
        "id": "TRmXDEWXbXWD"
      },
      "source": [
        "## Plot Confusion Matrix"
      ]
    },
    {
      "cell_type": "code",
      "execution_count": null,
      "metadata": {
        "id": "kmlRaGRaadsx"
      },
      "outputs": [],
      "source": [
        "def plot_cm(y_true, y_pred, figsize=(15, 15)):\n",
        "    cm = confusion_matrix(y_true, y_pred, labels=np.unique(y_true))\n",
        "    cm_sum = np.sum(cm, axis=1, keepdims=True)\n",
        "    cm_perc = cm / cm_sum.astype(float) * 100\n",
        "    annot = np.empty_like(cm).astype(str)\n",
        "    nrows, ncols = cm.shape\n",
        "    for i in range(nrows):\n",
        "        for j in range(ncols):\n",
        "            c = cm[i, j]\n",
        "            p = cm_perc[i, j]\n",
        "            if i == j:\n",
        "                s = cm_sum[i]\n",
        "                annot[i, j] = '%.1f%%\\n%d/%d' % (p, c, s)\n",
        "            elif c == 0:\n",
        "                annot[i, j] = ''\n",
        "            else:\n",
        "                annot[i, j] = '%.1f%%\\n%d' % (p, c)\n",
        "    cm = pd.DataFrame(cm, index=np.unique(y_true), columns=np.unique(y_true))\n",
        "    cm.index.name = 'Actual'\n",
        "    cm.columns.name = 'Predicted'\n",
        "    fig, ax = plt.subplots(figsize=figsize)\n",
        "    sns.heatmap(cm, cmap= \"YlGnBu\", annot=annot, fmt='', ax=ax)"
      ]
    },
    {
      "cell_type": "markdown",
      "metadata": {
        "id": "sTRP_q5_giRK"
      },
      "source": [
        "## Saving Model to Disk"
      ]
    },
    {
      "cell_type": "code",
      "execution_count": 15,
      "metadata": {
        "id": "yTA0t4wagkzX"
      },
      "outputs": [],
      "source": [
        "import pickle\n",
        "def save_model(model,filename):\n",
        "  pickle.dump(model, open(filename+\".sav\", 'wb'))"
      ]
    },
    {
      "cell_type": "markdown",
      "metadata": {
        "id": "-yXC5RFfbY4C"
      },
      "source": [
        "# ML Modeling Performance with Word2vec"
      ]
    },
    {
      "cell_type": "code",
      "execution_count": null,
      "metadata": {
        "colab": {
          "base_uri": "https://localhost:8080/"
        },
        "id": "JW5zFarsbY4C",
        "outputId": "3c204e0b-0cf6-4235-8b51-d073853f6e79"
      },
      "outputs": [
        {
          "name": "stdout",
          "output_type": "stream",
          "text": [
            "Train Accuracies:\n",
            "Word2Vec\n",
            "0.3135883128686586\n",
            "Word2Vec with TF-IDF Weighting\n",
            "0.3127855983343501\n"
          ]
        }
      ],
      "source": [
        "def word_embedding_performance_eval(clf,X,Y):\n",
        "    Eval_score =  cross_val_score(clf,X,Y, cv=5)\n",
        "    return  Eval_score.mean() \n",
        "    \n",
        "model =  LogisticRegression(max_iter = 1e6)\n",
        "print(\"Train Accuracies:\")\n",
        "for key,val in word2vec_map.items():\n",
        "  x_train, x_test, y_train, y_test = train_test_split(val,target_thres,test_size = 0.2,random_state =42)\n",
        "  Accuracy = word_embedding_performance_eval(model,x_train,y_train)\n",
        "  print(key)\n",
        "  print(Accuracy)"
      ]
    },
    {
      "cell_type": "markdown",
      "metadata": {
        "id": "-V1OTfEhZHTb"
      },
      "source": [
        "## Accuracy for Logistic Regression"
      ]
    },
    {
      "cell_type": "code",
      "execution_count": 17,
      "metadata": {
        "id": "Rec0aAzeSUXd"
      },
      "outputs": [],
      "source": [
        "model_lr =  LogisticRegression(max_iter = 1e6)"
      ]
    },
    {
      "cell_type": "code",
      "execution_count": 18,
      "metadata": {
        "colab": {
          "base_uri": "https://localhost:8080/"
        },
        "id": "Q39pV_U0ZDwS",
        "outputId": "03efa823-c041-44e6-ed1f-8d67e659a56e"
      },
      "outputs": [
        {
          "output_type": "stream",
          "name": "stdout",
          "text": [
            "Word2Vec\n",
            "0.31056244464127547\n",
            "Word2Vec with TF-IDF Weighting\n",
            "0.30845881310894596\n"
          ]
        }
      ],
      "source": [
        "from sklearn.metrics import accuracy_score\n",
        "for key,val in word2vec_map.items():\n",
        "  x_train, x_test, y_train, y_test = train_test_split(val,target_thres,test_size = 0.2,random_state =42)\n",
        "  model_lr.fit(x_train,y_train)\n",
        "  save_model(model_lr,key+\"-lr-bbt\")\n",
        "  y_pred = model_lr.predict(x_test)\n",
        "  print(key)\n",
        "  print(accuracy_score(y_test, y_pred))\n",
        "\n"
      ]
    },
    {
      "cell_type": "markdown",
      "metadata": {
        "id": "qGBfNYnPzYcQ"
      },
      "source": [
        "# ROC LR"
      ]
    },
    {
      "cell_type": "code",
      "execution_count": null,
      "metadata": {
        "colab": {
          "base_uri": "https://localhost:8080/"
        },
        "id": "jL8CbH6ZSJsJ",
        "outputId": "8177cd37-8407-4dd9-9b40-50827331a293"
      },
      "outputs": [
        {
          "name": "stdout",
          "output_type": "stream",
          "text": [
            "Word2Vec 0.5908782712291328\n",
            "Word2Vec with TF-IDF Weighting 0.613666917180547\n"
          ]
        }
      ],
      "source": [
        "from sklearn.metrics import roc_auc_score\n",
        "for key,val in word2vec_map.items():\n",
        "  x_train, x_test, y_train, y_test = train_test_split(val,target_thres,test_size = 0.2,random_state =42)\n",
        "  y_prob = model_lr.predict_proba(x_test)\n",
        "  print(key,roc_auc_score(y_test, y_prob, multi_class=\"ovr\",average=\"macro\"))"
      ]
    },
    {
      "cell_type": "code",
      "execution_count": null,
      "metadata": {
        "colab": {
          "base_uri": "https://localhost:8080/"
        },
        "id": "8InwgwUvaJiU",
        "outputId": "563187c5-c042-4f65-e0bd-ce23c9a67889"
      },
      "outputs": [
        {
          "data": {
            "text/plain": [
              "array([[1574,  386,  154,   26,   14,   80],\n",
              "       [ 692,  689,  278,   36,   14,   92],\n",
              "       [ 423,  547,  361,   11,   12,  103],\n",
              "       [ 483,  351,  147,   27,   10,   81],\n",
              "       [ 396,  318,  111,   17,   19,   63],\n",
              "       [ 633,  478,  239,   22,   17,  128]])"
            ]
          },
          "execution_count": 19,
          "metadata": {},
          "output_type": "execute_result"
        }
      ],
      "source": [
        "from sklearn.metrics import confusion_matrix\n",
        "confusion_matrix(y_test, y_pred)"
      ]
    },
    {
      "cell_type": "code",
      "execution_count": null,
      "metadata": {
        "colab": {
          "base_uri": "https://localhost:8080/",
          "height": 877
        },
        "id": "qMDWKVpaaXOQ",
        "outputId": "f507b393-ff6a-4647-9b97-e32cb24d016c"
      },
      "outputs": [
        {
          "data": {
            "image/png": "[encoded data removed]",
            "text/plain": [
              "<Figure size 1080x1080 with 2 Axes>"
            ]
          },
          "metadata": {},
          "output_type": "display_data"
        }
      ],
      "source": [
        "plot_cm(y_test, y_pred)"
      ]
    },
    {
      "cell_type": "markdown",
      "metadata": {
        "id": "YkVrkHuabY4C"
      },
      "source": [
        "## Optimize Logistic Regression for Best BOW/ Word Embedding Approach"
      ]
    },
    {
      "cell_type": "code",
      "execution_count": null,
      "metadata": {
        "id": "VMtiMKI6bY4C"
      },
      "outputs": [],
      "source": [
        "\n",
        "#model =  LogisticRegression(max_iter = 1e6)\n",
        "#params_log = { \"C\": [1e-2,1, 10, 1e2,1e6]}\n",
        "\n",
        "#grid_log = GridSearchCV(model, param_grid=params_log, cv=5)\n",
        "#grid_log.fit(tfidf_df,target_thres)\n",
        "\n",
        "#print(grid_log.best_score_)\n",
        "#print(grid_log.best_params_)"
      ]
    },
    {
      "cell_type": "markdown",
      "metadata": {
        "id": "CKFP7bBNbY4C"
      },
      "source": [
        "# Prediction Accuracy of Other ML Models "
      ]
    },
    {
      "cell_type": "markdown",
      "metadata": {
        "id": "MKEWxNnMbY4C"
      },
      "source": [
        "## Naive Bayes with Word2vec\n"
      ]
    },
    {
      "cell_type": "code",
      "execution_count": null,
      "metadata": {
        "colab": {
          "base_uri": "https://localhost:8080/"
        },
        "id": "lW6whNrXud7q",
        "outputId": "ed6ffb41-8183-4ce8-8f2e-9bba749c56d3"
      },
      "outputs": [
        {
          "data": {
            "text/plain": [
              "array([0, 1, 2, 3, 6, 5, 4])"
            ]
          },
          "execution_count": 26,
          "metadata": {},
          "output_type": "execute_result"
        }
      ],
      "source": [
        "target_thres.unique()"
      ]
    },
    {
      "cell_type": "code",
      "execution_count": null,
      "metadata": {
        "colab": {
          "base_uri": "https://localhost:8080/"
        },
        "id": "YXbrcLeWbY4C",
        "outputId": "90702dbf-105a-44ac-b278-516b4271cb4b",
        "scrolled": true
      },
      "outputs": [
        {
          "name": "stdout",
          "output_type": "stream",
          "text": [
            "0.2932433647430416\n",
            "0.28646180986192693\n"
          ]
        }
      ],
      "source": [
        "for key,val in word2vec_map.items():\n",
        "  x_train, x_test, y_train, y_test = train_test_split(val,target_thres,test_size = 0.2,random_state =42)\n",
        "  model = GaussianNB()\n",
        "  print(cross_val_score(model,x_train,y_train, cv=5).mean())"
      ]
    },
    {
      "cell_type": "code",
      "execution_count": null,
      "metadata": {
        "colab": {
          "base_uri": "https://localhost:8080/"
        },
        "id": "ZlGBJFmKbY4C",
        "outputId": "505c4160-fe00-49e8-e9a6-87152a6e05e6"
      },
      "outputs": [
        {
          "name": "stdout",
          "output_type": "stream",
          "text": [
            "Best Case with Count Vectorizer:  (1e-08, 0.30115146147032773)\n"
          ]
        }
      ],
      "source": [
        "# GridSearch with Naive Bayes\n",
        "def gridsearchNB(clf, X, y):\n",
        "\n",
        "    #the grid of parameters to search over\n",
        "    smoothing = [0.00000001, 0.000000001, 0.00000001]\n",
        "    #Find the best value for alpha and min_df, and the best classifier\n",
        "    best_alpha = None\n",
        "    maxscore=-np.inf\n",
        "    for alpha in smoothing:        \n",
        "        clf = GaussianNB(var_smoothing=alpha)\n",
        "        cvscore = max(cross_val_score(clf, X,y,cv = 5))\n",
        "        if cvscore > maxscore:\n",
        "                maxscore = cvscore \n",
        "                best_alpha = alpha\n",
        "    return  best_alpha, maxscore\n",
        "\n",
        "print(\"Best Case with Count Vectorizer: \", gridsearchNB(model,doc_vec, target_thres))"
      ]
    },
    {
      "cell_type": "markdown",
      "metadata": {
        "id": "nZwFIJric65O"
      },
      "source": [
        "## Accuracy for NB"
      ]
    },
    {
      "cell_type": "code",
      "execution_count": 19,
      "metadata": {
        "colab": {
          "base_uri": "https://localhost:8080/"
        },
        "id": "wzRhbC5GdAW2",
        "outputId": "c3e97251-a472-407c-fe93-b70fcbbe5963"
      },
      "outputs": [
        {
          "output_type": "stream",
          "name": "stdout",
          "text": [
            "Word2Vec 0.2919619131975199\n",
            "Word2Vec with TF-IDF Weighting 0.2815544729849424\n"
          ]
        }
      ],
      "source": [
        "from sklearn.metrics import accuracy_score\n",
        "model_nb = GaussianNB(var_smoothing=1e-08)\n",
        "for key,val in word2vec_map.items():\n",
        "  x_train, x_test, y_train, y_test = train_test_split(val,target_thres,test_size = 0.2,random_state =42)\n",
        "  model_nb.fit(x_train,y_train)\n",
        "  save_model(model_nb,key+\"-nb-bbt\")\n",
        "  y_pred = model_nb.predict(x_test)\n",
        "  accuracy_score(y_test, y_pred)\n",
        "  print(key,accuracy_score(y_test, y_pred))"
      ]
    },
    {
      "cell_type": "markdown",
      "metadata": {
        "id": "u7JSOFKyzKQD"
      },
      "source": [
        "# ROC NB"
      ]
    },
    {
      "cell_type": "code",
      "execution_count": null,
      "metadata": {
        "colab": {
          "base_uri": "https://localhost:8080/"
        },
        "id": "LOEg_BuDRWeu",
        "outputId": "8c87b095-92fd-40be-bf4a-5bb0b9efc8fe"
      },
      "outputs": [
        {
          "name": "stdout",
          "output_type": "stream",
          "text": [
            "Word2Vec 0.576494734678644\n",
            "Word2Vec with TF-IDF Weighting 0.5907870248635616\n"
          ]
        }
      ],
      "source": [
        "from sklearn.metrics import roc_auc_score\n",
        "for key,val in word2vec_map.items():\n",
        "  x_train, x_test, y_train, y_test = train_test_split(val,target_thres,test_size = 0.2,random_state =42)\n",
        "  y_prob = model_nb.predict_proba(x_test)\n",
        "  print(key,roc_auc_score(y_test, y_prob, multi_class=\"ovr\",average=\"macro\"))"
      ]
    },
    {
      "cell_type": "code",
      "execution_count": null,
      "metadata": {
        "colab": {
          "base_uri": "https://localhost:8080/",
          "height": 881
        },
        "id": "KP1FwEFmSynq",
        "outputId": "5357cbbd-9dae-4dd3-b2ca-bcf1471ca3db"
      },
      "outputs": [
        {
          "data": {
            "image/png": "[encoded data removed]",
            "text/plain": [
              "<Figure size 1080x1080 with 2 Axes>"
            ]
          },
          "metadata": {},
          "output_type": "display_data"
        }
      ],
      "source": [
        "plot_cm(y_test, y_pred)"
      ]
    },
    {
      "cell_type": "markdown",
      "metadata": {
        "id": "gQREXVLQbY4D"
      },
      "source": [
        "## Support Vector Machine: "
      ]
    },
    {
      "cell_type": "code",
      "execution_count": null,
      "metadata": {
        "colab": {
          "base_uri": "https://localhost:8080/"
        },
        "id": "5E4BjkWYbY4D",
        "outputId": "4804e52b-8dce-4cf7-d5f7-fe72b7537d48"
      },
      "outputs": [
        {
          "name": "stdout",
          "output_type": "stream",
          "text": [
            "Accuracy of Support Vector Machine without Gridsearch: 0.3274008640463072\n",
            "Accuracy of Support Vector Machine without Gridsearch: 0.32504792286983664\n"
          ]
        }
      ],
      "source": [
        "model_svc =SVC()\n",
        "for key,val in word2vec_map.items():\n",
        "  x_train, x_test, y_train, y_test = train_test_split(val,target_thres,test_size = 0.2,random_state =42)\n",
        "  print('Accuracy of Support Vector Machine without Gridsearch:', cross_val_score(model_svc,x_train,y_train, cv=5).mean())"
      ]
    },
    {
      "cell_type": "code",
      "execution_count": null,
      "metadata": {
        "id": "pYObyGzoJNfL"
      },
      "outputs": [],
      "source": [
        "x_train, x_test, y_train, y_test = train_test_split(doc_vec,target_thres,test_size = 0.2,random_state =42)"
      ]
    },
    {
      "cell_type": "code",
      "execution_count": null,
      "metadata": {
        "colab": {
          "background_save": true
        },
        "id": "q8E_lCR5bY4D",
        "outputId": "3c5d1c60-ef5d-416a-84c1-5d4fc3a41fa3",
        "scrolled": true
      },
      "outputs": [
        {
          "name": "stdout",
          "output_type": "stream",
          "text": [
            "Optimized Modeling Paramters for Support vector Machine {'C': 1, 'gamma': 0.1}\n",
            "Accuracy of Support Vector Machine with Gridsearch: 0.32430041842366614\n"
          ]
        }
      ],
      "source": [
        "Cs = [0.001, 0.01, 0.1, 1, 10]\n",
        "gammas = [0.001, 0.01, 0.1, 1]\n",
        "#kernels =  ['rbf','linear']\n",
        "params_svc = {'C': Cs, 'gamma' : gammas}\n",
        "grid_svc = GridSearchCV(SVC(), param_grid = params_svc, cv=5)\n",
        "grid_svc.fit(x_train,y_train)\n",
        "print('Optimized Modeling Paramters for Support vector Machine', grid_svc.best_params_)\n",
        "print('Accuracy of Support Vector Machine with Gridsearch:', grid_svc.best_score_)"
      ]
    },
    {
      "cell_type": "code",
      "execution_count": null,
      "metadata": {
        "colab": {
          "background_save": true
        },
        "id": "JD_5HO0-Hzu_"
      },
      "outputs": [],
      "source": [
        "for key,val in word2vec_map.items():\n",
        "  x_train, x_test, y_train, y_test = train_test_split(val,target_thres,test_size = 0.2,random_state =42)\n",
        "  model = SVC(probability=True)\n",
        "  model.fit(x_train,y_train)\n",
        "  save_model(model,key+\"-svm-bbt\")\n",
        "  y_pred = model.predict(x_test)\n",
        "  print('Accuracy of Support Vector Machine:', key, accuracy_score(y_test, y_pred))"
      ]
    },
    {
      "cell_type": "code",
      "execution_count": null,
      "metadata": {
        "colab": {
          "background_save": true
        },
        "id": "61imNoanS31Q",
        "outputId": "46ed5a63-9ab7-4228-cab0-e721db1479b6"
      },
      "outputs": [
        {
          "data": {
            "image/png": "[encoded data removed]",
            "text/plain": [
              "<Figure size 1080x1080 with 2 Axes>"
            ]
          },
          "metadata": {},
          "output_type": "display_data"
        }
      ],
      "source": [
        "plot_cm(y_test, y_pred)"
      ]
    },
    {
      "cell_type": "markdown",
      "metadata": {
        "id": "XpyOwMpoS6TY"
      },
      "source": [
        "# ROC SVM"
      ]
    },
    {
      "cell_type": "code",
      "execution_count": null,
      "metadata": {
        "colab": {
          "base_uri": "https://localhost:8080/"
        },
        "id": "nzcOI2U9M1uR",
        "outputId": "408a9118-ad3f-4329-d169-470223201e57"
      },
      "outputs": [
        {
          "data": {
            "text/plain": [
              "0.6392591663549535"
            ]
          },
          "execution_count": 38,
          "metadata": {},
          "output_type": "execute_result"
        }
      ],
      "source": [
        "from sklearn.metrics import roc_auc_score\n",
        "y_prob = model.predict_proba(x_test)\n",
        "roc_auc_score(y_test, y_prob, multi_class=\"ovr\",average=\"macro\")"
      ]
    },
    {
      "cell_type": "code",
      "execution_count": null,
      "metadata": {
        "id": "s2y5BplG1wV3"
      },
      "outputs": [],
      "source": [
        "import matplotlib.pyplot as plt\n",
        "from itertools import cycle\n",
        "\n",
        "from sklearn import svm, datasets\n",
        "from sklearn.metrics import roc_curve, auc\n",
        "from sklearn.model_selection import train_test_split\n",
        "from sklearn.preprocessing import label_binarize\n",
        "from sklearn.multiclass import OneVsRestClassifier\n",
        "from scipy import interp\n",
        "from sklearn.metrics import roc_auc_score\n",
        "\n",
        "y= label_binarize(target_thres, classes = list(set(target_thres)))\n",
        "n_classes = y.shape[1]\n",
        "# split training and test sets\n",
        "X_train, X_test, Y_train, Y_test = train_test_split(doc_vec, y, test_size=.5,\n",
        "                                                    random_state=0)"
      ]
    },
    {
      "cell_type": "code",
      "execution_count": null,
      "metadata": {
        "id": "XOCtpB9n19ZD"
      },
      "outputs": [],
      "source": []
    },
    {
      "cell_type": "code",
      "execution_count": null,
      "metadata": {
        "id": "X3C-VAj9bY4D",
        "scrolled": true
      },
      "outputs": [],
      "source": [
        "import matplotlib.pyplot as plt\n",
        "from itertools import cycle\n",
        "\n",
        "from sklearn import svm, datasets\n",
        "from sklearn.metrics import roc_curve, auc\n",
        "from sklearn.model_selection import train_test_split\n",
        "from sklearn.preprocessing import label_binarize\n",
        "from sklearn.multiclass import OneVsRestClassifier\n",
        "from scipy import interp\n",
        "from sklearn.metrics import roc_auc_score\n",
        "\n",
        "y= label_binarize(target_thres, classes = list(set(target_thres)))\n",
        "n_classes = y.shape[1]\n",
        "# split training and test sets\n",
        "X_train, X_test, Y_train, Y_test = train_test_split(doc_vec, y, test_size=.2,\n",
        "                                                    random_state=0)\n",
        "\n",
        "# Learn to predict each class against the other\n",
        "classifier = OneVsRestClassifier(svm.SVC(kernel='linear', probability=True,\n",
        "                                 random_state=0))\n",
        "y_score = classifier.fit(x_train, y_train).decision_function(X_test)\n",
        "\n",
        "# Compute ROC curve and ROC area for each class\n",
        "fpr = dict()\n",
        "tpr = dict()\n",
        "roc_auc = dict()\n",
        "\n",
        "\n",
        "for i in range(n_classes):\n",
        "    fpr[i], tpr[i], _ = roc_curve(Y_test[:, i], y_score[:, i])\n",
        "    roc_auc[i] = auc(fpr[i], tpr[i])\n",
        "\n",
        "# First aggregate all false positive rates\n",
        "all_fpr = np.unique(np.concatenate([fpr[i] for i in range(n_classes)]))\n"
      ]
    },
    {
      "cell_type": "code",
      "execution_count": null,
      "metadata": {
        "id": "3KwMCrvIZ7aG"
      },
      "outputs": [],
      "source": [
        "plt.figure(figsize = (16,6))\n",
        "lw=2\n",
        "colors = cycle(['aqua', 'darkorange', 'cornflowerblue','deeppink', 'red', 'green','gold','purple','olivedrab','mediumslateblue','gray','lawngreen'])\n",
        "for i, color in zip(range(n_classes), colors):\n",
        "    plt.plot(fpr[i], tpr[i], color=color, lw=2,\n",
        "                 label='ROC curve of {0} (area = {1:0.2f})'\n",
        "                 ''.format(my_tags[i], roc_auc[i]))\n",
        "        \n",
        "plt.plot([0, 1], [0, 1], 'k--', lw=lw)\n",
        "plt.xlim([0.0, 1.0])\n",
        "plt.ylim([0.0, 1.05])\n",
        "plt.xlabel('False Positive Rate',FontSize = 16)\n",
        "plt.ylabel('True Positive Rate',FontSize = 16)\n",
        "plt.title('Some extension of Receiver operating characteristic to multi-class',FontSize = 16)\n",
        "plt.legend(loc=\"lower right\")\n",
        "plt.show()"
      ]
    },
    {
      "cell_type": "markdown",
      "metadata": {
        "id": "kjLSv9dRfspP"
      },
      "source": [
        "# ROC Curve for Oversampled Data"
      ]
    },
    {
      "cell_type": "code",
      "execution_count": null,
      "metadata": {
        "colab": {
          "background_save": true,
          "base_uri": "https://localhost:8080/"
        },
        "id": "GLovSOjbfvNx",
        "outputId": "3a529e13-561d-42ed-8ce4-bf2d536fd1e6"
      },
      "outputs": [
        {
          "name": "stdout",
          "output_type": "stream",
          "text": [
            "(27608, 100)\n"
          ]
        }
      ],
      "source": [
        "%%time\n",
        "\n",
        "import matplotlib.pyplot as plt\n",
        "from itertools import cycle\n",
        "\n",
        "from sklearn import svm, datasets\n",
        "from sklearn.metrics import roc_curve, auc\n",
        "from sklearn.model_selection import train_test_split\n",
        "from sklearn.preprocessing import label_binarize\n",
        "from sklearn.multiclass import OneVsRestClassifier\n",
        "from scipy import interp\n",
        "from sklearn.metrics import roc_auc_score\n",
        "from imblearn.over_sampling import RandomOverSampler\n",
        "\n",
        "Sampling =  RandomOverSampler(random_state=0)\n",
        "\n",
        "y= label_binarize(target_thres, classes = list(set(target_thres)))\n",
        "n_classes = y.shape[1]\n",
        "# split training and test sets\n",
        "x_train, x_test, y_train, y_test = train_test_split(doc_vec, y, test_size=.5,\n",
        "                                                    random_state=0)\n",
        "x_train, y_train = Sampling.fit_resample(x_train,  y_train)\n",
        "print (x_train.shape)\n",
        "\n",
        "# Learn to predict each class against the other\n",
        "classifier = OneVsRestClassifier(svm.SVC(kernel='linear', probability=True,\n",
        "                                 random_state=0))\n",
        "y_score = classifier.fit(x_train, y_train).decision_function(x_test)\n",
        "\n",
        "# Compute ROC curve and ROC area for each class\n",
        "fpr = dict()\n",
        "tpr = dict()\n",
        "roc_auc = dict()\n",
        "\n",
        "for i in range(n_classes):\n",
        "    fpr[i], tpr[i], _ = roc_curve(y_test[:, i], y_score[:, i])\n",
        "    roc_auc[i] = auc(fpr[i], tpr[i])\n",
        "\n",
        "# First aggregate all false positive rates\n",
        "all_fpr = np.unique(np.concatenate([fpr[i] for i in range(n_classes)]))\n"
      ]
    },
    {
      "cell_type": "code",
      "execution_count": null,
      "metadata": {
        "id": "nbXFX6wJvItW"
      },
      "outputs": [],
      "source": []
    }
  ],
  "metadata": {
    "colab": {
      "provenance": []
    },
    "kernelspec": {
      "display_name": "Python 3",
      "language": "python",
      "name": "python3"
    },
    "language_info": {
      "codemirror_mode": {
        "name": "ipython",
        "version": 3
      },
      "file_extension": ".py",
      "mimetype": "text/x-python",
      "name": "python",
      "nbconvert_exporter": "python",
      "pygments_lexer": "ipython3",
      "version": "3.6.6"
    }
  },
  "nbformat": 4,
  "nbformat_minor": 0
}