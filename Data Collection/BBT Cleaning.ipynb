{
  "cells": [
    {
      "cell_type": "code",
      "execution_count": null,
      "id": "2d9b6a71",
      "metadata": {
        "id": "2d9b6a71"
      },
      "outputs": [],
      "source": [
        "import pandas as pd\n",
        "import re\n",
        "import spacy"
      ]
    },
    {
      "cell_type": "code",
      "execution_count": null,
      "id": "dcbed05b",
      "metadata": {
        "id": "dcbed05b"
      },
      "outputs": [],
      "source": [
        "tbbt_df = pd.read_csv('1_10_seasons_tbbt.csv')"
      ]
    },
    {
      "cell_type": "code",
      "execution_count": null,
      "id": "844e2e78",
      "metadata": {
        "colab": {
          "base_uri": "https://localhost:8080/",
          "height": 206
        },
        "id": "844e2e78",
        "outputId": "cfece7a8-dd8f-47bf-8996-49544ff2de94"
      },
      "outputs": [
        {
          "output_type": "execute_result",
          "data": {
            "text/plain": [
              "                           episode_name  \\\n",
              "0  Series 01 Episode 01 – Pilot Episode   \n",
              "1  Series 01 Episode 01 – Pilot Episode   \n",
              "2  Series 01 Episode 01 – Pilot Episode   \n",
              "3  Series 01 Episode 01 – Pilot Episode   \n",
              "4  Series 01 Episode 01 – Pilot Episode   \n",
              "\n",
              "                                            dialogue person_scene  \n",
              "0                        A corridor at a sperm bank.        Scene  \n",
              "1   So if a photon is directed through a plane wi...      Sheldon  \n",
              "2                         Agreed, what’s your point?      Leonard  \n",
              "3   There’s no point, I just think it’s a good id...      Sheldon  \n",
              "4                                         Excuse me?      Leonard  "
            ],
            "text/html": [
              "\n",
              "  <div id=\"df-5941ed31-6193-4f62-92bc-88490e67c6a0\">\n",
              "    <div class=\"colab-df-container\">\n",
              "      <div>\n",
              "<style scoped>\n",
              "    .dataframe tbody tr th:only-of-type {\n",
              "        vertical-align: middle;\n",
              "    }\n",
              "\n",
              "    .dataframe tbody tr th {\n",
              "        vertical-align: top;\n",
              "    }\n",
              "\n",
              "    .dataframe thead th {\n",
              "        text-align: right;\n",
              "    }\n",
              "</style>\n",
              "<table border=\"1\" class=\"dataframe\">\n",
              "  <thead>\n",
              "    <tr style=\"text-align: right;\">\n",
              "      <th></th>\n",
              "      <th>episode_name</th>\n",
              "      <th>dialogue</th>\n",
              "      <th>person_scene</th>\n",
              "    </tr>\n",
              "  </thead>\n",
              "  <tbody>\n",
              "    <tr>\n",
              "      <th>0</th>\n",
              "      <td>Series 01 Episode 01 – Pilot Episode</td>\n",
              "      <td>A corridor at a sperm bank.</td>\n",
              "      <td>Scene</td>\n",
              "    </tr>\n",
              "    <tr>\n",
              "      <th>1</th>\n",
              "      <td>Series 01 Episode 01 – Pilot Episode</td>\n",
              "      <td>So if a photon is directed through a plane wi...</td>\n",
              "      <td>Sheldon</td>\n",
              "    </tr>\n",
              "    <tr>\n",
              "      <th>2</th>\n",
              "      <td>Series 01 Episode 01 – Pilot Episode</td>\n",
              "      <td>Agreed, what’s your point?</td>\n",
              "      <td>Leonard</td>\n",
              "    </tr>\n",
              "    <tr>\n",
              "      <th>3</th>\n",
              "      <td>Series 01 Episode 01 – Pilot Episode</td>\n",
              "      <td>There’s no point, I just think it’s a good id...</td>\n",
              "      <td>Sheldon</td>\n",
              "    </tr>\n",
              "    <tr>\n",
              "      <th>4</th>\n",
              "      <td>Series 01 Episode 01 – Pilot Episode</td>\n",
              "      <td>Excuse me?</td>\n",
              "      <td>Leonard</td>\n",
              "    </tr>\n",
              "  </tbody>\n",
              "</table>\n",
              "</div>\n",
              "      <button class=\"colab-df-convert\" onclick=\"convertToInteractive('df-5941ed31-6193-4f62-92bc-88490e67c6a0')\"\n",
              "              title=\"Convert this dataframe to an interactive table.\"\n",
              "              style=\"display:none;\">\n",
              "        \n",
              "  <svg xmlns=\"http://www.w3.org/2000/svg\" height=\"24px\"viewBox=\"0 0 24 24\"\n",
              "       width=\"24px\">\n",
              "    <path d=\"M0 0h24v24H0V0z\" fill=\"none\"/>\n",
              "    <path d=\"M18.56 5.44l.94 2.06.94-2.06 2.06-.94-2.06-.94-.94-2.06-.94 2.06-2.06.94zm-11 1L8.5 8.5l.94-2.06 2.06-.94-2.06-.94L8.5 2.5l-.94 2.06-2.06.94zm10 10l.94 2.06.94-2.06 2.06-.94-2.06-.94-.94-2.06-.94 2.06-2.06.94z\"/><path d=\"M17.41 7.96l-1.37-1.37c-.4-.4-.92-.59-1.43-.59-.52 0-1.04.2-1.43.59L10.3 9.45l-7.72 7.72c-.78.78-.78 2.05 0 2.83L4 21.41c.39.39.9.59 1.41.59.51 0 1.02-.2 1.41-.59l7.78-7.78 2.81-2.81c.8-.78.8-2.07 0-2.86zM5.41 20L4 18.59l7.72-7.72 1.47 1.35L5.41 20z\"/>\n",
              "  </svg>\n",
              "      </button>\n",
              "      \n",
              "  <style>\n",
              "    .colab-df-container {\n",
              "      display:flex;\n",
              "      flex-wrap:wrap;\n",
              "      gap: 12px;\n",
              "    }\n",
              "\n",
              "    .colab-df-convert {\n",
              "      background-color: #E8F0FE;\n",
              "      border: none;\n",
              "      border-radius: 50%;\n",
              "      cursor: pointer;\n",
              "      display: none;\n",
              "      fill: #1967D2;\n",
              "      height: 32px;\n",
              "      padding: 0 0 0 0;\n",
              "      width: 32px;\n",
              "    }\n",
              "\n",
              "    .colab-df-convert:hover {\n",
              "      background-color: #E2EBFA;\n",
              "      box-shadow: 0px 1px 2px rgba(60, 64, 67, 0.3), 0px 1px 3px 1px rgba(60, 64, 67, 0.15);\n",
              "      fill: #174EA6;\n",
              "    }\n",
              "\n",
              "    [theme=dark] .colab-df-convert {\n",
              "      background-color: #3B4455;\n",
              "      fill: #D2E3FC;\n",
              "    }\n",
              "\n",
              "    [theme=dark] .colab-df-convert:hover {\n",
              "      background-color: #434B5C;\n",
              "      box-shadow: 0px 1px 3px 1px rgba(0, 0, 0, 0.15);\n",
              "      filter: drop-shadow(0px 1px 2px rgba(0, 0, 0, 0.3));\n",
              "      fill: #FFFFFF;\n",
              "    }\n",
              "  </style>\n",
              "\n",
              "      <script>\n",
              "        const buttonEl =\n",
              "          document.querySelector('#df-5941ed31-6193-4f62-92bc-88490e67c6a0 button.colab-df-convert');\n",
              "        buttonEl.style.display =\n",
              "          google.colab.kernel.accessAllowed ? 'block' : 'none';\n",
              "\n",
              "        async function convertToInteractive(key) {\n",
              "          const element = document.querySelector('#df-5941ed31-6193-4f62-92bc-88490e67c6a0');\n",
              "          const dataTable =\n",
              "            await google.colab.kernel.invokeFunction('convertToInteractive',\n",
              "                                                     [key], {});\n",
              "          if (!dataTable) return;\n",
              "\n",
              "          const docLinkHtml = 'Like what you see? Visit the ' +\n",
              "            '<a target=\"_blank\" href=https://colab.research.google.com/notebooks/data_table.ipynb>data table notebook</a>'\n",
              "            + ' to learn more about interactive tables.';\n",
              "          element.innerHTML = '';\n",
              "          dataTable['output_type'] = 'display_data';\n",
              "          await google.colab.output.renderOutput(dataTable, element);\n",
              "          const docLink = document.createElement('div');\n",
              "          docLink.innerHTML = docLinkHtml;\n",
              "          element.appendChild(docLink);\n",
              "        }\n",
              "      </script>\n",
              "    </div>\n",
              "  </div>\n",
              "  "
            ]
          },
          "metadata": {},
          "execution_count": 4
        }
      ],
      "source": [
        "tbbt_df.head()"
      ]
    },
    {
      "cell_type": "code",
      "execution_count": null,
      "id": "dcbe226c",
      "metadata": {
        "id": "dcbe226c"
      },
      "outputs": [],
      "source": [
        "df = tbbt_df.copy()"
      ]
    },
    {
      "cell_type": "code",
      "execution_count": null,
      "id": "19d54581",
      "metadata": {
        "id": "19d54581"
      },
      "outputs": [],
      "source": [
        "df = df.rename(columns={\"person_scene\": \"speaker\"})"
      ]
    },
    {
      "cell_type": "code",
      "execution_count": null,
      "id": "940d9516",
      "metadata": {
        "id": "940d9516"
      },
      "outputs": [],
      "source": [
        "df.speaker = df.speaker.str.replace(r'^(\\w+)\\.?\\)$', r'\\1', regex=True)"
      ]
    },
    {
      "cell_type": "code",
      "execution_count": null,
      "id": "efe958d6",
      "metadata": {
        "id": "efe958d6"
      },
      "outputs": [],
      "source": [
        "df.speaker = df.speaker.str.lower()"
      ]
    },
    {
      "cell_type": "code",
      "execution_count": null,
      "id": "0600b144",
      "metadata": {
        "id": "0600b144"
      },
      "outputs": [],
      "source": [
        "df.speaker = df.speaker.str.replace(r'^leonard:$', 'leonard', regex=True)"
      ]
    },
    {
      "cell_type": "code",
      "execution_count": null,
      "id": "607c2e77",
      "metadata": {
        "id": "607c2e77"
      },
      "outputs": [],
      "source": [
        "df.speaker = df.speaker.str.replace(r'^leonard$', 'leonard', regex=True)"
      ]
    },
    {
      "cell_type": "code",
      "source": [
        "df.speaker = df.speaker.str.replace(r'^leoanard$', 'leonard', regex=True)"
      ],
      "metadata": {
        "id": "nZnWexvKZake"
      },
      "id": "nZnWexvKZake",
      "execution_count": null,
      "outputs": []
    },
    {
      "cell_type": "code",
      "execution_count": null,
      "id": "c7312a80",
      "metadata": {
        "id": "c7312a80"
      },
      "outputs": [],
      "source": [
        "df.speaker = df.speaker.str.replace(r'^howatd$', 'howard', regex=True)"
      ]
    },
    {
      "cell_type": "code",
      "execution_count": null,
      "id": "706a230a",
      "metadata": {
        "id": "706a230a"
      },
      "outputs": [],
      "source": [
        "df.speaker = df.speaker.str.replace(r'^ra$', 'raj', regex=True)"
      ]
    },
    {
      "cell_type": "code",
      "execution_count": null,
      "id": "0cea8af9",
      "metadata": {
        "id": "0cea8af9"
      },
      "outputs": [],
      "source": [
        "df.speaker = df.speaker.str.replace(r'^rajj$', 'raj', regex=True)"
      ]
    },
    {
      "cell_type": "code",
      "execution_count": null,
      "id": "a146504f",
      "metadata": {
        "id": "a146504f"
      },
      "outputs": [],
      "source": [
        "df.speaker = df.speaker.str.replace(r'^rai$', 'raj', regex=True)"
      ]
    },
    {
      "cell_type": "code",
      "execution_count": null,
      "id": "c1161a62",
      "metadata": {
        "id": "c1161a62"
      },
      "outputs": [],
      "source": [
        "df.speaker = df.speaker.str.replace(r'^penny\\(.*\\)$', 'penny', regex=True)"
      ]
    },
    {
      "cell_type": "code",
      "execution_count": null,
      "id": "fc615c5c",
      "metadata": {
        "id": "fc615c5c"
      },
      "outputs": [],
      "source": [
        "df.speaker = df.speaker.str.replace(r'^bermadette$', 'bernadette', regex=True)"
      ]
    },
    {
      "cell_type": "code",
      "execution_count": null,
      "id": "94669fcd",
      "metadata": {
        "id": "94669fcd"
      },
      "outputs": [],
      "source": [
        "df.speaker = df.speaker.str.replace(r'^sehldon$', 'sheldon', regex=True)"
      ]
    },
    {
      "cell_type": "code",
      "execution_count": null,
      "id": "decd2eec",
      "metadata": {
        "id": "decd2eec"
      },
      "outputs": [],
      "source": [
        "df.speaker = df.speaker.str.replace(r'^shldon$', 'sheldon', regex=True)"
      ]
    },
    {
      "cell_type": "code",
      "source": [
        "df.speaker = df.speaker.str.replace(r'^shedon$', 'sheldon', regex=True)"
      ],
      "metadata": {
        "id": "u6rtdkEUXfIM"
      },
      "id": "u6rtdkEUXfIM",
      "execution_count": null,
      "outputs": []
    },
    {
      "cell_type": "code",
      "source": [
        "df.speaker = df.speaker.str.replace(r'^sgeldon$', 'sheldon', regex=True)"
      ],
      "metadata": {
        "id": "XdMLEL39XrQG"
      },
      "id": "XdMLEL39XrQG",
      "execution_count": null,
      "outputs": []
    },
    {
      "cell_type": "code",
      "execution_count": null,
      "id": "dd9afc7b",
      "metadata": {
        "id": "dd9afc7b"
      },
      "outputs": [],
      "source": [
        "df.speaker = df.speaker.str.replace(r'^amy\\(.*\\)$', 'amy', regex=True)"
      ]
    },
    {
      "cell_type": "code",
      "source": [
        "nlp = spacy.load(\"en_core_web_sm\")"
      ],
      "metadata": {
        "id": "VLfPt5whTWkh"
      },
      "id": "VLfPt5whTWkh",
      "execution_count": null,
      "outputs": []
    },
    {
      "cell_type": "code",
      "source": [
        "propn_speakers = set()\n",
        "for speaker in df.speaker.unique():\n",
        "  doc = nlp(speaker)\n",
        "  for tok in doc:\n",
        "    if tok.pos_ == 'PROPN' and '(' not in speaker and ')' not in speaker:\n",
        "      propn_speakers.add(speaker)"
      ],
      "metadata": {
        "id": "qf4-bbrQYEpt"
      },
      "id": "qf4-bbrQYEpt",
      "execution_count": null,
      "outputs": []
    },
    {
      "cell_type": "code",
      "source": [
        "main_characters = ['sheldon', 'leonard', 'penny', 'howard', 'raj', 'amy', 'bernadette']"
      ],
      "metadata": {
        "id": "ru6aOsCMZzhY"
      },
      "id": "ru6aOsCMZzhY",
      "execution_count": null,
      "outputs": []
    },
    {
      "cell_type": "code",
      "source": [
        "propn_speakers.update(main_characters)"
      ],
      "metadata": {
        "id": "cH7NkoPXYuKd"
      },
      "id": "cH7NkoPXYuKd",
      "execution_count": null,
      "outputs": []
    },
    {
      "cell_type": "code",
      "execution_count": null,
      "id": "a68e8127",
      "metadata": {
        "id": "a68e8127"
      },
      "outputs": [],
      "source": [
        "df = df[df.speaker.isin(propn_speakers)]"
      ]
    },
    {
      "cell_type": "code",
      "source": [
        "df.speaker = df.speaker.apply(lambda x: 'others' if x not in main_characters else x)"
      ],
      "metadata": {
        "id": "zQo1BYarZwWs"
      },
      "id": "zQo1BYarZwWs",
      "execution_count": null,
      "outputs": []
    },
    {
      "cell_type": "code",
      "source": [
        "df.speaker = df.speaker.str.upper()"
      ],
      "metadata": {
        "id": "pOnyY2WWZrnR"
      },
      "id": "pOnyY2WWZrnR",
      "execution_count": null,
      "outputs": []
    },
    {
      "cell_type": "code",
      "execution_count": null,
      "id": "288ab4bb",
      "metadata": {
        "id": "288ab4bb",
        "colab": {
          "base_uri": "https://localhost:8080/"
        },
        "outputId": "4847ed13-2f9c-4b1f-a9db-db04644e0aca"
      },
      "outputs": [
        {
          "output_type": "execute_result",
          "data": {
            "text/plain": [
              "array(['SHELDON', 'LEONARD', 'PENNY', 'HOWARD', 'RAJ', 'OTHERS',\n",
              "       'BERNADETTE', 'AMY'], dtype=object)"
            ]
          },
          "metadata": {},
          "execution_count": 30
        }
      ],
      "source": [
        "df.speaker.unique()"
      ]
    },
    {
      "cell_type": "code",
      "execution_count": null,
      "id": "b5696e81",
      "metadata": {
        "colab": {
          "base_uri": "https://localhost:8080/"
        },
        "id": "b5696e81",
        "outputId": "f9b63267-f875-4c56-8147-1181807880bb"
      },
      "outputs": [
        {
          "output_type": "stream",
          "name": "stdout",
          "text": [
            "85.740543%\n"
          ]
        }
      ],
      "source": [
        "print(f'{len(df)/len(tbbt_df):%}')"
      ]
    },
    {
      "cell_type": "code",
      "execution_count": null,
      "id": "ed68bffe",
      "metadata": {
        "id": "ed68bffe"
      },
      "outputs": [],
      "source": [
        "df.dialogue = df.dialogue.str.replace('\\\\s+\\\\(.*?\\\\)$', '', regex=True)"
      ]
    },
    {
      "cell_type": "code",
      "execution_count": null,
      "id": "fb34fde1",
      "metadata": {
        "id": "fb34fde1"
      },
      "outputs": [],
      "source": [
        "df.dialogue = df.dialogue.str.replace('\\\\s+\\\\(.*?\\\\)(?=\\')', '', regex=True)"
      ]
    },
    {
      "cell_type": "code",
      "execution_count": null,
      "id": "e7ccb350",
      "metadata": {
        "id": "e7ccb350"
      },
      "outputs": [],
      "source": [
        "df.dialogue = df.dialogue.str.replace(r'\\s+\\(.*?\\)(?=\\.)', '', regex=True)"
      ]
    },
    {
      "cell_type": "code",
      "execution_count": null,
      "id": "e527ad50",
      "metadata": {
        "id": "e527ad50"
      },
      "outputs": [],
      "source": [
        "df.dialogue = df.dialogue.str.replace(r'\\s+\\(.*?\\)(?=\\?)', '', regex=True)"
      ]
    },
    {
      "cell_type": "code",
      "execution_count": null,
      "id": "2e6913b2",
      "metadata": {
        "id": "2e6913b2"
      },
      "outputs": [],
      "source": [
        "df.dialogue = df.dialogue.str.replace(r'\\s+\\(.*?\\)(?=\")', '', regex=True)"
      ]
    },
    {
      "cell_type": "code",
      "execution_count": null,
      "id": "a82311a3",
      "metadata": {
        "id": "a82311a3"
      },
      "outputs": [],
      "source": [
        "df.dialogue = df.dialogue.str.replace(r'\\s+\\(.*?\\)(?=,)', '', regex=True)"
      ]
    },
    {
      "cell_type": "code",
      "execution_count": null,
      "id": "42e04282",
      "metadata": {
        "id": "42e04282"
      },
      "outputs": [],
      "source": [
        "df.dialogue = df.dialogue.str.replace(r'\\s+\\(.*?\\)(?=:)', '', regex=True)"
      ]
    },
    {
      "cell_type": "code",
      "execution_count": null,
      "id": "2867056e",
      "metadata": {
        "id": "2867056e"
      },
      "outputs": [],
      "source": [
        "df.dialogue = df.dialogue.str.replace(r'\\s+\\(.*?\\)(?=;)', '', regex=True)"
      ]
    },
    {
      "cell_type": "code",
      "execution_count": null,
      "id": "1565fc4f",
      "metadata": {
        "id": "1565fc4f"
      },
      "outputs": [],
      "source": [
        "df.dialogue = df.dialogue.str.replace(r'\\s+\\(.*?\\)(?=…)', '', regex=True)"
      ]
    },
    {
      "cell_type": "code",
      "execution_count": null,
      "id": "ae742bfa",
      "metadata": {
        "id": "ae742bfa"
      },
      "outputs": [],
      "source": [
        "df.dialogue = df.dialogue.str.replace('^\\(.*?\\)\\s*', '', regex=True)"
      ]
    },
    {
      "cell_type": "code",
      "execution_count": null,
      "id": "56ddd463",
      "metadata": {
        "id": "56ddd463"
      },
      "outputs": [],
      "source": [
        "df.dialogue = df.dialogue.str.replace(r'^(?<=\")\\(.*?\\)\\s*', '', regex=True)"
      ]
    },
    {
      "cell_type": "code",
      "execution_count": null,
      "id": "6faba699",
      "metadata": {
        "id": "6faba699"
      },
      "outputs": [],
      "source": [
        "df.dialogue = df.dialogue.str.replace('^(?<=\\')\\\\(.*?\\\\)\\\\s*', '', regex=True)"
      ]
    },
    {
      "cell_type": "code",
      "execution_count": null,
      "id": "d6f5d96c",
      "metadata": {
        "id": "d6f5d96c"
      },
      "outputs": [],
      "source": [
        "df.dialogue = df.dialogue.str.replace(r'\\(.*?\\)\\s+', ' ', regex=True)"
      ]
    },
    {
      "cell_type": "code",
      "execution_count": null,
      "id": "d6cb5ed1",
      "metadata": {
        "id": "d6cb5ed1"
      },
      "outputs": [],
      "source": [
        "df.dialogue = df.dialogue.str.replace(r'\\(.*?\\)$', '', regex=True)"
      ]
    },
    {
      "cell_type": "code",
      "execution_count": null,
      "id": "d801e102",
      "metadata": {
        "id": "d801e102"
      },
      "outputs": [],
      "source": [
        "df.dialogue = df.dialogue.str.replace(r'\\s+\\(.*?\\)', ' ', regex=True)"
      ]
    },
    {
      "cell_type": "code",
      "execution_count": null,
      "id": "dea2985e",
      "metadata": {
        "id": "dea2985e"
      },
      "outputs": [],
      "source": [
        "df.dialogue = df.dialogue.str.replace(r'\\s+\\(.*?\\)\\s+', ' ', regex=True)"
      ]
    },
    {
      "cell_type": "code",
      "execution_count": null,
      "id": "ccb12390",
      "metadata": {
        "id": "ccb12390"
      },
      "outputs": [],
      "source": [
        "df.dialogue = df.dialogue.str.replace(r'\\s+\\(.*$', '', regex=True)"
      ]
    },
    {
      "cell_type": "code",
      "execution_count": null,
      "id": "011e505a",
      "metadata": {
        "id": "011e505a"
      },
      "outputs": [],
      "source": [
        "df.dialogue = df.dialogue.str.replace(r' Iskip\\)', '', regex=True)"
      ]
    },
    {
      "cell_type": "code",
      "execution_count": null,
      "id": "f462bca4",
      "metadata": {
        "id": "f462bca4"
      },
      "outputs": [],
      "source": [
        "df.dialogue = df.dialogue.str.replace(r'in the middle of \\}', '', regex=True)"
      ]
    },
    {
      "cell_type": "code",
      "execution_count": null,
      "id": "17b7b2c3",
      "metadata": {
        "id": "17b7b2c3"
      },
      "outputs": [],
      "source": [
        "df.dialogue = df.dialogue.str.strip()"
      ]
    },
    {
      "cell_type": "code",
      "execution_count": null,
      "id": "a543a885",
      "metadata": {
        "id": "a543a885"
      },
      "outputs": [],
      "source": [
        "df = df[~df.dialogue.isnull()]"
      ]
    },
    {
      "cell_type": "code",
      "execution_count": null,
      "id": "d6237565",
      "metadata": {
        "id": "d6237565"
      },
      "outputs": [],
      "source": [
        "df = df[(df.dialogue.str.contains(r'\\w', regex=True))]"
      ]
    },
    {
      "cell_type": "code",
      "execution_count": null,
      "id": "ce6f9986",
      "metadata": {
        "id": "ce6f9986"
      },
      "outputs": [],
      "source": [
        "df['season'] = df.episode_name.apply(lambda x: int(re.match(r'Series (\\d{2}) Episode', x).group(1)))"
      ]
    },
    {
      "cell_type": "code",
      "execution_count": null,
      "id": "d691dc5a",
      "metadata": {
        "id": "d691dc5a"
      },
      "outputs": [],
      "source": [
        "df['episode'] = df.episode_name.apply(lambda x: int(re.match(r'Series \\d{2} Episode (\\d{2})', x).group(1)))"
      ]
    },
    {
      "cell_type": "code",
      "execution_count": null,
      "id": "940553cd",
      "metadata": {
        "id": "940553cd"
      },
      "outputs": [],
      "source": [
        "df.episode_name = df.episode_name.apply(lambda x: re.match(r'^Series \\d{2} Episode \\d{2} [-–][ ]?(.*)$', x).group(1))"
      ]
    },
    {
      "cell_type": "code",
      "execution_count": null,
      "id": "22e5a1f8",
      "metadata": {
        "id": "22e5a1f8"
      },
      "outputs": [],
      "source": [
        "df[['season', 'episode', 'episode_name', 'speaker', 'dialogue']].to_csv('tbbt_1_10_w_others.csv', index=False)"
      ]
    },
    {
      "cell_type": "code",
      "source": [
        "ax = sns.countplot(x=df.speaker,\n",
        "                   order=df.speaker.value_counts(ascending=False).index);"
      ],
      "metadata": {
        "colab": {
          "base_uri": "https://localhost:8080/",
          "height": 282
        },
        "id": "mH0o6NTafE5k",
        "outputId": "f52f1d9d-1fe0-4ff0-e718-f78187243648"
      },
      "id": "mH0o6NTafE5k",
      "execution_count": null,
      "outputs": [
        {
          "output_type": "display_data",
          "data": {
            "text/plain": [
              "<Figure size 432x288 with 1 Axes>"
            ],
            "image/png": "[encoded data removed]"
          },
          "metadata": {
            "needs_background": "light"
          }
        }
      ]
    }
  ],
  "metadata": {
    "kernelspec": {
      "display_name": "Python 3 (ipykernel)",
      "language": "python",
      "name": "python3"
    },
    "language_info": {
      "codemirror_mode": {
        "name": "ipython",
        "version": 3
      },
      "file_extension": ".py",
      "mimetype": "text/x-python",
      "name": "python",
      "nbconvert_exporter": "python",
      "pygments_lexer": "ipython3",
      "version": "3.7.13"
    },
    "colab": {
      "provenance": []
    }
  },
  "nbformat": 4,
  "nbformat_minor": 5
}